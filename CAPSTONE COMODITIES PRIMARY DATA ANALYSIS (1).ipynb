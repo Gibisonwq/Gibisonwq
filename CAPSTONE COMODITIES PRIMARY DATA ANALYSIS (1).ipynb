{
 "cells": [
  {
   "cell_type": "code",
   "execution_count": 50,
   "metadata": {},
   "outputs": [],
   "source": [
    "import numpy as np \n",
    "import pandas as pd \n",
    "import matplotlib.pyplot as plt \n",
    "import seaborn as sns\n",
    "np.random.seed(42)\n",
    "pd.core.common.is_list_like=pd.api.types.is_list_like\n",
    "import pandas_datareader.data as web\n"
   ]
  },
  {
   "cell_type": "code",
   "execution_count": 51,
   "metadata": {},
   "outputs": [],
   "source": [
    "import pandas_datareader\n",
    "import pandas_datareader.data as NET\n",
    "from datetime import datetime"
   ]
  },
  {
   "cell_type": "code",
   "execution_count": 52,
   "metadata": {},
   "outputs": [
    {
     "data": {
      "text/html": [
       "<div>\n",
       "<style scoped>\n",
       "    .dataframe tbody tr th:only-of-type {\n",
       "        vertical-align: middle;\n",
       "    }\n",
       "\n",
       "    .dataframe tbody tr th {\n",
       "        vertical-align: top;\n",
       "    }\n",
       "\n",
       "    .dataframe thead th {\n",
       "        text-align: right;\n",
       "    }\n",
       "</style>\n",
       "<table border=\"1\" class=\"dataframe\">\n",
       "  <thead>\n",
       "    <tr style=\"text-align: right;\">\n",
       "      <th></th>\n",
       "      <th>date</th>\n",
       "      <th>GOLD</th>\n",
       "      <th>DJGRAIN</th>\n",
       "      <th>DJMETAL</th>\n",
       "      <th>WHEAT_F</th>\n",
       "      <th>SB_F</th>\n",
       "      <th>OIL_F</th>\n",
       "    </tr>\n",
       "  </thead>\n",
       "  <tbody>\n",
       "    <tr>\n",
       "      <th>0</th>\n",
       "      <td>8/20/2021</td>\n",
       "      <td>1784.0</td>\n",
       "      <td>262.55</td>\n",
       "      <td>214.31</td>\n",
       "      <td>715.00</td>\n",
       "      <td>1292.25</td>\n",
       "      <td>62.32</td>\n",
       "    </tr>\n",
       "    <tr>\n",
       "      <th>1</th>\n",
       "      <td>8/19/2021</td>\n",
       "      <td>1783.1</td>\n",
       "      <td>268.55</td>\n",
       "      <td>213.85</td>\n",
       "      <td>727.00</td>\n",
       "      <td>1322.00</td>\n",
       "      <td>63.69</td>\n",
       "    </tr>\n",
       "    <tr>\n",
       "      <th>2</th>\n",
       "      <td>8/18/2021</td>\n",
       "      <td>1784.4</td>\n",
       "      <td>274.61</td>\n",
       "      <td>215.75</td>\n",
       "      <td>736.12</td>\n",
       "      <td>1350.75</td>\n",
       "      <td>65.46</td>\n",
       "    </tr>\n",
       "    <tr>\n",
       "      <th>3</th>\n",
       "      <td>8/17/2021</td>\n",
       "      <td>1787.8</td>\n",
       "      <td>274.88</td>\n",
       "      <td>218.08</td>\n",
       "      <td>733.50</td>\n",
       "      <td>1363.00</td>\n",
       "      <td>66.59</td>\n",
       "    </tr>\n",
       "    <tr>\n",
       "      <th>4</th>\n",
       "      <td>8/16/2021</td>\n",
       "      <td>1789.8</td>\n",
       "      <td>278.20</td>\n",
       "      <td>219.62</td>\n",
       "      <td>761.75</td>\n",
       "      <td>1374.12</td>\n",
       "      <td>67.29</td>\n",
       "    </tr>\n",
       "    <tr>\n",
       "      <th>...</th>\n",
       "      <td>...</td>\n",
       "      <td>...</td>\n",
       "      <td>...</td>\n",
       "      <td>...</td>\n",
       "      <td>...</td>\n",
       "      <td>...</td>\n",
       "      <td>...</td>\n",
       "    </tr>\n",
       "    <tr>\n",
       "      <th>660</th>\n",
       "      <td>1/8/2019</td>\n",
       "      <td>1285.9</td>\n",
       "      <td>182.70</td>\n",
       "      <td>151.61</td>\n",
       "      <td>472.25</td>\n",
       "      <td>877.50</td>\n",
       "      <td>56.33</td>\n",
       "    </tr>\n",
       "    <tr>\n",
       "      <th>661</th>\n",
       "      <td>1/7/2019</td>\n",
       "      <td>1289.9</td>\n",
       "      <td>181.72</td>\n",
       "      <td>151.06</td>\n",
       "      <td>476.00</td>\n",
       "      <td>880.75</td>\n",
       "      <td>55.59</td>\n",
       "    </tr>\n",
       "    <tr>\n",
       "      <th>662</th>\n",
       "      <td>1/4/2019</td>\n",
       "      <td>1285.8</td>\n",
       "      <td>182.57</td>\n",
       "      <td>151.52</td>\n",
       "      <td>480.50</td>\n",
       "      <td>880.88</td>\n",
       "      <td>54.41</td>\n",
       "    </tr>\n",
       "    <tr>\n",
       "      <th>663</th>\n",
       "      <td>1/3/2019</td>\n",
       "      <td>1294.8</td>\n",
       "      <td>182.43</td>\n",
       "      <td>150.79</td>\n",
       "      <td>466.75</td>\n",
       "      <td>878.50</td>\n",
       "      <td>53.90</td>\n",
       "    </tr>\n",
       "    <tr>\n",
       "      <th>664</th>\n",
       "      <td>1/2/2019</td>\n",
       "      <td>1284.1</td>\n",
       "      <td>180.86</td>\n",
       "      <td>149.32</td>\n",
       "      <td>463.12</td>\n",
       "      <td>887.75</td>\n",
       "      <td>53.10</td>\n",
       "    </tr>\n",
       "  </tbody>\n",
       "</table>\n",
       "<p>665 rows × 7 columns</p>\n",
       "</div>"
      ],
      "text/plain": [
       "          date    GOLD  DJGRAIN  DJMETAL  WHEAT_F     SB_F  OIL_F\n",
       "0    8/20/2021  1784.0   262.55   214.31   715.00  1292.25  62.32\n",
       "1    8/19/2021  1783.1   268.55   213.85   727.00  1322.00  63.69\n",
       "2    8/18/2021  1784.4   274.61   215.75   736.12  1350.75  65.46\n",
       "3    8/17/2021  1787.8   274.88   218.08   733.50  1363.00  66.59\n",
       "4    8/16/2021  1789.8   278.20   219.62   761.75  1374.12  67.29\n",
       "..         ...     ...      ...      ...      ...      ...    ...\n",
       "660   1/8/2019  1285.9   182.70   151.61   472.25   877.50  56.33\n",
       "661   1/7/2019  1289.9   181.72   151.06   476.00   880.75  55.59\n",
       "662   1/4/2019  1285.8   182.57   151.52   480.50   880.88  54.41\n",
       "663   1/3/2019  1294.8   182.43   150.79   466.75   878.50  53.90\n",
       "664   1/2/2019  1284.1   180.86   149.32   463.12   887.75  53.10\n",
       "\n",
       "[665 rows x 7 columns]"
      ]
     },
     "execution_count": 52,
     "metadata": {},
     "output_type": "execute_result"
    }
   ],
   "source": [
    "df=pd.read_csv('COMMODITIES.csv')\n",
    "df"
   ]
  },
  {
   "cell_type": "code",
   "execution_count": 53,
   "metadata": {},
   "outputs": [
    {
     "data": {
      "text/html": [
       "<div>\n",
       "<style scoped>\n",
       "    .dataframe tbody tr th:only-of-type {\n",
       "        vertical-align: middle;\n",
       "    }\n",
       "\n",
       "    .dataframe tbody tr th {\n",
       "        vertical-align: top;\n",
       "    }\n",
       "\n",
       "    .dataframe thead th {\n",
       "        text-align: right;\n",
       "    }\n",
       "</style>\n",
       "<table border=\"1\" class=\"dataframe\">\n",
       "  <thead>\n",
       "    <tr style=\"text-align: right;\">\n",
       "      <th></th>\n",
       "      <th>GOLD</th>\n",
       "      <th>DJGRAIN</th>\n",
       "      <th>DJMETAL</th>\n",
       "      <th>WHEAT_F</th>\n",
       "      <th>SB_F</th>\n",
       "      <th>OIL_F</th>\n",
       "    </tr>\n",
       "  </thead>\n",
       "  <tbody>\n",
       "    <tr>\n",
       "      <th>count</th>\n",
       "      <td>665.000000</td>\n",
       "      <td>665.000000</td>\n",
       "      <td>665.000000</td>\n",
       "      <td>665.000000</td>\n",
       "      <td>665.000000</td>\n",
       "      <td>665.000000</td>\n",
       "    </tr>\n",
       "    <tr>\n",
       "      <th>mean</th>\n",
       "      <td>1640.063459</td>\n",
       "      <td>204.883624</td>\n",
       "      <td>177.250617</td>\n",
       "      <td>572.598301</td>\n",
       "      <td>1065.654271</td>\n",
       "      <td>52.121865</td>\n",
       "    </tr>\n",
       "    <tr>\n",
       "      <th>std</th>\n",
       "      <td>218.941554</td>\n",
       "      <td>42.058730</td>\n",
       "      <td>24.643895</td>\n",
       "      <td>73.448261</td>\n",
       "      <td>242.058007</td>\n",
       "      <td>13.230324</td>\n",
       "    </tr>\n",
       "    <tr>\n",
       "      <th>min</th>\n",
       "      <td>1272.000000</td>\n",
       "      <td>159.960000</td>\n",
       "      <td>139.120000</td>\n",
       "      <td>454.250000</td>\n",
       "      <td>803.500000</td>\n",
       "      <td>-37.630000</td>\n",
       "    </tr>\n",
       "    <tr>\n",
       "      <th>25%</th>\n",
       "      <td>1472.300000</td>\n",
       "      <td>175.050000</td>\n",
       "      <td>158.460000</td>\n",
       "      <td>513.500000</td>\n",
       "      <td>879.000000</td>\n",
       "      <td>41.900000</td>\n",
       "    </tr>\n",
       "    <tr>\n",
       "      <th>50%</th>\n",
       "      <td>1704.800000</td>\n",
       "      <td>183.580000</td>\n",
       "      <td>163.600000</td>\n",
       "      <td>551.000000</td>\n",
       "      <td>922.500000</td>\n",
       "      <td>55.590000</td>\n",
       "    </tr>\n",
       "    <tr>\n",
       "      <th>75%</th>\n",
       "      <td>1823.200000</td>\n",
       "      <td>232.890000</td>\n",
       "      <td>201.050000</td>\n",
       "      <td>634.620000</td>\n",
       "      <td>1338.120000</td>\n",
       "      <td>61.040000</td>\n",
       "    </tr>\n",
       "    <tr>\n",
       "      <th>max</th>\n",
       "      <td>2069.400000</td>\n",
       "      <td>321.550000</td>\n",
       "      <td>227.800000</td>\n",
       "      <td>763.000000</td>\n",
       "      <td>1641.000000</td>\n",
       "      <td>76.250000</td>\n",
       "    </tr>\n",
       "  </tbody>\n",
       "</table>\n",
       "</div>"
      ],
      "text/plain": [
       "              GOLD     DJGRAIN     DJMETAL     WHEAT_F         SB_F  \\\n",
       "count   665.000000  665.000000  665.000000  665.000000   665.000000   \n",
       "mean   1640.063459  204.883624  177.250617  572.598301  1065.654271   \n",
       "std     218.941554   42.058730   24.643895   73.448261   242.058007   \n",
       "min    1272.000000  159.960000  139.120000  454.250000   803.500000   \n",
       "25%    1472.300000  175.050000  158.460000  513.500000   879.000000   \n",
       "50%    1704.800000  183.580000  163.600000  551.000000   922.500000   \n",
       "75%    1823.200000  232.890000  201.050000  634.620000  1338.120000   \n",
       "max    2069.400000  321.550000  227.800000  763.000000  1641.000000   \n",
       "\n",
       "            OIL_F  \n",
       "count  665.000000  \n",
       "mean    52.121865  \n",
       "std     13.230324  \n",
       "min    -37.630000  \n",
       "25%     41.900000  \n",
       "50%     55.590000  \n",
       "75%     61.040000  \n",
       "max     76.250000  "
      ]
     },
     "execution_count": 53,
     "metadata": {},
     "output_type": "execute_result"
    }
   ],
   "source": [
    "df.describe()"
   ]
  },
  {
   "cell_type": "code",
   "execution_count": 54,
   "metadata": {},
   "outputs": [],
   "source": [
    "#returns calculation\n",
    "DJGRAIN_RETURNS= df['DJGRAIN'].pct_change(1)\n",
    "DJMETAL_RETURNS = df['DJMETAL'].pct_change(1)\n",
    "WHEAT_F_RETURNS = df['WHEAT_F'].pct_change(1)\n",
    "OIL_F_RETURNS = df['OIL_F'].pct_change(1)\n",
    "GOLD_RETURNS = df['GOLD'].pct_change(1)\n"
   ]
  },
  {
   "cell_type": "code",
   "execution_count": 55,
   "metadata": {},
   "outputs": [],
   "source": [
    "## QQ PLOTS \n",
    "import statsmodels.api as sm\n",
    "import pylab as py"
   ]
  },
  {
   "cell_type": "code",
   "execution_count": 56,
   "metadata": {},
   "outputs": [
    {
     "data": {
      "image/png": "[encoded data removed]",
      "text/plain": [
       "<Figure size 432x288 with 1 Axes>"
      ]
     },
     "metadata": {
      "needs_background": "light"
     },
     "output_type": "display_data"
    },
    {
     "data": {
      "image/png": "[encoded data removed]",
      "text/plain": [
       "<Figure size 432x288 with 1 Axes>"
      ]
     },
     "metadata": {
      "needs_background": "light"
     },
     "output_type": "display_data"
    },
    {
     "data": {
      "image/png": "[encoded data removed]",
      "text/plain": [
       "<Figure size 432x288 with 1 Axes>"
      ]
     },
     "metadata": {
      "needs_background": "light"
     },
     "output_type": "display_data"
    },
    {
     "data": {
      "image/png": "[encoded data removed]",
      "text/plain": [
       "<Figure size 432x288 with 1 Axes>"
      ]
     },
     "metadata": {
      "needs_background": "light"
     },
     "output_type": "display_data"
    }
   ],
   "source": [
    "sm.qqplot(DJGRAIN_RETURNS, line ='45')\n",
    "py.show()\n",
    "sm.qqplot(DJMETAL_RETURNS, line ='45')\n",
    "py.show()\n",
    "sm.qqplot(WHEAT_F_RETURNS, line ='45')\n",
    "py.show()\n",
    "sm.qqplot(OIL_F_RETURNS, line ='45')\n",
    "py.show()"
   ]
  },
  {
   "cell_type": "code",
   "execution_count": 57,
   "metadata": {},
   "outputs": [
    {
     "data": {
      "image/png": "[encoded data removed]",
      "text/plain": [
       "<Figure size 432x288 with 1 Axes>"
      ]
     },
     "metadata": {
      "needs_background": "light"
     },
     "output_type": "display_data"
    },
    {
     "data": {
      "image/png": "[encoded data removed]",
      "text/plain": [
       "<Figure size 432x288 with 1 Axes>"
      ]
     },
     "metadata": {
      "needs_background": "light"
     },
     "output_type": "display_data"
    },
    {
     "data": {
      "image/png": "[encoded data removed]",
      "text/plain": [
       "<Figure size 432x288 with 1 Axes>"
      ]
     },
     "metadata": {
      "needs_background": "light"
     },
     "output_type": "display_data"
    },
    {
     "data": {
      "image/png": "[encoded data removed]",
      "text/plain": [
       "<Figure size 432x288 with 1 Axes>"
      ]
     },
     "metadata": {
      "needs_background": "light"
     },
     "output_type": "display_data"
    }
   ],
   "source": [
    "# DENSITY PLOTS \n",
    "df.DJGRAIN.plot.density(color='green')\n",
    "plt.title('Density Plot for GRAINS')\n",
    "plt.show()\n",
    "\n",
    "df.DJMETAL.plot.density(color='green')\n",
    "plt.title('Density Plot for METALS')\n",
    "plt.show()\n",
    " \n",
    "df.WHEAT_F.plot.density(color='green')\n",
    "plt.title('Density Plot for WHEAT')\n",
    "plt.show()\n",
    "\n",
    "df.OIL_F.plot.density(color='green')\n",
    "plt.title('Density Plot for OIL')\n",
    "plt.show()"
   ]
  },
  {
   "cell_type": "code",
   "execution_count": 58,
   "metadata": {},
   "outputs": [
    {
     "name": "stdout",
     "output_type": "stream",
     "text": [
      "DJGRAIN RETURNS kurtosis is 3.8942361011984827\n",
      "DJMETAL RETURNS kurtosis is 2.630524398020648\n",
      "WHEAT_F  RETURNS kurtosis is 0.6740046852272568\n",
      "OIL_F  RETURNS kurtosis is 511.23415109161397\n"
     ]
    }
   ],
   "source": [
    "##kurtosis\n",
    "from scipy.stats import kurtosis\n",
    "print(\"DJGRAIN RETURNS kurtosis is % s\" \n",
    "                              %(DJGRAIN_RETURNS.kurtosis()))\n",
    "print(\"DJMETAL RETURNS kurtosis is % s\" \n",
    "                              %(DJMETAL_RETURNS.kurtosis()))\n",
    "\n",
    "print(\"WHEAT_F  RETURNS kurtosis is % s\" \n",
    "                              %(WHEAT_F_RETURNS.kurtosis()))\n",
    "print(\"OIL_F  RETURNS kurtosis is % s\" \n",
    "                              %(OIL_F_RETURNS.kurtosis()))"
   ]
  },
  {
   "cell_type": "code",
   "execution_count": 59,
   "metadata": {},
   "outputs": [
    {
     "name": "stdout",
     "output_type": "stream",
     "text": [
      "stat=nan,p=1.000\n",
      "\n",
      "DJGRAIN RETURNS data is normally distributed\n",
      "stat=nan,p=1.000\n",
      "\n",
      "EDJMETAL_RETURNS data is normally distributed\n",
      "stat=nan,p=1.000\n",
      "\n",
      "WHEAT_F_RETURNS data is normally distributed\n",
      "stat=nan,p=1.000\n",
      "\n",
      "OIL_F_RETURNS data is normally distributed\n"
     ]
    }
   ],
   "source": [
    "##test whether the distribution fits a normal  for both the chosen series\n",
    "#test for normality :The Shapiro-Wilk  first series\n",
    "from scipy.stats import shapiro\n",
    "from scipy.stats import shapiro\n",
    "\n",
    "N1=DJGRAIN_RETURNS\n",
    "stat,p=shapiro(N1)\n",
    "print('stat=%.3f,p=%.3f\\n'%(stat,p))\n",
    "if p>0.05:\n",
    "    print('DJGRAIN RETURNS data is normally distributed')\n",
    "    \n",
    "else:\n",
    "    print('DJGRAIN RETURNS data is not  normally distributed')\n",
    " \n",
    " \n",
    "from scipy.stats import shapiro\n",
    "from scipy.stats import shapiro\n",
    "\n",
    "N1=DJMETAL_RETURNS\n",
    "stat,p=shapiro(N1)\n",
    "print('stat=%.3f,p=%.3f\\n'%(stat,p))\n",
    "if p>0.05:\n",
    "    print('EDJMETAL_RETURNS data is normally distributed')\n",
    "    \n",
    "else:\n",
    "    print('DJMETAL_RETURNS data is not  normally distributed')\n",
    "    \n",
    "    \n",
    "from scipy.stats import shapiro\n",
    "from scipy.stats import shapiro\n",
    "\n",
    "N1=WHEAT_F_RETURNS\n",
    "stat,p=shapiro(N1)\n",
    "print('stat=%.3f,p=%.3f\\n'%(stat,p))\n",
    "if p>0.05:\n",
    "    print('WHEAT_F_RETURNS data is normally distributed')\n",
    "    \n",
    "else:\n",
    "    print('WHEAT_F_RETURNS data is not  normally distributed')\n",
    " \n",
    "\n",
    "from scipy.stats import shapiro\n",
    "from scipy.stats import shapiro\n",
    "\n",
    "N1=OIL_F_RETURNS\n",
    "stat,p=shapiro(N1)\n",
    "print('stat=%.3f,p=%.3f\\n'%(stat,p))\n",
    "if p>0.05:\n",
    "    print('OIL_F_RETURNS data is normally distributed')\n",
    "    \n",
    "else:\n",
    "    print('OIL_F_RETURNS data is not  normally distributed')\n",
    " \n",
    " \n",
    "\n"
   ]
  },
  {
   "cell_type": "code",
   "execution_count": 60,
   "metadata": {},
   "outputs": [
    {
     "name": "stderr",
     "output_type": "stream",
     "text": [
      "C:\\Users\\Gibson\\anaconda3\\lib\\site-packages\\pandas\\plotting\\_matplotlib\\tools.py:331: MatplotlibDeprecationWarning: \n",
      "The is_first_col function was deprecated in Matplotlib 3.4 and will be removed two minor releases later. Use ax.get_subplotspec().is_first_col() instead.\n",
      "  if ax.is_first_col():\n"
     ]
    },
    {
     "data": {
      "image/png": "[encoded data removed]",
      "text/plain": [
       "<Figure size 432x288 with 16 Axes>"
      ]
     },
     "metadata": {
      "needs_background": "light"
     },
     "output_type": "display_data"
    }
   ],
   "source": [
    "import matplotlib.pyplot as plt\n",
    "from pandas.plotting import scatter_matrix   \n",
    "  \n",
    "# selecting numerical features\n",
    "features = ['DJGRAIN', 'DJMETAL',\n",
    "            'WHEAT_F','OIL_F']\n",
    "   \n",
    "# plotting the scatter matrix\n",
    "# with the features\n",
    "scatter_matrix(df[features])\n",
    "plt.show()"
   ]
  },
  {
   "cell_type": "code",
   "execution_count": 61,
   "metadata": {},
   "outputs": [],
   "source": [
    "import os\n",
    "import pickle\n",
    "from functools import reduce\n",
    "from operator import mul\n",
    "\n",
    "import pandas as pd\n",
    "import numpy as np\n",
    "\n",
    "from statsmodels.regression.linear_model import OLS\n",
    "from sklearn import linear_model\n",
    "from sklearn.decomposition import PCA\n",
    "\n",
    "import holoviews as hv\n",
    "import hvplot\n",
    "import hvplot.pandas\n",
    "\n",
    "import matplotlib.pyplot as plt\n",
    "import seaborn as sns"
   ]
  },
  {
   "cell_type": "code",
   "execution_count": 62,
   "metadata": {},
   "outputs": [],
   "source": [
    "#Construct the Correlation Matrix\n",
    "corr_matrix = df.corr(method='pearson')\n",
    "corr_matrix = np.abs(corr_matrix) * 100\n"
   ]
  },
  {
   "cell_type": "code",
   "execution_count": 63,
   "metadata": {},
   "outputs": [
    {
     "data": {
      "image/png": "[encoded data removed]",
      "text/plain": [
       "<Figure size 576x576 with 2 Axes>"
      ]
     },
     "metadata": {
      "needs_background": "light"
     },
     "output_type": "display_data"
    }
   ],
   "source": [
    "#Plot a Correlation Matrix Heat Map\n",
    "f, ax = plt.subplots(figsize=(8,8))\n",
    "sns.heatmap(corr_matrix , cbar=True, annot=True, square=True,\n",
    "            fmt='.0f', annot_kws={'size':8}, alpha=0.6)\n",
    "plt.title('Correlation of COMMODITIES', fontsize=16)\n",
    "plt.show()"
   ]
  },
  {
   "cell_type": "code",
   "execution_count": 64,
   "metadata": {},
   "outputs": [],
   "source": [
    "DJGRAIN_RETURNS_JB = sm.stats.stattools.jarque_bera(DJGRAIN_RETURNS.fillna(DJGRAIN_RETURNS.mean()).dropna())\n",
    "DJMETAL_RETURNS_JB = sm.stats.stattools.jarque_bera(DJMETAL_RETURNS.fillna(DJMETAL_RETURNS.mean()).dropna())\n",
    "WHEAT_F_RETURNS_JB = sm.stats.stattools.jarque_bera(WHEAT_F_RETURNS.fillna(WHEAT_F_RETURNS.mean()).dropna())\n",
    "OIL_F_RETURNS_JB = sm.stats.stattools.jarque_bera(OIL_F_RETURNS.fillna(OIL_F_RETURNS.mean()).dropna())"
   ]
  },
  {
   "cell_type": "code",
   "execution_count": 65,
   "metadata": {},
   "outputs": [
    {
     "name": "stdout",
     "output_type": "stream",
     "text": [
      "Jarque Bera results for COMMODITIES returns: \n",
      "DJGRAIN_RETURNS  - 414.5550100146193\n",
      "DJMETAL_RETURNS    - 233.5811171302206\n",
      "WHEAT_F_RETURNS    - 20.694835641250435\n",
      "OIL_F_RETURNS    - 7206688.329837834\n"
     ]
    }
   ],
   "source": [
    "print('Jarque Bera results for COMMODITIES returns: \\nDJGRAIN_RETURNS  - ' + str(DJGRAIN_RETURNS_JB[0]) + '\\nDJMETAL_RETURNS    - '+ str(DJMETAL_RETURNS_JB[0])+ '\\nWHEAT_F_RETURNS    - '+ str(WHEAT_F_RETURNS_JB[0])+ '\\nOIL_F_RETURNS    - '+ str(OIL_F_RETURNS_JB[0]) )"
   ]
  },
  {
   "cell_type": "code",
   "execution_count": 66,
   "metadata": {},
   "outputs": [],
   "source": [
    "DJGRAIN= df['DJGRAIN']\n",
    "DJMETAL= df['DJMETAL']\n",
    "WHEAT_F= df['WHEAT_F']\n",
    "OIL_F= df['OIL_F']\n",
    "Date=df['date']\n"
   ]
  },
  {
   "cell_type": "code",
   "execution_count": 67,
   "metadata": {},
   "outputs": [],
   "source": [
    "DJGRAIN_JB = sm.stats.stattools.jarque_bera(DJGRAIN.fillna(DJGRAIN.mean()).dropna())\n",
    "DJMETAL_JB = sm.stats.stattools.jarque_bera(DJMETAL.fillna(DJMETAL.mean()).dropna())\n",
    "WHEAT_F_JB = sm.stats.stattools.jarque_bera(WHEAT_F.fillna(WHEAT_F.mean()).dropna())\n",
    "OIL_F_JB = sm.stats.stattools.jarque_bera(OIL_F.fillna(OIL_F.mean()).dropna())"
   ]
  },
  {
   "cell_type": "code",
   "execution_count": 68,
   "metadata": {},
   "outputs": [
    {
     "name": "stdout",
     "output_type": "stream",
     "text": [
      "Jarque Bera results for COMMODITIES: \n",
      "DJGRAIN  - 131.08406690226786\n",
      "DJMETAL    - 74.2902504859039\n",
      "WHEAT_F    - 52.819502205185806\n",
      "OIL_F    - 392.20999792347965\n"
     ]
    }
   ],
   "source": [
    "print('Jarque Bera results for COMMODITIES: \\nDJGRAIN  - ' + str(DJGRAIN_JB[0]) + '\\nDJMETAL    - '+ str(DJMETAL_JB[0])+ '\\nWHEAT_F    - '+ str(WHEAT_F_JB[0])+ '\\nOIL_F    - '+ str(OIL_F_JB[0]) )"
   ]
  },
  {
   "cell_type": "code",
   "execution_count": 69,
   "metadata": {},
   "outputs": [],
   "source": [
    "## Testing for Stationarity of Return Series"
   ]
  },
  {
   "cell_type": "code",
   "execution_count": 70,
   "metadata": {},
   "outputs": [],
   "source": [
    "from statsmodels.tsa.stattools import adfuller\n",
    "from statsmodels.graphics.tsaplots import plot_acf,plot_pacf"
   ]
  },
  {
   "cell_type": "code",
   "execution_count": 71,
   "metadata": {},
   "outputs": [
    {
     "data": {
      "image/png": "[encoded data removed]",
      "text/plain": [
       "<Figure size 1152x288 with 2 Axes>"
      ]
     },
     "metadata": {
      "needs_background": "light"
     },
     "output_type": "display_data"
    }
   ],
   "source": [
    "fig, ax = plt.subplots(1,2,figsize=(16,4))\n",
    "plot_acf(DJGRAIN.dropna(), ax=ax[0])\n",
    "plot_pacf(DJGRAIN.dropna(), ax=ax[1])\n",
    "plt.show()"
   ]
  },
  {
   "cell_type": "code",
   "execution_count": 72,
   "metadata": {},
   "outputs": [
    {
     "data": {
      "image/png": "[encoded data removed]",
      "text/plain": [
       "<Figure size 1152x288 with 2 Axes>"
      ]
     },
     "metadata": {
      "needs_background": "light"
     },
     "output_type": "display_data"
    }
   ],
   "source": [
    "fig, ax = plt.subplots(1,2,figsize=(16,4))\n",
    "plot_acf(DJGRAIN_RETURNS.dropna(), ax=ax[0])\n",
    "plot_pacf(DJGRAIN_RETURNS.dropna(), ax=ax[1])\n",
    "plt.show()"
   ]
  },
  {
   "cell_type": "code",
   "execution_count": 73,
   "metadata": {},
   "outputs": [
    {
     "data": {
      "image/png": "[encoded data removed]",
      "text/plain": [
       "<Figure size 1152x288 with 2 Axes>"
      ]
     },
     "metadata": {
      "needs_background": "light"
     },
     "output_type": "display_data"
    }
   ],
   "source": [
    "fig, ax = plt.subplots(1,2,figsize=(16,4))\n",
    "plot_acf(DJMETAL.dropna(), ax=ax[0])\n",
    "plot_pacf(DJMETAL.dropna(), ax=ax[1])\n",
    "plt.show()"
   ]
  },
  {
   "cell_type": "code",
   "execution_count": 74,
   "metadata": {},
   "outputs": [
    {
     "data": {
      "image/png": "[encoded data removed]",
      "text/plain": [
       "<Figure size 1152x288 with 2 Axes>"
      ]
     },
     "metadata": {
      "needs_background": "light"
     },
     "output_type": "display_data"
    }
   ],
   "source": [
    "fig, ax = plt.subplots(1,2,figsize=(16,4))\n",
    "plot_acf(DJMETAL_RETURNS.dropna(), ax=ax[0])\n",
    "plot_pacf(DJMETAL_RETURNS.dropna(), ax=ax[1])\n",
    "plt.show()"
   ]
  },
  {
   "cell_type": "code",
   "execution_count": 75,
   "metadata": {},
   "outputs": [
    {
     "data": {
      "image/png": "[encoded data removed]",
      "text/plain": [
       "<Figure size 1152x288 with 2 Axes>"
      ]
     },
     "metadata": {
      "needs_background": "light"
     },
     "output_type": "display_data"
    }
   ],
   "source": [
    "fig, ax = plt.subplots(1,2,figsize=(16,4))\n",
    "plot_acf(WHEAT_F.dropna(), ax=ax[0])\n",
    "plot_pacf(WHEAT_F.dropna(), ax=ax[1])\n",
    "plt.show()"
   ]
  },
  {
   "cell_type": "code",
   "execution_count": 76,
   "metadata": {},
   "outputs": [
    {
     "data": {
      "image/png": "[encoded data removed]",
      "text/plain": [
       "<Figure size 1152x288 with 2 Axes>"
      ]
     },
     "metadata": {
      "needs_background": "light"
     },
     "output_type": "display_data"
    }
   ],
   "source": [
    "fig, ax = plt.subplots(1,2,figsize=(16,4))\n",
    "plot_acf(WHEAT_F_RETURNS.dropna(), ax=ax[0])\n",
    "plot_pacf(WHEAT_F_RETURNS.dropna(), ax=ax[1])\n",
    "plt.show()"
   ]
  },
  {
   "cell_type": "code",
   "execution_count": 77,
   "metadata": {},
   "outputs": [
    {
     "data": {
      "image/png": "[encoded data removed]",
      "text/plain": [
       "<Figure size 1152x288 with 2 Axes>"
      ]
     },
     "metadata": {
      "needs_background": "light"
     },
     "output_type": "display_data"
    }
   ],
   "source": [
    "fig, ax = plt.subplots(1,2,figsize=(16,4))\n",
    "plot_acf(OIL_F.dropna(), ax=ax[0])\n",
    "plot_pacf(OIL_F.dropna(), ax=ax[1])\n",
    "plt.show()"
   ]
  },
  {
   "cell_type": "code",
   "execution_count": 78,
   "metadata": {},
   "outputs": [
    {
     "data": {
      "image/png": "[encoded data removed]",
      "text/plain": [
       "<Figure size 1152x288 with 2 Axes>"
      ]
     },
     "metadata": {
      "needs_background": "light"
     },
     "output_type": "display_data"
    }
   ],
   "source": [
    "fig, ax = plt.subplots(1,2,figsize=(16,4))\n",
    "plot_acf(OIL_F_RETURNS.dropna(), ax=ax[0])\n",
    "plot_pacf(OIL_F_RETURNS.dropna(), ax=ax[1])\n",
    "plt.show()"
   ]
  },
  {
   "cell_type": "code",
   "execution_count": 79,
   "metadata": {},
   "outputs": [
    {
     "data": {
      "text/html": [
       "<div>\n",
       "<style scoped>\n",
       "    .dataframe tbody tr th:only-of-type {\n",
       "        vertical-align: middle;\n",
       "    }\n",
       "\n",
       "    .dataframe tbody tr th {\n",
       "        vertical-align: top;\n",
       "    }\n",
       "\n",
       "    .dataframe thead th {\n",
       "        text-align: right;\n",
       "    }\n",
       "</style>\n",
       "<table border=\"1\" class=\"dataframe\">\n",
       "  <thead>\n",
       "    <tr style=\"text-align: right;\">\n",
       "      <th></th>\n",
       "      <th>DJGRAIN</th>\n",
       "      <th>DJMETAL</th>\n",
       "      <th>WHEAT_F</th>\n",
       "      <th>OIL_F</th>\n",
       "      <th>GOLD</th>\n",
       "    </tr>\n",
       "    <tr>\n",
       "      <th>date</th>\n",
       "      <th></th>\n",
       "      <th></th>\n",
       "      <th></th>\n",
       "      <th></th>\n",
       "      <th></th>\n",
       "    </tr>\n",
       "  </thead>\n",
       "  <tbody>\n",
       "    <tr>\n",
       "      <th>8/19/2021</th>\n",
       "      <td>0.022853</td>\n",
       "      <td>-0.002146</td>\n",
       "      <td>0.016783</td>\n",
       "      <td>0.021983</td>\n",
       "      <td>-0.000504</td>\n",
       "    </tr>\n",
       "    <tr>\n",
       "      <th>8/18/2021</th>\n",
       "      <td>0.022566</td>\n",
       "      <td>0.008885</td>\n",
       "      <td>0.012545</td>\n",
       "      <td>0.027791</td>\n",
       "      <td>0.000729</td>\n",
       "    </tr>\n",
       "    <tr>\n",
       "      <th>8/17/2021</th>\n",
       "      <td>0.000983</td>\n",
       "      <td>0.010800</td>\n",
       "      <td>-0.003559</td>\n",
       "      <td>0.017262</td>\n",
       "      <td>0.001905</td>\n",
       "    </tr>\n",
       "    <tr>\n",
       "      <th>8/16/2021</th>\n",
       "      <td>0.012078</td>\n",
       "      <td>0.007062</td>\n",
       "      <td>0.038514</td>\n",
       "      <td>0.010512</td>\n",
       "      <td>0.001119</td>\n",
       "    </tr>\n",
       "    <tr>\n",
       "      <th>8/13/2021</th>\n",
       "      <td>0.001438</td>\n",
       "      <td>0.001320</td>\n",
       "      <td>0.000985</td>\n",
       "      <td>0.017090</td>\n",
       "      <td>-0.006481</td>\n",
       "    </tr>\n",
       "    <tr>\n",
       "      <th>...</th>\n",
       "      <td>...</td>\n",
       "      <td>...</td>\n",
       "      <td>...</td>\n",
       "      <td>...</td>\n",
       "      <td>...</td>\n",
       "    </tr>\n",
       "    <tr>\n",
       "      <th>1/8/2019</th>\n",
       "      <td>0.016694</td>\n",
       "      <td>0.002712</td>\n",
       "      <td>0.006393</td>\n",
       "      <td>0.001066</td>\n",
       "      <td>-0.004721</td>\n",
       "    </tr>\n",
       "    <tr>\n",
       "      <th>1/7/2019</th>\n",
       "      <td>-0.005364</td>\n",
       "      <td>-0.003628</td>\n",
       "      <td>0.007941</td>\n",
       "      <td>-0.013137</td>\n",
       "      <td>0.003111</td>\n",
       "    </tr>\n",
       "    <tr>\n",
       "      <th>1/4/2019</th>\n",
       "      <td>0.004678</td>\n",
       "      <td>0.003045</td>\n",
       "      <td>0.009454</td>\n",
       "      <td>-0.021227</td>\n",
       "      <td>-0.003179</td>\n",
       "    </tr>\n",
       "    <tr>\n",
       "      <th>1/3/2019</th>\n",
       "      <td>-0.000767</td>\n",
       "      <td>-0.004818</td>\n",
       "      <td>-0.028616</td>\n",
       "      <td>-0.009373</td>\n",
       "      <td>0.007000</td>\n",
       "    </tr>\n",
       "    <tr>\n",
       "      <th>1/2/2019</th>\n",
       "      <td>-0.008606</td>\n",
       "      <td>-0.009749</td>\n",
       "      <td>-0.007777</td>\n",
       "      <td>-0.014842</td>\n",
       "      <td>-0.008264</td>\n",
       "    </tr>\n",
       "  </tbody>\n",
       "</table>\n",
       "<p>664 rows × 5 columns</p>\n",
       "</div>"
      ],
      "text/plain": [
       "            DJGRAIN   DJMETAL   WHEAT_F     OIL_F      GOLD\n",
       "date                                                       \n",
       "8/19/2021  0.022853 -0.002146  0.016783  0.021983 -0.000504\n",
       "8/18/2021  0.022566  0.008885  0.012545  0.027791  0.000729\n",
       "8/17/2021  0.000983  0.010800 -0.003559  0.017262  0.001905\n",
       "8/16/2021  0.012078  0.007062  0.038514  0.010512  0.001119\n",
       "8/13/2021  0.001438  0.001320  0.000985  0.017090 -0.006481\n",
       "...             ...       ...       ...       ...       ...\n",
       "1/8/2019   0.016694  0.002712  0.006393  0.001066 -0.004721\n",
       "1/7/2019  -0.005364 -0.003628  0.007941 -0.013137  0.003111\n",
       "1/4/2019   0.004678  0.003045  0.009454 -0.021227 -0.003179\n",
       "1/3/2019  -0.000767 -0.004818 -0.028616 -0.009373  0.007000\n",
       "1/2/2019  -0.008606 -0.009749 -0.007777 -0.014842 -0.008264\n",
       "\n",
       "[664 rows x 5 columns]"
      ]
     },
     "execution_count": 79,
     "metadata": {},
     "output_type": "execute_result"
    }
   ],
   "source": [
    "df4r=pd.concat([DJGRAIN_RETURNS,DJMETAL_RETURNS,WHEAT_F_RETURNS,OIL_F_RETURNS,GOLD_RETURNS,Date], axis=1)\n",
    "df4r = df4r.set_index('date')\n",
    "df4r.dropna()"
   ]
  },
  {
   "cell_type": "code",
   "execution_count": 80,
   "metadata": {},
   "outputs": [
    {
     "data": {
      "text/html": [
       "<div>\n",
       "<style scoped>\n",
       "    .dataframe tbody tr th:only-of-type {\n",
       "        vertical-align: middle;\n",
       "    }\n",
       "\n",
       "    .dataframe tbody tr th {\n",
       "        vertical-align: top;\n",
       "    }\n",
       "\n",
       "    .dataframe thead th {\n",
       "        text-align: right;\n",
       "    }\n",
       "</style>\n",
       "<table border=\"1\" class=\"dataframe\">\n",
       "  <thead>\n",
       "    <tr style=\"text-align: right;\">\n",
       "      <th></th>\n",
       "      <th>DJGRAIN</th>\n",
       "      <th>DJMETAL</th>\n",
       "      <th>WHEAT_F</th>\n",
       "      <th>OIL_F</th>\n",
       "      <th>GOLD</th>\n",
       "    </tr>\n",
       "    <tr>\n",
       "      <th>date</th>\n",
       "      <th></th>\n",
       "      <th></th>\n",
       "      <th></th>\n",
       "      <th></th>\n",
       "      <th></th>\n",
       "    </tr>\n",
       "  </thead>\n",
       "  <tbody>\n",
       "    <tr>\n",
       "      <th>1/22/2020</th>\n",
       "      <td>-0.002509</td>\n",
       "      <td>0.007773</td>\n",
       "      <td>-0.010278</td>\n",
       "      <td>-0.012104</td>\n",
       "      <td>-0.009481</td>\n",
       "    </tr>\n",
       "    <tr>\n",
       "      <th>1/21/2020</th>\n",
       "      <td>0.001926</td>\n",
       "      <td>0.005587</td>\n",
       "      <td>0.009924</td>\n",
       "      <td>-0.004862</td>\n",
       "      <td>-0.000193</td>\n",
       "    </tr>\n",
       "    <tr>\n",
       "      <th>1/17/2020</th>\n",
       "      <td>0.005181</td>\n",
       "      <td>0.004046</td>\n",
       "      <td>0.009352</td>\n",
       "      <td>-0.024038</td>\n",
       "      <td>0.001542</td>\n",
       "    </tr>\n",
       "    <tr>\n",
       "      <th>1/16/2020</th>\n",
       "      <td>-0.016471</td>\n",
       "      <td>-0.003008</td>\n",
       "      <td>-0.030292</td>\n",
       "      <td>-0.007409</td>\n",
       "      <td>-0.005325</td>\n",
       "    </tr>\n",
       "    <tr>\n",
       "      <th>1/15/2020</th>\n",
       "      <td>0.015720</td>\n",
       "      <td>0.002172</td>\n",
       "      <td>-0.000933</td>\n",
       "      <td>0.015130</td>\n",
       "      <td>0.002257</td>\n",
       "    </tr>\n",
       "    <tr>\n",
       "      <th>...</th>\n",
       "      <td>...</td>\n",
       "      <td>...</td>\n",
       "      <td>...</td>\n",
       "      <td>...</td>\n",
       "      <td>...</td>\n",
       "    </tr>\n",
       "    <tr>\n",
       "      <th>1/8/2019</th>\n",
       "      <td>0.016694</td>\n",
       "      <td>0.002712</td>\n",
       "      <td>0.006393</td>\n",
       "      <td>0.001066</td>\n",
       "      <td>-0.004721</td>\n",
       "    </tr>\n",
       "    <tr>\n",
       "      <th>1/7/2019</th>\n",
       "      <td>-0.005364</td>\n",
       "      <td>-0.003628</td>\n",
       "      <td>0.007941</td>\n",
       "      <td>-0.013137</td>\n",
       "      <td>0.003111</td>\n",
       "    </tr>\n",
       "    <tr>\n",
       "      <th>1/4/2019</th>\n",
       "      <td>0.004678</td>\n",
       "      <td>0.003045</td>\n",
       "      <td>0.009454</td>\n",
       "      <td>-0.021227</td>\n",
       "      <td>-0.003179</td>\n",
       "    </tr>\n",
       "    <tr>\n",
       "      <th>1/3/2019</th>\n",
       "      <td>-0.000767</td>\n",
       "      <td>-0.004818</td>\n",
       "      <td>-0.028616</td>\n",
       "      <td>-0.009373</td>\n",
       "      <td>0.007000</td>\n",
       "    </tr>\n",
       "    <tr>\n",
       "      <th>1/2/2019</th>\n",
       "      <td>-0.008606</td>\n",
       "      <td>-0.009749</td>\n",
       "      <td>-0.007777</td>\n",
       "      <td>-0.014842</td>\n",
       "      <td>-0.008264</td>\n",
       "    </tr>\n",
       "  </tbody>\n",
       "</table>\n",
       "<p>266 rows × 5 columns</p>\n",
       "</div>"
      ],
      "text/plain": [
       "            DJGRAIN   DJMETAL   WHEAT_F     OIL_F      GOLD\n",
       "date                                                       \n",
       "1/22/2020 -0.002509  0.007773 -0.010278 -0.012104 -0.009481\n",
       "1/21/2020  0.001926  0.005587  0.009924 -0.004862 -0.000193\n",
       "1/17/2020  0.005181  0.004046  0.009352 -0.024038  0.001542\n",
       "1/16/2020 -0.016471 -0.003008 -0.030292 -0.007409 -0.005325\n",
       "1/15/2020  0.015720  0.002172 -0.000933  0.015130  0.002257\n",
       "...             ...       ...       ...       ...       ...\n",
       "1/8/2019   0.016694  0.002712  0.006393  0.001066 -0.004721\n",
       "1/7/2019  -0.005364 -0.003628  0.007941 -0.013137  0.003111\n",
       "1/4/2019   0.004678  0.003045  0.009454 -0.021227 -0.003179\n",
       "1/3/2019  -0.000767 -0.004818 -0.028616 -0.009373  0.007000\n",
       "1/2/2019  -0.008606 -0.009749 -0.007777 -0.014842 -0.008264\n",
       "\n",
       "[266 rows x 5 columns]"
      ]
     },
     "execution_count": 80,
     "metadata": {},
     "output_type": "execute_result"
    }
   ],
   "source": [
    "dfb4covid=df4r.iloc[399:668]\n",
    "dfb4covid"
   ]
  },
  {
   "cell_type": "code",
   "execution_count": 81,
   "metadata": {},
   "outputs": [
    {
     "data": {
      "text/html": [
       "<div>\n",
       "<style scoped>\n",
       "    .dataframe tbody tr th:only-of-type {\n",
       "        vertical-align: middle;\n",
       "    }\n",
       "\n",
       "    .dataframe tbody tr th {\n",
       "        vertical-align: top;\n",
       "    }\n",
       "\n",
       "    .dataframe thead th {\n",
       "        text-align: right;\n",
       "    }\n",
       "</style>\n",
       "<table border=\"1\" class=\"dataframe\">\n",
       "  <thead>\n",
       "    <tr style=\"text-align: right;\">\n",
       "      <th></th>\n",
       "      <th>DJGRAIN</th>\n",
       "      <th>DJMETAL</th>\n",
       "      <th>WHEAT_F</th>\n",
       "      <th>OIL_F</th>\n",
       "      <th>GOLD</th>\n",
       "    </tr>\n",
       "  </thead>\n",
       "  <tbody>\n",
       "    <tr>\n",
       "      <th>count</th>\n",
       "      <td>266.000000</td>\n",
       "      <td>266.000000</td>\n",
       "      <td>266.000000</td>\n",
       "      <td>266.000000</td>\n",
       "      <td>266.000000</td>\n",
       "    </tr>\n",
       "    <tr>\n",
       "      <th>mean</th>\n",
       "      <td>-0.000082</td>\n",
       "      <td>-0.000321</td>\n",
       "      <td>-0.000515</td>\n",
       "      <td>0.000284</td>\n",
       "      <td>-0.000730</td>\n",
       "    </tr>\n",
       "    <tr>\n",
       "      <th>std</th>\n",
       "      <td>0.010072</td>\n",
       "      <td>0.005885</td>\n",
       "      <td>0.015239</td>\n",
       "      <td>0.020444</td>\n",
       "      <td>0.007594</td>\n",
       "    </tr>\n",
       "    <tr>\n",
       "      <th>min</th>\n",
       "      <td>-0.033484</td>\n",
       "      <td>-0.018684</td>\n",
       "      <td>-0.050584</td>\n",
       "      <td>-0.127981</td>\n",
       "      <td>-0.034433</td>\n",
       "    </tr>\n",
       "    <tr>\n",
       "      <th>25%</th>\n",
       "      <td>-0.005061</td>\n",
       "      <td>-0.003988</td>\n",
       "      <td>-0.008508</td>\n",
       "      <td>-0.010446</td>\n",
       "      <td>-0.004847</td>\n",
       "    </tr>\n",
       "    <tr>\n",
       "      <th>50%</th>\n",
       "      <td>-0.000411</td>\n",
       "      <td>-0.000062</td>\n",
       "      <td>0.000742</td>\n",
       "      <td>-0.000352</td>\n",
       "      <td>-0.000622</td>\n",
       "    </tr>\n",
       "    <tr>\n",
       "      <th>75%</th>\n",
       "      <td>0.005891</td>\n",
       "      <td>0.003970</td>\n",
       "      <td>0.008681</td>\n",
       "      <td>0.009787</td>\n",
       "      <td>0.003339</td>\n",
       "    </tr>\n",
       "    <tr>\n",
       "      <th>max</th>\n",
       "      <td>0.035002</td>\n",
       "      <td>0.014488</td>\n",
       "      <td>0.058455</td>\n",
       "      <td>0.085820</td>\n",
       "      <td>0.022878</td>\n",
       "    </tr>\n",
       "  </tbody>\n",
       "</table>\n",
       "</div>"
      ],
      "text/plain": [
       "          DJGRAIN     DJMETAL     WHEAT_F       OIL_F        GOLD\n",
       "count  266.000000  266.000000  266.000000  266.000000  266.000000\n",
       "mean    -0.000082   -0.000321   -0.000515    0.000284   -0.000730\n",
       "std      0.010072    0.005885    0.015239    0.020444    0.007594\n",
       "min     -0.033484   -0.018684   -0.050584   -0.127981   -0.034433\n",
       "25%     -0.005061   -0.003988   -0.008508   -0.010446   -0.004847\n",
       "50%     -0.000411   -0.000062    0.000742   -0.000352   -0.000622\n",
       "75%      0.005891    0.003970    0.008681    0.009787    0.003339\n",
       "max      0.035002    0.014488    0.058455    0.085820    0.022878"
      ]
     },
     "execution_count": 81,
     "metadata": {},
     "output_type": "execute_result"
    }
   ],
   "source": [
    "dfb4covid.describe()"
   ]
  },
  {
   "cell_type": "code",
   "execution_count": 82,
   "metadata": {},
   "outputs": [
    {
     "data": {
      "text/html": [
       "<div>\n",
       "<style scoped>\n",
       "    .dataframe tbody tr th:only-of-type {\n",
       "        vertical-align: middle;\n",
       "    }\n",
       "\n",
       "    .dataframe tbody tr th {\n",
       "        vertical-align: top;\n",
       "    }\n",
       "\n",
       "    .dataframe thead th {\n",
       "        text-align: right;\n",
       "    }\n",
       "</style>\n",
       "<table border=\"1\" class=\"dataframe\">\n",
       "  <thead>\n",
       "    <tr style=\"text-align: right;\">\n",
       "      <th></th>\n",
       "      <th>DJGRAIN</th>\n",
       "      <th>DJMETAL</th>\n",
       "      <th>WHEAT_F</th>\n",
       "      <th>OIL_F</th>\n",
       "      <th>GOLD</th>\n",
       "    </tr>\n",
       "    <tr>\n",
       "      <th>date</th>\n",
       "      <th></th>\n",
       "      <th></th>\n",
       "      <th></th>\n",
       "      <th></th>\n",
       "      <th></th>\n",
       "    </tr>\n",
       "  </thead>\n",
       "  <tbody>\n",
       "    <tr>\n",
       "      <th>8/19/2021</th>\n",
       "      <td>0.022853</td>\n",
       "      <td>-0.002146</td>\n",
       "      <td>0.016783</td>\n",
       "      <td>0.021983</td>\n",
       "      <td>-0.000504</td>\n",
       "    </tr>\n",
       "    <tr>\n",
       "      <th>8/18/2021</th>\n",
       "      <td>0.022566</td>\n",
       "      <td>0.008885</td>\n",
       "      <td>0.012545</td>\n",
       "      <td>0.027791</td>\n",
       "      <td>0.000729</td>\n",
       "    </tr>\n",
       "    <tr>\n",
       "      <th>8/17/2021</th>\n",
       "      <td>0.000983</td>\n",
       "      <td>0.010800</td>\n",
       "      <td>-0.003559</td>\n",
       "      <td>0.017262</td>\n",
       "      <td>0.001905</td>\n",
       "    </tr>\n",
       "    <tr>\n",
       "      <th>8/16/2021</th>\n",
       "      <td>0.012078</td>\n",
       "      <td>0.007062</td>\n",
       "      <td>0.038514</td>\n",
       "      <td>0.010512</td>\n",
       "      <td>0.001119</td>\n",
       "    </tr>\n",
       "    <tr>\n",
       "      <th>8/13/2021</th>\n",
       "      <td>0.001438</td>\n",
       "      <td>0.001320</td>\n",
       "      <td>0.000985</td>\n",
       "      <td>0.017090</td>\n",
       "      <td>-0.006481</td>\n",
       "    </tr>\n",
       "    <tr>\n",
       "      <th>...</th>\n",
       "      <td>...</td>\n",
       "      <td>...</td>\n",
       "      <td>...</td>\n",
       "      <td>...</td>\n",
       "      <td>...</td>\n",
       "    </tr>\n",
       "    <tr>\n",
       "      <th>1/29/2020</th>\n",
       "      <td>0.013739</td>\n",
       "      <td>-0.002583</td>\n",
       "      <td>-0.011710</td>\n",
       "      <td>-0.009111</td>\n",
       "      <td>-0.008306</td>\n",
       "    </tr>\n",
       "    <tr>\n",
       "      <th>1/28/2020</th>\n",
       "      <td>0.006011</td>\n",
       "      <td>0.005305</td>\n",
       "      <td>0.018393</td>\n",
       "      <td>-0.023269</td>\n",
       "      <td>-0.000127</td>\n",
       "    </tr>\n",
       "    <tr>\n",
       "      <th>1/27/2020</th>\n",
       "      <td>-0.002607</td>\n",
       "      <td>0.008292</td>\n",
       "      <td>0.002129</td>\n",
       "      <td>0.002882</td>\n",
       "      <td>0.005013</td>\n",
       "    </tr>\n",
       "    <tr>\n",
       "      <th>1/24/2020</th>\n",
       "      <td>0.008442</td>\n",
       "      <td>0.014330</td>\n",
       "      <td>0.005464</td>\n",
       "      <td>0.003065</td>\n",
       "      <td>-0.007956</td>\n",
       "    </tr>\n",
       "    <tr>\n",
       "      <th>1/23/2020</th>\n",
       "      <td>0.011828</td>\n",
       "      <td>0.003624</td>\n",
       "      <td>0.033491</td>\n",
       "      <td>-0.005921</td>\n",
       "      <td>0.000318</td>\n",
       "    </tr>\n",
       "  </tbody>\n",
       "</table>\n",
       "<p>398 rows × 5 columns</p>\n",
       "</div>"
      ],
      "text/plain": [
       "            DJGRAIN   DJMETAL   WHEAT_F     OIL_F      GOLD\n",
       "date                                                       \n",
       "8/19/2021  0.022853 -0.002146  0.016783  0.021983 -0.000504\n",
       "8/18/2021  0.022566  0.008885  0.012545  0.027791  0.000729\n",
       "8/17/2021  0.000983  0.010800 -0.003559  0.017262  0.001905\n",
       "8/16/2021  0.012078  0.007062  0.038514  0.010512  0.001119\n",
       "8/13/2021  0.001438  0.001320  0.000985  0.017090 -0.006481\n",
       "...             ...       ...       ...       ...       ...\n",
       "1/29/2020  0.013739 -0.002583 -0.011710 -0.009111 -0.008306\n",
       "1/28/2020  0.006011  0.005305  0.018393 -0.023269 -0.000127\n",
       "1/27/2020 -0.002607  0.008292  0.002129  0.002882  0.005013\n",
       "1/24/2020  0.008442  0.014330  0.005464  0.003065 -0.007956\n",
       "1/23/2020  0.011828  0.003624  0.033491 -0.005921  0.000318\n",
       "\n",
       "[398 rows x 5 columns]"
      ]
     },
     "execution_count": 82,
     "metadata": {},
     "output_type": "execute_result"
    }
   ],
   "source": [
    "dfaftcovid=df4r.iloc[1:399]\n",
    "dfaftcovid\n"
   ]
  },
  {
   "cell_type": "code",
   "execution_count": 83,
   "metadata": {},
   "outputs": [
    {
     "data": {
      "text/html": [
       "<div>\n",
       "<style scoped>\n",
       "    .dataframe tbody tr th:only-of-type {\n",
       "        vertical-align: middle;\n",
       "    }\n",
       "\n",
       "    .dataframe tbody tr th {\n",
       "        vertical-align: top;\n",
       "    }\n",
       "\n",
       "    .dataframe thead th {\n",
       "        text-align: right;\n",
       "    }\n",
       "</style>\n",
       "<table border=\"1\" class=\"dataframe\">\n",
       "  <thead>\n",
       "    <tr style=\"text-align: right;\">\n",
       "      <th></th>\n",
       "      <th>DJGRAIN</th>\n",
       "      <th>DJMETAL</th>\n",
       "      <th>WHEAT_F</th>\n",
       "      <th>OIL_F</th>\n",
       "      <th>GOLD</th>\n",
       "    </tr>\n",
       "  </thead>\n",
       "  <tbody>\n",
       "    <tr>\n",
       "      <th>count</th>\n",
       "      <td>398.000000</td>\n",
       "      <td>398.000000</td>\n",
       "      <td>398.000000</td>\n",
       "      <td>398.000000</td>\n",
       "      <td>398.000000</td>\n",
       "    </tr>\n",
       "    <tr>\n",
       "      <th>mean</th>\n",
       "      <td>-0.000755</td>\n",
       "      <td>-0.000631</td>\n",
       "      <td>-0.000537</td>\n",
       "      <td>-0.016483</td>\n",
       "      <td>-0.000239</td>\n",
       "    </tr>\n",
       "    <tr>\n",
       "      <th>std</th>\n",
       "      <td>0.013629</td>\n",
       "      <td>0.010025</td>\n",
       "      <td>0.016252</td>\n",
       "      <td>0.254405</td>\n",
       "      <td>0.012611</td>\n",
       "    </tr>\n",
       "    <tr>\n",
       "      <th>min</th>\n",
       "      <td>-0.060455</td>\n",
       "      <td>-0.033186</td>\n",
       "      <td>-0.050513</td>\n",
       "      <td>-4.759241</td>\n",
       "      <td>-0.056400</td>\n",
       "    </tr>\n",
       "    <tr>\n",
       "      <th>25%</th>\n",
       "      <td>-0.007551</td>\n",
       "      <td>-0.006670</td>\n",
       "      <td>-0.009483</td>\n",
       "      <td>-0.017425</td>\n",
       "      <td>-0.006309</td>\n",
       "    </tr>\n",
       "    <tr>\n",
       "      <th>50%</th>\n",
       "      <td>-0.000637</td>\n",
       "      <td>-0.001485</td>\n",
       "      <td>0.000101</td>\n",
       "      <td>-0.002923</td>\n",
       "      <td>-0.000858</td>\n",
       "    </tr>\n",
       "    <tr>\n",
       "      <th>75%</th>\n",
       "      <td>0.005829</td>\n",
       "      <td>0.004273</td>\n",
       "      <td>0.009761</td>\n",
       "      <td>0.012036</td>\n",
       "      <td>0.004537</td>\n",
       "    </tr>\n",
       "    <tr>\n",
       "      <th>max</th>\n",
       "      <td>0.066872</td>\n",
       "      <td>0.043961</td>\n",
       "      <td>0.044926</td>\n",
       "      <td>0.326052</td>\n",
       "      <td>0.052470</td>\n",
       "    </tr>\n",
       "  </tbody>\n",
       "</table>\n",
       "</div>"
      ],
      "text/plain": [
       "          DJGRAIN     DJMETAL     WHEAT_F       OIL_F        GOLD\n",
       "count  398.000000  398.000000  398.000000  398.000000  398.000000\n",
       "mean    -0.000755   -0.000631   -0.000537   -0.016483   -0.000239\n",
       "std      0.013629    0.010025    0.016252    0.254405    0.012611\n",
       "min     -0.060455   -0.033186   -0.050513   -4.759241   -0.056400\n",
       "25%     -0.007551   -0.006670   -0.009483   -0.017425   -0.006309\n",
       "50%     -0.000637   -0.001485    0.000101   -0.002923   -0.000858\n",
       "75%      0.005829    0.004273    0.009761    0.012036    0.004537\n",
       "max      0.066872    0.043961    0.044926    0.326052    0.052470"
      ]
     },
     "execution_count": 83,
     "metadata": {},
     "output_type": "execute_result"
    }
   ],
   "source": [
    "dfaftcovid.describe()"
   ]
  },
  {
   "cell_type": "code",
   "execution_count": 84,
   "metadata": {},
   "outputs": [],
   "source": [
    "## testing for the difference between returns (before and after covid parameters)\n",
    "from scipy import stats"
   ]
  },
  {
   "cell_type": "code",
   "execution_count": 85,
   "metadata": {},
   "outputs": [
    {
     "data": {
      "text/plain": [
       "Ttest_indResult(statistic=-0.6893398005257434, pvalue=0.4908509999244025)"
      ]
     },
     "execution_count": 85,
     "metadata": {},
     "output_type": "execute_result"
    }
   ],
   "source": [
    "##defining returns for the foreign currency pairs\n",
    "DJGRAIN_RETURNSaft=dfaftcovid['DJGRAIN']\n",
    "DJGRAIN_RETURNSb4=dfb4covid['DJGRAIN']\n",
    "stats.ttest_ind(DJGRAIN_RETURNSaft,DJGRAIN_RETURNSb4)\n"
   ]
  },
  {
   "cell_type": "code",
   "execution_count": 86,
   "metadata": {},
   "outputs": [
    {
     "data": {
      "text/plain": [
       "Ttest_indResult(statistic=-0.4550088273917708, pvalue=0.6492520668644441)"
      ]
     },
     "execution_count": 86,
     "metadata": {},
     "output_type": "execute_result"
    }
   ],
   "source": [
    "DJMETAL_RETURNSaft=dfaftcovid['DJMETAL']\n",
    "DJMETAL_RETURNSb4=dfb4covid['DJMETAL']\n",
    "stats.ttest_ind(DJMETAL_RETURNSaft,DJMETAL_RETURNSb4)\n"
   ]
  },
  {
   "cell_type": "code",
   "execution_count": 87,
   "metadata": {},
   "outputs": [
    {
     "data": {
      "text/plain": [
       "Ttest_indResult(statistic=-0.017850430764255763, pvalue=0.9857635516822635)"
      ]
     },
     "execution_count": 87,
     "metadata": {},
     "output_type": "execute_result"
    }
   ],
   "source": [
    "WHEAT_F_RETURNSaft=dfaftcovid['WHEAT_F']\n",
    "WHEAT_F_RETURNSb4=dfb4covid['WHEAT_F']\n",
    "stats.ttest_ind(WHEAT_F_RETURNSaft,WHEAT_F_RETURNSb4)"
   ]
  },
  {
   "cell_type": "code",
   "execution_count": 88,
   "metadata": {},
   "outputs": [
    {
     "data": {
      "text/plain": [
       "Ttest_indResult(statistic=-1.0723735233627316, pvalue=0.28394306096941163)"
      ]
     },
     "execution_count": 88,
     "metadata": {},
     "output_type": "execute_result"
    }
   ],
   "source": [
    "OIL_F_RETURNSaft=dfaftcovid['OIL_F']\n",
    "OIL_F_RETURNSb4=dfb4covid['OIL_F']\n",
    "stats.ttest_ind(OIL_F_RETURNSaft,OIL_F_RETURNSb4)"
   ]
  },
  {
   "cell_type": "code",
   "execution_count": 89,
   "metadata": {},
   "outputs": [
    {
     "data": {
      "text/plain": [
       "Ttest_indResult(statistic=0.569675029700646, pvalue=0.5690913845467729)"
      ]
     },
     "execution_count": 89,
     "metadata": {},
     "output_type": "execute_result"
    }
   ],
   "source": [
    "GOLD_RETURNSaft=dfaftcovid['GOLD']\n",
    "GOLD_RETURNSb4=dfb4covid['GOLD']\n",
    "stats.ttest_ind(GOLD_RETURNSaft,GOLD_RETURNSb4)"
   ]
  },
  {
   "cell_type": "code",
   "execution_count": 90,
   "metadata": {},
   "outputs": [],
   "source": [
    "df = df.set_index('date')"
   ]
  },
  {
   "cell_type": "code",
   "execution_count": 91,
   "metadata": {},
   "outputs": [],
   "source": [
    "paftcovid=df.iloc[1:399]\n",
    "pb4covid=df.iloc[399:668]"
   ]
  },
  {
   "cell_type": "code",
   "execution_count": 92,
   "metadata": {},
   "outputs": [
    {
     "data": {
      "text/html": [
       "<div>\n",
       "<style scoped>\n",
       "    .dataframe tbody tr th:only-of-type {\n",
       "        vertical-align: middle;\n",
       "    }\n",
       "\n",
       "    .dataframe tbody tr th {\n",
       "        vertical-align: top;\n",
       "    }\n",
       "\n",
       "    .dataframe thead th {\n",
       "        text-align: right;\n",
       "    }\n",
       "</style>\n",
       "<table border=\"1\" class=\"dataframe\">\n",
       "  <thead>\n",
       "    <tr style=\"text-align: right;\">\n",
       "      <th></th>\n",
       "      <th>GOLD</th>\n",
       "      <th>DJGRAIN</th>\n",
       "      <th>DJMETAL</th>\n",
       "      <th>WHEAT_F</th>\n",
       "      <th>SB_F</th>\n",
       "      <th>OIL_F</th>\n",
       "    </tr>\n",
       "  </thead>\n",
       "  <tbody>\n",
       "    <tr>\n",
       "      <th>count</th>\n",
       "      <td>398.000000</td>\n",
       "      <td>398.000000</td>\n",
       "      <td>398.000000</td>\n",
       "      <td>398.000000</td>\n",
       "      <td>398.000000</td>\n",
       "      <td>398.000000</td>\n",
       "    </tr>\n",
       "    <tr>\n",
       "      <th>mean</th>\n",
       "      <td>1796.530653</td>\n",
       "      <td>221.593291</td>\n",
       "      <td>189.381759</td>\n",
       "      <td>607.046759</td>\n",
       "      <td>1182.253241</td>\n",
       "      <td>48.554447</td>\n",
       "    </tr>\n",
       "    <tr>\n",
       "      <th>std</th>\n",
       "      <td>110.766021</td>\n",
       "      <td>47.030428</td>\n",
       "      <td>25.052533</td>\n",
       "      <td>73.013793</td>\n",
       "      <td>251.019645</td>\n",
       "      <td>15.896861</td>\n",
       "    </tr>\n",
       "    <tr>\n",
       "      <th>min</th>\n",
       "      <td>1477.900000</td>\n",
       "      <td>164.460000</td>\n",
       "      <td>139.120000</td>\n",
       "      <td>473.620000</td>\n",
       "      <td>825.750000</td>\n",
       "      <td>-37.630000</td>\n",
       "    </tr>\n",
       "    <tr>\n",
       "      <th>25%</th>\n",
       "      <td>1728.800000</td>\n",
       "      <td>175.680000</td>\n",
       "      <td>161.625000</td>\n",
       "      <td>535.440000</td>\n",
       "      <td>898.910000</td>\n",
       "      <td>39.555000</td>\n",
       "    </tr>\n",
       "    <tr>\n",
       "      <th>50%</th>\n",
       "      <td>1803.600000</td>\n",
       "      <td>212.190000</td>\n",
       "      <td>192.715000</td>\n",
       "      <td>615.940000</td>\n",
       "      <td>1193.810000</td>\n",
       "      <td>45.735000</td>\n",
       "    </tr>\n",
       "    <tr>\n",
       "      <th>75%</th>\n",
       "      <td>1879.825000</td>\n",
       "      <td>265.852500</td>\n",
       "      <td>208.340000</td>\n",
       "      <td>659.512500</td>\n",
       "      <td>1394.312500</td>\n",
       "      <td>62.815000</td>\n",
       "    </tr>\n",
       "    <tr>\n",
       "      <th>max</th>\n",
       "      <td>2069.400000</td>\n",
       "      <td>321.550000</td>\n",
       "      <td>227.800000</td>\n",
       "      <td>763.000000</td>\n",
       "      <td>1641.000000</td>\n",
       "      <td>76.250000</td>\n",
       "    </tr>\n",
       "  </tbody>\n",
       "</table>\n",
       "</div>"
      ],
      "text/plain": [
       "              GOLD     DJGRAIN     DJMETAL     WHEAT_F         SB_F  \\\n",
       "count   398.000000  398.000000  398.000000  398.000000   398.000000   \n",
       "mean   1796.530653  221.593291  189.381759  607.046759  1182.253241   \n",
       "std     110.766021   47.030428   25.052533   73.013793   251.019645   \n",
       "min    1477.900000  164.460000  139.120000  473.620000   825.750000   \n",
       "25%    1728.800000  175.680000  161.625000  535.440000   898.910000   \n",
       "50%    1803.600000  212.190000  192.715000  615.940000  1193.810000   \n",
       "75%    1879.825000  265.852500  208.340000  659.512500  1394.312500   \n",
       "max    2069.400000  321.550000  227.800000  763.000000  1641.000000   \n",
       "\n",
       "            OIL_F  \n",
       "count  398.000000  \n",
       "mean    48.554447  \n",
       "std     15.896861  \n",
       "min    -37.630000  \n",
       "25%     39.555000  \n",
       "50%     45.735000  \n",
       "75%     62.815000  \n",
       "max     76.250000  "
      ]
     },
     "execution_count": 92,
     "metadata": {},
     "output_type": "execute_result"
    }
   ],
   "source": [
    "paftcovid.describe()"
   ]
  },
  {
   "cell_type": "code",
   "execution_count": 93,
   "metadata": {},
   "outputs": [
    {
     "data": {
      "text/html": [
       "<div>\n",
       "<style scoped>\n",
       "    .dataframe tbody tr th:only-of-type {\n",
       "        vertical-align: middle;\n",
       "    }\n",
       "\n",
       "    .dataframe tbody tr th {\n",
       "        vertical-align: top;\n",
       "    }\n",
       "\n",
       "    .dataframe thead th {\n",
       "        text-align: right;\n",
       "    }\n",
       "</style>\n",
       "<table border=\"1\" class=\"dataframe\">\n",
       "  <thead>\n",
       "    <tr style=\"text-align: right;\">\n",
       "      <th></th>\n",
       "      <th>GOLD</th>\n",
       "      <th>DJGRAIN</th>\n",
       "      <th>DJMETAL</th>\n",
       "      <th>WHEAT_F</th>\n",
       "      <th>SB_F</th>\n",
       "      <th>OIL_F</th>\n",
       "    </tr>\n",
       "  </thead>\n",
       "  <tbody>\n",
       "    <tr>\n",
       "      <th>count</th>\n",
       "      <td>266.000000</td>\n",
       "      <td>266.000000</td>\n",
       "      <td>266.000000</td>\n",
       "      <td>266.000000</td>\n",
       "      <td>266.000000</td>\n",
       "      <td>266.000000</td>\n",
       "    </tr>\n",
       "    <tr>\n",
       "      <th>mean</th>\n",
       "      <td>1405.409774</td>\n",
       "      <td>179.665150</td>\n",
       "      <td>158.960188</td>\n",
       "      <td>520.519774</td>\n",
       "      <td>890.342293</td>\n",
       "      <td>57.421241</td>\n",
       "    </tr>\n",
       "    <tr>\n",
       "      <th>std</th>\n",
       "      <td>98.040011</td>\n",
       "      <td>6.962038</td>\n",
       "      <td>4.412734</td>\n",
       "      <td>30.813605</td>\n",
       "      <td>30.851084</td>\n",
       "      <td>3.508632</td>\n",
       "    </tr>\n",
       "    <tr>\n",
       "      <th>min</th>\n",
       "      <td>1272.000000</td>\n",
       "      <td>159.960000</td>\n",
       "      <td>149.320000</td>\n",
       "      <td>454.250000</td>\n",
       "      <td>803.500000</td>\n",
       "      <td>49.570000</td>\n",
       "    </tr>\n",
       "    <tr>\n",
       "      <th>25%</th>\n",
       "      <td>1300.750000</td>\n",
       "      <td>175.027500</td>\n",
       "      <td>155.782500</td>\n",
       "      <td>497.500000</td>\n",
       "      <td>870.277500</td>\n",
       "      <td>55.067500</td>\n",
       "    </tr>\n",
       "    <tr>\n",
       "      <th>50%</th>\n",
       "      <td>1418.450000</td>\n",
       "      <td>180.410000</td>\n",
       "      <td>159.695000</td>\n",
       "      <td>518.500000</td>\n",
       "      <td>890.125000</td>\n",
       "      <td>57.105000</td>\n",
       "    </tr>\n",
       "    <tr>\n",
       "      <th>75%</th>\n",
       "      <td>1497.525000</td>\n",
       "      <td>184.165000</td>\n",
       "      <td>162.070000</td>\n",
       "      <td>546.250000</td>\n",
       "      <td>914.000000</td>\n",
       "      <td>59.425000</td>\n",
       "    </tr>\n",
       "    <tr>\n",
       "      <th>max</th>\n",
       "      <td>1574.300000</td>\n",
       "      <td>196.440000</td>\n",
       "      <td>166.290000</td>\n",
       "      <td>582.500000</td>\n",
       "      <td>946.750000</td>\n",
       "      <td>66.300000</td>\n",
       "    </tr>\n",
       "  </tbody>\n",
       "</table>\n",
       "</div>"
      ],
      "text/plain": [
       "              GOLD     DJGRAIN     DJMETAL     WHEAT_F        SB_F       OIL_F\n",
       "count   266.000000  266.000000  266.000000  266.000000  266.000000  266.000000\n",
       "mean   1405.409774  179.665150  158.960188  520.519774  890.342293   57.421241\n",
       "std      98.040011    6.962038    4.412734   30.813605   30.851084    3.508632\n",
       "min    1272.000000  159.960000  149.320000  454.250000  803.500000   49.570000\n",
       "25%    1300.750000  175.027500  155.782500  497.500000  870.277500   55.067500\n",
       "50%    1418.450000  180.410000  159.695000  518.500000  890.125000   57.105000\n",
       "75%    1497.525000  184.165000  162.070000  546.250000  914.000000   59.425000\n",
       "max    1574.300000  196.440000  166.290000  582.500000  946.750000   66.300000"
      ]
     },
     "execution_count": 93,
     "metadata": {},
     "output_type": "execute_result"
    }
   ],
   "source": [
    "pb4covid.describe()"
   ]
  },
  {
   "cell_type": "code",
   "execution_count": 94,
   "metadata": {},
   "outputs": [
    {
     "data": {
      "text/plain": [
       "Ttest_indResult(statistic=14.431298696589886, pvalue=3.0170781196412306e-41)"
      ]
     },
     "execution_count": 94,
     "metadata": {},
     "output_type": "execute_result"
    }
   ],
   "source": [
    "## testing for the difference between the prices befor and after\n",
    "\n",
    "pDJGRAINaft=paftcovid['DJGRAIN']\n",
    "pDJGRAINb4=pb4covid['DJGRAIN']\n",
    "stats.ttest_ind(pDJGRAINaft, pDJGRAINb4)\n"
   ]
  },
  {
   "cell_type": "code",
   "execution_count": 95,
   "metadata": {},
   "outputs": [
    {
     "data": {
      "text/plain": [
       "Ttest_indResult(statistic=19.597965664096858, pvalue=8.62533407565017e-68)"
      ]
     },
     "execution_count": 95,
     "metadata": {},
     "output_type": "execute_result"
    }
   ],
   "source": [
    "pDJMETALaft=paftcovid['DJMETAL']\n",
    "pDJMETALb4=pb4covid['DJMETAL']\n",
    "stats.ttest_ind(pDJMETALaft,pDJMETALb4)\n"
   ]
  },
  {
   "cell_type": "code",
   "execution_count": 96,
   "metadata": {},
   "outputs": [
    {
     "data": {
      "text/plain": [
       "Ttest_indResult(statistic=18.267781216585774, pvalue=1.1199297200439655e-60)"
      ]
     },
     "execution_count": 96,
     "metadata": {},
     "output_type": "execute_result"
    }
   ],
   "source": [
    "pWHEAT_Faft=paftcovid['WHEAT_F']\n",
    "pWHEAT_Fb4=pb4covid['WHEAT_F']\n",
    "stats.ttest_ind(pWHEAT_Faft,pWHEAT_Fb4)"
   ]
  },
  {
   "cell_type": "code",
   "execution_count": 97,
   "metadata": {},
   "outputs": [
    {
     "data": {
      "text/plain": [
       "Ttest_indResult(statistic=-8.950322666256637, pvalue=3.538520363437757e-18)"
      ]
     },
     "execution_count": 97,
     "metadata": {},
     "output_type": "execute_result"
    }
   ],
   "source": [
    "pOIL_Faft=paftcovid['OIL_F']\n",
    "pOIL_Fb4=pb4covid['OIL_F']\n",
    "stats.ttest_ind(pOIL_Faft,pOIL_Fb4)"
   ]
  },
  {
   "cell_type": "code",
   "execution_count": 98,
   "metadata": {},
   "outputs": [
    {
     "data": {
      "text/plain": [
       "Ttest_indResult(statistic=46.65472184895175, pvalue=1.8712013823182294e-211)"
      ]
     },
     "execution_count": 98,
     "metadata": {},
     "output_type": "execute_result"
    }
   ],
   "source": [
    "pGOLDaft=paftcovid['GOLD']\n",
    "pGOLDb4=pb4covid['GOLD']\n",
    "stats.ttest_ind(pGOLDaft,pGOLDb4)"
   ]
  }
 ],
 "metadata": {
  "kernelspec": {
   "display_name": "Python 3",
   "language": "python",
   "name": "python3"
  },
  "language_info": {
   "codemirror_mode": {
    "name": "ipython",
    "version": 3
   },
   "file_extension": ".py",
   "mimetype": "text/x-python",
   "name": "python",
   "nbconvert_exporter": "python",
   "pygments_lexer": "ipython3",
   "version": "3.7.6"
  }
 },
 "nbformat": 4,
 "nbformat_minor": 4
}
