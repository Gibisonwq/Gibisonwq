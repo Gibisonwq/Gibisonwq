{
 "cells": [
  {
   "cell_type": "code",
   "execution_count": 1,
   "metadata": {},
   "outputs": [],
   "source": [
    "import numpy as np \n",
    "import pandas as pd \n",
    "import matplotlib.pyplot as plt \n",
    "import seaborn as sns\n",
    "np.random.seed(42)\n",
    "pd.core.common.is_list_like=pd.api.types.is_list_like\n",
    "import pandas_datareader.data as web\n"
   ]
  },
  {
   "cell_type": "code",
   "execution_count": 2,
   "metadata": {},
   "outputs": [],
   "source": [
    "import pandas_datareader\n",
    "import pandas_datareader.data as NET\n",
    "from datetime import datetime"
   ]
  },
  {
   "cell_type": "code",
   "execution_count": 3,
   "metadata": {},
   "outputs": [
    {
     "data": {
      "text/html": [
       "<div>\n",
       "<style scoped>\n",
       "    .dataframe tbody tr th:only-of-type {\n",
       "        vertical-align: middle;\n",
       "    }\n",
       "\n",
       "    .dataframe tbody tr th {\n",
       "        vertical-align: top;\n",
       "    }\n",
       "\n",
       "    .dataframe thead th {\n",
       "        text-align: right;\n",
       "    }\n",
       "</style>\n",
       "<table border=\"1\" class=\"dataframe\">\n",
       "  <thead>\n",
       "    <tr style=\"text-align: right;\">\n",
       "      <th></th>\n",
       "      <th>Date</th>\n",
       "      <th>NYC</th>\n",
       "      <th>DJIA</th>\n",
       "      <th>NSDQBTCH</th>\n",
       "      <th>RUSS</th>\n",
       "      <th>SPFIVE</th>\n",
       "    </tr>\n",
       "  </thead>\n",
       "  <tbody>\n",
       "    <tr>\n",
       "      <th>0</th>\n",
       "      <td>9/16/2021</td>\n",
       "      <td>16576.77</td>\n",
       "      <td>34751.32</td>\n",
       "      <td>5359.97</td>\n",
       "      <td>2511.25</td>\n",
       "      <td>4432.99</td>\n",
       "    </tr>\n",
       "    <tr>\n",
       "      <th>1</th>\n",
       "      <td>9/15/2021</td>\n",
       "      <td>16626.88</td>\n",
       "      <td>34814.39</td>\n",
       "      <td>5333.00</td>\n",
       "      <td>2513.20</td>\n",
       "      <td>4473.75</td>\n",
       "    </tr>\n",
       "    <tr>\n",
       "      <th>2</th>\n",
       "      <td>9/14/2021</td>\n",
       "      <td>16497.23</td>\n",
       "      <td>34577.57</td>\n",
       "      <td>5282.71</td>\n",
       "      <td>2492.32</td>\n",
       "      <td>4480.70</td>\n",
       "    </tr>\n",
       "    <tr>\n",
       "      <th>3</th>\n",
       "      <td>9/13/2021</td>\n",
       "      <td>16635.39</td>\n",
       "      <td>34869.63</td>\n",
       "      <td>5301.02</td>\n",
       "      <td>2507.11</td>\n",
       "      <td>4462.58</td>\n",
       "    </tr>\n",
       "    <tr>\n",
       "      <th>4</th>\n",
       "      <td>9/10/2021</td>\n",
       "      <td>16563.48</td>\n",
       "      <td>34607.72</td>\n",
       "      <td>5366.18</td>\n",
       "      <td>2502.26</td>\n",
       "      <td>4458.58</td>\n",
       "    </tr>\n",
       "    <tr>\n",
       "      <th>...</th>\n",
       "      <td>...</td>\n",
       "      <td>...</td>\n",
       "      <td>...</td>\n",
       "      <td>...</td>\n",
       "      <td>...</td>\n",
       "      <td>...</td>\n",
       "    </tr>\n",
       "    <tr>\n",
       "      <th>678</th>\n",
       "      <td>1/8/2019</td>\n",
       "      <td>11716.23</td>\n",
       "      <td>23879.12</td>\n",
       "      <td>3357.50</td>\n",
       "      <td>1423.71</td>\n",
       "      <td>2574.41</td>\n",
       "    </tr>\n",
       "    <tr>\n",
       "      <th>679</th>\n",
       "      <td>1/7/2019</td>\n",
       "      <td>11605.96</td>\n",
       "      <td>23787.45</td>\n",
       "      <td>3335.04</td>\n",
       "      <td>1409.36</td>\n",
       "      <td>2549.69</td>\n",
       "    </tr>\n",
       "    <tr>\n",
       "      <th>680</th>\n",
       "      <td>1/4/2019</td>\n",
       "      <td>11533.34</td>\n",
       "      <td>23531.35</td>\n",
       "      <td>3228.22</td>\n",
       "      <td>1398.34</td>\n",
       "      <td>2531.94</td>\n",
       "    </tr>\n",
       "    <tr>\n",
       "      <th>681</th>\n",
       "      <td>1/3/2019</td>\n",
       "      <td>11190.44</td>\n",
       "      <td>23433.16</td>\n",
       "      <td>3071.68</td>\n",
       "      <td>1351.87</td>\n",
       "      <td>2447.89</td>\n",
       "    </tr>\n",
       "    <tr>\n",
       "      <th>682</th>\n",
       "      <td>1/2/2019</td>\n",
       "      <td>11383.53</td>\n",
       "      <td>22686.22</td>\n",
       "      <td>3061.26</td>\n",
       "      <td>1385.23</td>\n",
       "      <td>2510.03</td>\n",
       "    </tr>\n",
       "  </tbody>\n",
       "</table>\n",
       "<p>683 rows × 6 columns</p>\n",
       "</div>"
      ],
      "text/plain": [
       "          Date       NYC      DJIA  NSDQBTCH     RUSS   SPFIVE\n",
       "0    9/16/2021  16576.77  34751.32   5359.97  2511.25  4432.99\n",
       "1    9/15/2021  16626.88  34814.39   5333.00  2513.20  4473.75\n",
       "2    9/14/2021  16497.23  34577.57   5282.71  2492.32  4480.70\n",
       "3    9/13/2021  16635.39  34869.63   5301.02  2507.11  4462.58\n",
       "4    9/10/2021  16563.48  34607.72   5366.18  2502.26  4458.58\n",
       "..         ...       ...       ...       ...      ...      ...\n",
       "678   1/8/2019  11716.23  23879.12   3357.50  1423.71  2574.41\n",
       "679   1/7/2019  11605.96  23787.45   3335.04  1409.36  2549.69\n",
       "680   1/4/2019  11533.34  23531.35   3228.22  1398.34  2531.94\n",
       "681   1/3/2019  11190.44  23433.16   3071.68  1351.87  2447.89\n",
       "682   1/2/2019  11383.53  22686.22   3061.26  1385.23  2510.03\n",
       "\n",
       "[683 rows x 6 columns]"
      ]
     },
     "execution_count": 3,
     "metadata": {},
     "output_type": "execute_result"
    }
   ],
   "source": [
    "df=pd.read_csv('stox.csv')\n",
    "df"
   ]
  },
  {
   "cell_type": "code",
   "execution_count": 4,
   "metadata": {},
   "outputs": [
    {
     "data": {
      "text/html": [
       "<div>\n",
       "<style scoped>\n",
       "    .dataframe tbody tr th:only-of-type {\n",
       "        vertical-align: middle;\n",
       "    }\n",
       "\n",
       "    .dataframe tbody tr th {\n",
       "        vertical-align: top;\n",
       "    }\n",
       "\n",
       "    .dataframe thead th {\n",
       "        text-align: right;\n",
       "    }\n",
       "</style>\n",
       "<table border=\"1\" class=\"dataframe\">\n",
       "  <thead>\n",
       "    <tr style=\"text-align: right;\">\n",
       "      <th></th>\n",
       "      <th>NYC</th>\n",
       "      <th>DJIA</th>\n",
       "      <th>NSDQBTCH</th>\n",
       "      <th>RUSS</th>\n",
       "      <th>SPFIVE</th>\n",
       "    </tr>\n",
       "  </thead>\n",
       "  <tbody>\n",
       "    <tr>\n",
       "      <th>count</th>\n",
       "      <td>683.000000</td>\n",
       "      <td>683.000000</td>\n",
       "      <td>683.000000</td>\n",
       "      <td>683.000000</td>\n",
       "      <td>683.000000</td>\n",
       "    </tr>\n",
       "    <tr>\n",
       "      <th>mean</th>\n",
       "      <td>13602.104524</td>\n",
       "      <td>28436.582225</td>\n",
       "      <td>4076.496750</td>\n",
       "      <td>1865.816911</td>\n",
       "      <td>3348.058697</td>\n",
       "    </tr>\n",
       "    <tr>\n",
       "      <th>std</th>\n",
       "      <td>1701.766003</td>\n",
       "      <td>3543.428251</td>\n",
       "      <td>695.064053</td>\n",
       "      <td>322.405444</td>\n",
       "      <td>551.230950</td>\n",
       "    </tr>\n",
       "    <tr>\n",
       "      <th>min</th>\n",
       "      <td>8777.380000</td>\n",
       "      <td>18591.930000</td>\n",
       "      <td>2961.940000</td>\n",
       "      <td>1224.450000</td>\n",
       "      <td>2237.400000</td>\n",
       "    </tr>\n",
       "    <tr>\n",
       "      <th>25%</th>\n",
       "      <td>12602.590000</td>\n",
       "      <td>26033.955000</td>\n",
       "      <td>3420.555000</td>\n",
       "      <td>1614.615000</td>\n",
       "      <td>2918.200000</td>\n",
       "    </tr>\n",
       "    <tr>\n",
       "      <th>50%</th>\n",
       "      <td>13093.800000</td>\n",
       "      <td>27500.890000</td>\n",
       "      <td>3999.750000</td>\n",
       "      <td>1775.460000</td>\n",
       "      <td>3207.180000</td>\n",
       "    </tr>\n",
       "    <tr>\n",
       "      <th>75%</th>\n",
       "      <td>14778.705000</td>\n",
       "      <td>30705.540000</td>\n",
       "      <td>4711.850000</td>\n",
       "      <td>2135.735000</td>\n",
       "      <td>3771.165000</td>\n",
       "    </tr>\n",
       "    <tr>\n",
       "      <th>max</th>\n",
       "      <td>16926.720000</td>\n",
       "      <td>35625.400000</td>\n",
       "      <td>5476.620000</td>\n",
       "      <td>2547.700000</td>\n",
       "      <td>4536.950000</td>\n",
       "    </tr>\n",
       "  </tbody>\n",
       "</table>\n",
       "</div>"
      ],
      "text/plain": [
       "                NYC          DJIA     NSDQBTCH         RUSS       SPFIVE\n",
       "count    683.000000    683.000000   683.000000   683.000000   683.000000\n",
       "mean   13602.104524  28436.582225  4076.496750  1865.816911  3348.058697\n",
       "std     1701.766003   3543.428251   695.064053   322.405444   551.230950\n",
       "min     8777.380000  18591.930000  2961.940000  1224.450000  2237.400000\n",
       "25%    12602.590000  26033.955000  3420.555000  1614.615000  2918.200000\n",
       "50%    13093.800000  27500.890000  3999.750000  1775.460000  3207.180000\n",
       "75%    14778.705000  30705.540000  4711.850000  2135.735000  3771.165000\n",
       "max    16926.720000  35625.400000  5476.620000  2547.700000  4536.950000"
      ]
     },
     "execution_count": 4,
     "metadata": {},
     "output_type": "execute_result"
    }
   ],
   "source": [
    "df.describe()"
   ]
  },
  {
   "cell_type": "code",
   "execution_count": 5,
   "metadata": {},
   "outputs": [],
   "source": [
    "#returns calculation\n",
    "nycRETURNS= df['NYC'].pct_change(1)\n",
    "djiaRETURNS = df['DJIA'].pct_change(1)\n",
    "nsdqbtchRETURNS = df['NSDQBTCH'].pct_change(1)\n",
    "russRETURNS= df['RUSS'].pct_change(1)\n",
    "spfiveRETURNS = df['SPFIVE'].pct_change(1)\n",
    "Date=df['Date']"
   ]
  },
  {
   "cell_type": "code",
   "execution_count": 6,
   "metadata": {},
   "outputs": [],
   "source": [
    "## QQ PLOTS \n",
    "import statsmodels.api as sm\n",
    "import pylab as py"
   ]
  },
  {
   "cell_type": "code",
   "execution_count": 7,
   "metadata": {},
   "outputs": [
    {
     "data": {
      "image/png": "[encoded data removed]",
      "text/plain": [
       "<Figure size 432x288 with 1 Axes>"
      ]
     },
     "metadata": {
      "needs_background": "light"
     },
     "output_type": "display_data"
    },
    {
     "data": {
      "image/png": "[encoded data removed]",
      "text/plain": [
       "<Figure size 432x288 with 1 Axes>"
      ]
     },
     "metadata": {
      "needs_background": "light"
     },
     "output_type": "display_data"
    },
    {
     "data": {
      "image/png": "[encoded data removed]",
      "text/plain": [
       "<Figure size 432x288 with 1 Axes>"
      ]
     },
     "metadata": {
      "needs_background": "light"
     },
     "output_type": "display_data"
    },
    {
     "data": {
      "image/png": "[encoded data removed]",
      "text/plain": [
       "<Figure size 432x288 with 1 Axes>"
      ]
     },
     "metadata": {
      "needs_background": "light"
     },
     "output_type": "display_data"
    },
    {
     "data": {
      "image/png": "[encoded data removed]",
      "text/plain": [
       "<Figure size 432x288 with 1 Axes>"
      ]
     },
     "metadata": {
      "needs_background": "light"
     },
     "output_type": "display_data"
    }
   ],
   "source": [
    "sm.qqplot(nycRETURNS, line ='45')\n",
    "py.show()\n",
    "sm.qqplot(djiaRETURNS, line ='45')\n",
    "py.show()\n",
    "sm.qqplot(nsdqbtchRETURNS, line ='45')\n",
    "py.show()\n",
    "sm.qqplot(russRETURNS, line ='45')\n",
    "py.show()\n",
    "sm.qqplot(spfiveRETURNS, line ='45')\n",
    "py.show()"
   ]
  },
  {
   "cell_type": "code",
   "execution_count": 8,
   "metadata": {},
   "outputs": [
    {
     "data": {
      "image/png": "[encoded data removed]",
      "text/plain": [
       "<Figure size 432x288 with 1 Axes>"
      ]
     },
     "metadata": {
      "needs_background": "light"
     },
     "output_type": "display_data"
    },
    {
     "data": {
      "image/png": "[encoded data removed]",
      "text/plain": [
       "<Figure size 432x288 with 1 Axes>"
      ]
     },
     "metadata": {
      "needs_background": "light"
     },
     "output_type": "display_data"
    },
    {
     "data": {
      "image/png": "[encoded data removed]",
      "text/plain": [
       "<Figure size 432x288 with 1 Axes>"
      ]
     },
     "metadata": {
      "needs_background": "light"
     },
     "output_type": "display_data"
    },
    {
     "data": {
      "image/png": "[encoded data removed]",
      "text/plain": [
       "<Figure size 432x288 with 1 Axes>"
      ]
     },
     "metadata": {
      "needs_background": "light"
     },
     "output_type": "display_data"
    },
    {
     "data": {
      "image/png": "[encoded data removed]",
      "text/plain": [
       "<Figure size 432x288 with 1 Axes>"
      ]
     },
     "metadata": {
      "needs_background": "light"
     },
     "output_type": "display_data"
    }
   ],
   "source": [
    "# DENSITY PLOTS \n",
    "df.NYC.plot.density(color='green')\n",
    "plt.title('Density Plot for nyc')\n",
    "plt.show()\n",
    "\n",
    "df.DJIA.plot.density(color='green')\n",
    "plt.title('Density Plot for djia')\n",
    "plt.show()\n",
    " \n",
    "df.NSDQBTCH.plot.density(color='green')\n",
    "plt.title('Density Plot for nsdqbtch')\n",
    "plt.show()\n",
    "df.RUSS.plot.density(color='green')\n",
    "plt.title('Density Plot for russel 2000')\n",
    "plt.show()\n",
    "\n",
    "df.SPFIVE.plot.density(color='green')\n",
    "plt.title('Density Plot for spfive')\n",
    "plt.show()"
   ]
  },
  {
   "cell_type": "code",
   "execution_count": 9,
   "metadata": {},
   "outputs": [
    {
     "name": "stdout",
     "output_type": "stream",
     "text": [
      "NYC RETURNS kurtosis is 21.500955664271007\n",
      "DJIA RETURNS kurtosis is 23.145433161152916\n",
      "NSDQBTCH  RETURNS kurtosis is 5.166674527107309\n",
      "russRETURNS RETURNS kurtosis is 20.646747403303994\n",
      "spfiveRETURNS RETURNS kurtosis is 20.252719849521153\n"
     ]
    }
   ],
   "source": [
    "##kurtosis\n",
    "from scipy.stats import kurtosis\n",
    "print(\"NYC RETURNS kurtosis is % s\" \n",
    "                              %(nycRETURNS.kurtosis()))\n",
    "print(\"DJIA RETURNS kurtosis is % s\" \n",
    "                              %(djiaRETURNS.kurtosis()))\n",
    "\n",
    "print(\"NSDQBTCH  RETURNS kurtosis is % s\" \n",
    "                              %(nsdqbtchRETURNS.kurtosis()))\n",
    "print(\"russRETURNS RETURNS kurtosis is % s\" \n",
    "                              %(russRETURNS.kurtosis()))\n",
    "print(\"spfiveRETURNS RETURNS kurtosis is % s\" \n",
    "                              %(spfiveRETURNS.kurtosis()))\n",
    "\n",
    "\n"
   ]
  },
  {
   "cell_type": "code",
   "execution_count": 10,
   "metadata": {},
   "outputs": [
    {
     "name": "stdout",
     "output_type": "stream",
     "text": [
      "stat=nan,p=1.000\n",
      "\n",
      "nycRETURNS data is normally distributed\n",
      "stat=nan,p=1.000\n",
      "\n",
      "djiaRETURNS data is normally distributed\n",
      "stat=nan,p=1.000\n",
      "\n",
      "nsdqbtchRETURNS data is normally distributed\n",
      "stat=nan,p=1.000\n",
      "\n",
      "russRETURNS data is normally distributed\n",
      "stat=nan,p=1.000\n",
      "\n",
      "spfiveRETURNS data is normally distributed\n"
     ]
    }
   ],
   "source": [
    "##test whether the distribution fits a normal  for both the chosen series\n",
    "#test for normality :The Shapiro-Wilk  first series\n",
    "from scipy.stats import shapiro\n",
    "from scipy.stats import shapiro\n",
    "\n",
    "N1=nycRETURNS\n",
    "stat,p=shapiro(N1)\n",
    "print('stat=%.3f,p=%.3f\\n'%(stat,p))\n",
    "if p>0.05:\n",
    "    print('nycRETURNS data is normally distributed')\n",
    "    \n",
    "else:\n",
    "    print('nycRETURNS data is not  normally distributed')\n",
    " \n",
    " \n",
    "from scipy.stats import shapiro\n",
    "from scipy.stats import shapiro\n",
    "\n",
    "N1=djiaRETURNS\n",
    "stat,p=shapiro(N1)\n",
    "print('stat=%.3f,p=%.3f\\n'%(stat,p))\n",
    "if p>0.05:\n",
    "    print('djiaRETURNS data is normally distributed')\n",
    "    \n",
    "else:\n",
    "    print('djiaRETURNS data is not  normally distributed')\n",
    "    \n",
    "    \n",
    "from scipy.stats import shapiro\n",
    "from scipy.stats import shapiro\n",
    "\n",
    "N1=nsdqbtchRETURNS\n",
    "stat,p=shapiro(N1)\n",
    "print('stat=%.3f,p=%.3f\\n'%(stat,p))\n",
    "if p>0.05:\n",
    "    print('nsdqbtchRETURNS data is normally distributed')\n",
    "    \n",
    "else:\n",
    "    print('nsdqbtchRETURNS data is not  normally distributed')\n",
    " \n",
    "\n",
    "from scipy.stats import shapiro\n",
    "from scipy.stats import shapiro\n",
    "\n",
    "N1=russRETURNS\n",
    "stat,p=shapiro(N1)\n",
    "print('stat=%.3f,p=%.3f\\n'%(stat,p))\n",
    "if p>0.05:\n",
    "    print('russRETURNS data is normally distributed')\n",
    "    \n",
    "else:\n",
    "    print('russRETURNS data is not  normally distributed')\n",
    " \n",
    "from scipy.stats import shapiro\n",
    "from scipy.stats import shapiro\n",
    "\n",
    "N1=spfiveRETURNS\n",
    "stat,p=shapiro(N1)\n",
    "print('stat=%.3f,p=%.3f\\n'%(stat,p))\n",
    "if p>0.05:\n",
    "    print('spfiveRETURNS data is normally distributed')\n",
    "    \n",
    "else:\n",
    "    print('spfiveRETURNS data is not  normally distributed')\n",
    " \n",
    " \n",
    "\n",
    " \n",
    "\n"
   ]
  },
  {
   "cell_type": "code",
   "execution_count": 11,
   "metadata": {},
   "outputs": [
    {
     "name": "stderr",
     "output_type": "stream",
     "text": [
      "C:\\Users\\Gibson\\anaconda3\\lib\\site-packages\\pandas\\plotting\\_matplotlib\\tools.py:331: MatplotlibDeprecationWarning: \n",
      "The is_first_col function was deprecated in Matplotlib 3.4 and will be removed two minor releases later. Use ax.get_subplotspec().is_first_col() instead.\n",
      "  if ax.is_first_col():\n"
     ]
    },
    {
     "data": {
      "image/png": "[encoded data removed]",
      "text/plain": [
       "<Figure size 432x288 with 25 Axes>"
      ]
     },
     "metadata": {
      "needs_background": "light"
     },
     "output_type": "display_data"
    }
   ],
   "source": [
    "import matplotlib.pyplot as plt\n",
    "from pandas.plotting import scatter_matrix   \n",
    "  \n",
    "# selecting numerical features\n",
    "features = ['NYC', 'NSDQBTCH',\n",
    "            'RUSS','SPFIVE','DJIA']\n",
    "   \n",
    "# plotting the scatter matrix\n",
    "# with the features\n",
    "scatter_matrix(df[features])\n",
    "plt.show()"
   ]
  },
  {
   "cell_type": "code",
   "execution_count": 16,
   "metadata": {},
   "outputs": [],
   "source": [
    "import os\n",
    "import pickle\n",
    "from functools import reduce\n",
    "from operator import mul\n",
    "\n",
    "import pandas as pd\n",
    "import numpy as np\n",
    "\n",
    "from statsmodels.regression.linear_model import OLS\n",
    "from sklearn import linear_model\n",
    "from sklearn.decomposition import PCA\n",
    "\n",
    "import holoviews as hv\n",
    "import hvplot\n",
    "import hvplot.pandas\n",
    "\n",
    "import matplotlib.pyplot as plt\n",
    "import seaborn as sns"
   ]
  },
  {
   "cell_type": "code",
   "execution_count": 17,
   "metadata": {},
   "outputs": [],
   "source": [
    "#Construct the Correlation Matrix\n",
    "corr_matrix = df.corr(method='pearson')\n",
    "corr_matrix = np.abs(corr_matrix) * 100\n"
   ]
  },
  {
   "cell_type": "code",
   "execution_count": 18,
   "metadata": {},
   "outputs": [
    {
     "data": {
      "image/png": "[encoded data removed]",
      "text/plain": [
       "<Figure size 576x576 with 2 Axes>"
      ]
     },
     "metadata": {
      "needs_background": "light"
     },
     "output_type": "display_data"
    }
   ],
   "source": [
    "#Plot a Correlation Matrix Heat Map\n",
    "f, ax = plt.subplots(figsize=(8,8))\n",
    "sns.heatmap(corr_matrix , cbar=True, annot=True, square=True,\n",
    "            fmt='.0f', annot_kws={'size':8}, alpha=0.6)\n",
    "plt.title('Correlation of STOCKS', fontsize=16)\n",
    "plt.show()"
   ]
  },
  {
   "cell_type": "code",
   "execution_count": 19,
   "metadata": {},
   "outputs": [],
   "source": [
    "nycRETURNS_JB = sm.stats.stattools.jarque_bera(nycRETURNS.fillna(nycRETURNS.mean()).dropna())\n",
    "djiaRETURNS_JB = sm.stats.stattools.jarque_bera(djiaRETURNS.fillna(djiaRETURNS.mean()).dropna())\n",
    "nsdqbtchRETURNS_JB = sm.stats.stattools.jarque_bera(nsdqbtchRETURNS.fillna(nsdqbtchRETURNS.mean()).dropna())\n",
    "russRETURNS_JB = sm.stats.stattools.jarque_bera(russRETURNS.fillna(russRETURNS.mean()).dropna())\n",
    "spfiveRETURNS_JB = sm.stats.stattools.jarque_bera(spfiveRETURNS.fillna(spfiveRETURNS.mean()).dropna())\n",
    "\n"
   ]
  },
  {
   "cell_type": "code",
   "execution_count": 20,
   "metadata": {},
   "outputs": [
    {
     "name": "stdout",
     "output_type": "stream",
     "text": [
      "Jarque Bera results for COMMODITIES: \n",
      "nycRETURNS  - 13404.505437734873\n",
      "nsdqbtchRETURNS  - 781.2590630498846\n",
      "djiaRETURNS    - 15372.37527405496\n",
      "russRETURNS   - 12306.171510853945\n",
      "spfiveRETURNS   - 11809.692915906935\n"
     ]
    }
   ],
   "source": [
    "print('Jarque Bera results for COMMODITIES: \\nnycRETURNS  - ' + str(nycRETURNS_JB[0]) + '\\nnsdqbtchRETURNS  - '+ str(nsdqbtchRETURNS_JB[0])+ '\\ndjiaRETURNS    - '+ str(djiaRETURNS_JB[0])+ '\\nrussRETURNS   - '+ str(russRETURNS_JB[0])+ '\\nspfiveRETURNS   - '+ str(spfiveRETURNS_JB[0]) )"
   ]
  },
  {
   "cell_type": "code",
   "execution_count": 21,
   "metadata": {},
   "outputs": [],
   "source": [
    "## Testing for Stationarity of Return Series"
   ]
  },
  {
   "cell_type": "code",
   "execution_count": 22,
   "metadata": {},
   "outputs": [],
   "source": [
    "from statsmodels.tsa.stattools import adfuller\n",
    "from statsmodels.graphics.tsaplots import plot_acf,plot_pacf"
   ]
  },
  {
   "cell_type": "code",
   "execution_count": 23,
   "metadata": {},
   "outputs": [
    {
     "data": {
      "image/png": "[encoded data removed]",
      "text/plain": [
       "<Figure size 1152x288 with 2 Axes>"
      ]
     },
     "metadata": {
      "needs_background": "light"
     },
     "output_type": "display_data"
    }
   ],
   "source": [
    "fig, ax = plt.subplots(1,2,figsize=(16,4))\n",
    "plot_acf(nycRETURNS.dropna(), ax=ax[0])\n",
    "plot_pacf(nycRETURNS.dropna(), ax=ax[1])\n",
    "plt.show()"
   ]
  },
  {
   "cell_type": "code",
   "execution_count": 24,
   "metadata": {},
   "outputs": [
    {
     "data": {
      "image/png": "[encoded data removed]",
      "text/plain": [
       "<Figure size 1152x288 with 2 Axes>"
      ]
     },
     "metadata": {
      "needs_background": "light"
     },
     "output_type": "display_data"
    }
   ],
   "source": [
    "fig, ax = plt.subplots(1,2,figsize=(16,4))\n",
    "plot_acf(djiaRETURNS.dropna(), ax=ax[0])\n",
    "plot_pacf(djiaRETURNS.dropna(), ax=ax[1])\n",
    "plt.show()"
   ]
  },
  {
   "cell_type": "code",
   "execution_count": 25,
   "metadata": {},
   "outputs": [
    {
     "data": {
      "image/png": "[encoded data removed]",
      "text/plain": [
       "<Figure size 1152x288 with 2 Axes>"
      ]
     },
     "metadata": {
      "needs_background": "light"
     },
     "output_type": "display_data"
    }
   ],
   "source": [
    "fig, ax = plt.subplots(1,2,figsize=(16,4))\n",
    "plot_acf(nsdqbtchRETURNS.dropna(), ax=ax[0])\n",
    "plot_pacf(nsdqbtchRETURNS.dropna(), ax=ax[1])\n",
    "plt.show()"
   ]
  },
  {
   "cell_type": "code",
   "execution_count": 26,
   "metadata": {},
   "outputs": [
    {
     "data": {
      "image/png": "[encoded data removed]",
      "text/plain": [
       "<Figure size 1152x288 with 2 Axes>"
      ]
     },
     "metadata": {
      "needs_background": "light"
     },
     "output_type": "display_data"
    }
   ],
   "source": [
    "fig, ax = plt.subplots(1,2,figsize=(16,4))\n",
    "plot_acf(russRETURNS.dropna(), ax=ax[0])\n",
    "plot_pacf(russRETURNS.dropna(), ax=ax[1])\n",
    "plt.show()"
   ]
  },
  {
   "cell_type": "code",
   "execution_count": 27,
   "metadata": {},
   "outputs": [
    {
     "data": {
      "image/png": "[encoded data removed]",
      "text/plain": [
       "<Figure size 1152x288 with 2 Axes>"
      ]
     },
     "metadata": {
      "needs_background": "light"
     },
     "output_type": "display_data"
    }
   ],
   "source": [
    "fig, ax = plt.subplots(1,2,figsize=(16,4))\n",
    "plot_acf(spfiveRETURNS.dropna(), ax=ax[0])\n",
    "plot_pacf(spfiveRETURNS.dropna(), ax=ax[1])\n",
    "plt.show()"
   ]
  },
  {
   "cell_type": "code",
   "execution_count": 28,
   "metadata": {},
   "outputs": [],
   "source": [
    "## defining dataframe for financial market returns before and after covid\n",
    "nycRETURNS= df['NYC'].pct_change(1)\n",
    "djiaRETURNS = df['DJIA'].pct_change(1)\n",
    "nsdqbtchRETURNS = df['NSDQBTCH'].pct_change(1)\n",
    "russRETURNS= df['RUSS'].pct_change(1)\n",
    "spfiveRETURNS = df['SPFIVE'].pct_change(1)\n",
    "\n",
    "Date=df['Date']"
   ]
  },
  {
   "cell_type": "code",
   "execution_count": 29,
   "metadata": {},
   "outputs": [],
   "source": [
    "df4r=pd.concat([nycRETURNS,djiaRETURNS,nsdqbtchRETURNS,russRETURNS,spfiveRETURNS,Date], axis=1)"
   ]
  },
  {
   "cell_type": "code",
   "execution_count": 30,
   "metadata": {},
   "outputs": [
    {
     "data": {
      "text/html": [
       "<div>\n",
       "<style scoped>\n",
       "    .dataframe tbody tr th:only-of-type {\n",
       "        vertical-align: middle;\n",
       "    }\n",
       "\n",
       "    .dataframe tbody tr th {\n",
       "        vertical-align: top;\n",
       "    }\n",
       "\n",
       "    .dataframe thead th {\n",
       "        text-align: right;\n",
       "    }\n",
       "</style>\n",
       "<table border=\"1\" class=\"dataframe\">\n",
       "  <thead>\n",
       "    <tr style=\"text-align: right;\">\n",
       "      <th></th>\n",
       "      <th>NYC</th>\n",
       "      <th>DJIA</th>\n",
       "      <th>NSDQBTCH</th>\n",
       "      <th>RUSS</th>\n",
       "      <th>SPFIVE</th>\n",
       "    </tr>\n",
       "    <tr>\n",
       "      <th>Date</th>\n",
       "      <th></th>\n",
       "      <th></th>\n",
       "      <th></th>\n",
       "      <th></th>\n",
       "      <th></th>\n",
       "    </tr>\n",
       "  </thead>\n",
       "  <tbody>\n",
       "    <tr>\n",
       "      <th>9/15/2021</th>\n",
       "      <td>0.003023</td>\n",
       "      <td>0.001815</td>\n",
       "      <td>-0.005032</td>\n",
       "      <td>0.000777</td>\n",
       "      <td>0.009195</td>\n",
       "    </tr>\n",
       "    <tr>\n",
       "      <th>9/14/2021</th>\n",
       "      <td>-0.007798</td>\n",
       "      <td>-0.006802</td>\n",
       "      <td>-0.009430</td>\n",
       "      <td>-0.008308</td>\n",
       "      <td>0.001554</td>\n",
       "    </tr>\n",
       "    <tr>\n",
       "      <th>9/13/2021</th>\n",
       "      <td>0.008375</td>\n",
       "      <td>0.008447</td>\n",
       "      <td>0.003466</td>\n",
       "      <td>0.005934</td>\n",
       "      <td>-0.004044</td>\n",
       "    </tr>\n",
       "    <tr>\n",
       "      <th>9/10/2021</th>\n",
       "      <td>-0.004323</td>\n",
       "      <td>-0.007511</td>\n",
       "      <td>0.012292</td>\n",
       "      <td>-0.001934</td>\n",
       "      <td>-0.000896</td>\n",
       "    </tr>\n",
       "    <tr>\n",
       "      <th>9/9/2021</th>\n",
       "      <td>0.006016</td>\n",
       "      <td>0.007850</td>\n",
       "      <td>0.005188</td>\n",
       "      <td>0.007825</td>\n",
       "      <td>0.007783</td>\n",
       "    </tr>\n",
       "    <tr>\n",
       "      <th>...</th>\n",
       "      <td>...</td>\n",
       "      <td>...</td>\n",
       "      <td>...</td>\n",
       "      <td>...</td>\n",
       "      <td>...</td>\n",
       "    </tr>\n",
       "    <tr>\n",
       "      <th>1/8/2019</th>\n",
       "      <td>-0.005280</td>\n",
       "      <td>-0.005116</td>\n",
       "      <td>-0.006425</td>\n",
       "      <td>-0.004621</td>\n",
       "      <td>-0.004081</td>\n",
       "    </tr>\n",
       "    <tr>\n",
       "      <th>1/7/2019</th>\n",
       "      <td>-0.009412</td>\n",
       "      <td>-0.003839</td>\n",
       "      <td>-0.006690</td>\n",
       "      <td>-0.010079</td>\n",
       "      <td>-0.009602</td>\n",
       "    </tr>\n",
       "    <tr>\n",
       "      <th>1/4/2019</th>\n",
       "      <td>-0.006257</td>\n",
       "      <td>-0.010766</td>\n",
       "      <td>-0.032030</td>\n",
       "      <td>-0.007819</td>\n",
       "      <td>-0.006962</td>\n",
       "    </tr>\n",
       "    <tr>\n",
       "      <th>1/3/2019</th>\n",
       "      <td>-0.029731</td>\n",
       "      <td>-0.004173</td>\n",
       "      <td>-0.048491</td>\n",
       "      <td>-0.033232</td>\n",
       "      <td>-0.033196</td>\n",
       "    </tr>\n",
       "    <tr>\n",
       "      <th>1/2/2019</th>\n",
       "      <td>0.017255</td>\n",
       "      <td>-0.031875</td>\n",
       "      <td>-0.003392</td>\n",
       "      <td>0.024677</td>\n",
       "      <td>0.025385</td>\n",
       "    </tr>\n",
       "  </tbody>\n",
       "</table>\n",
       "<p>682 rows × 5 columns</p>\n",
       "</div>"
      ],
      "text/plain": [
       "                NYC      DJIA  NSDQBTCH      RUSS    SPFIVE\n",
       "Date                                                       \n",
       "9/15/2021  0.003023  0.001815 -0.005032  0.000777  0.009195\n",
       "9/14/2021 -0.007798 -0.006802 -0.009430 -0.008308  0.001554\n",
       "9/13/2021  0.008375  0.008447  0.003466  0.005934 -0.004044\n",
       "9/10/2021 -0.004323 -0.007511  0.012292 -0.001934 -0.000896\n",
       "9/9/2021   0.006016  0.007850  0.005188  0.007825  0.007783\n",
       "...             ...       ...       ...       ...       ...\n",
       "1/8/2019  -0.005280 -0.005116 -0.006425 -0.004621 -0.004081\n",
       "1/7/2019  -0.009412 -0.003839 -0.006690 -0.010079 -0.009602\n",
       "1/4/2019  -0.006257 -0.010766 -0.032030 -0.007819 -0.006962\n",
       "1/3/2019  -0.029731 -0.004173 -0.048491 -0.033232 -0.033196\n",
       "1/2/2019   0.017255 -0.031875 -0.003392  0.024677  0.025385\n",
       "\n",
       "[682 rows x 5 columns]"
      ]
     },
     "execution_count": 30,
     "metadata": {},
     "output_type": "execute_result"
    }
   ],
   "source": [
    "df4r = df4r.set_index('Date')\n",
    "df4r\n",
    "df4r.dropna()"
   ]
  },
  {
   "cell_type": "code",
   "execution_count": 31,
   "metadata": {},
   "outputs": [
    {
     "data": {
      "text/html": [
       "<div>\n",
       "<style scoped>\n",
       "    .dataframe tbody tr th:only-of-type {\n",
       "        vertical-align: middle;\n",
       "    }\n",
       "\n",
       "    .dataframe tbody tr th {\n",
       "        vertical-align: top;\n",
       "    }\n",
       "\n",
       "    .dataframe thead th {\n",
       "        text-align: right;\n",
       "    }\n",
       "</style>\n",
       "<table border=\"1\" class=\"dataframe\">\n",
       "  <thead>\n",
       "    <tr style=\"text-align: right;\">\n",
       "      <th></th>\n",
       "      <th>NYC</th>\n",
       "      <th>DJIA</th>\n",
       "      <th>NSDQBTCH</th>\n",
       "      <th>RUSS</th>\n",
       "      <th>SPFIVE</th>\n",
       "    </tr>\n",
       "    <tr>\n",
       "      <th>Date</th>\n",
       "      <th></th>\n",
       "      <th></th>\n",
       "      <th></th>\n",
       "      <th></th>\n",
       "      <th></th>\n",
       "    </tr>\n",
       "  </thead>\n",
       "  <tbody>\n",
       "    <tr>\n",
       "      <th>1/22/2020</th>\n",
       "      <td>0.000581</td>\n",
       "      <td>0.005877</td>\n",
       "      <td>0.007399</td>\n",
       "      <td>-0.001126</td>\n",
       "      <td>-0.001140</td>\n",
       "    </tr>\n",
       "    <tr>\n",
       "      <th>1/21/2020</th>\n",
       "      <td>-0.000018</td>\n",
       "      <td>0.000898</td>\n",
       "      <td>0.001512</td>\n",
       "      <td>-0.000452</td>\n",
       "      <td>-0.000289</td>\n",
       "    </tr>\n",
       "    <tr>\n",
       "      <th>1/17/2020</th>\n",
       "      <td>0.005189</td>\n",
       "      <td>0.000335</td>\n",
       "      <td>0.009904</td>\n",
       "      <td>0.002484</td>\n",
       "      <td>0.002659</td>\n",
       "    </tr>\n",
       "    <tr>\n",
       "      <th>1/16/2020</th>\n",
       "      <td>-0.002920</td>\n",
       "      <td>0.005208</td>\n",
       "      <td>0.003480</td>\n",
       "      <td>-0.003315</td>\n",
       "      <td>-0.003847</td>\n",
       "    </tr>\n",
       "    <tr>\n",
       "      <th>1/15/2020</th>\n",
       "      <td>-0.006262</td>\n",
       "      <td>-0.001719</td>\n",
       "      <td>-0.004044</td>\n",
       "      <td>-0.008370</td>\n",
       "      <td>-0.008297</td>\n",
       "    </tr>\n",
       "    <tr>\n",
       "      <th>...</th>\n",
       "      <td>...</td>\n",
       "      <td>...</td>\n",
       "      <td>...</td>\n",
       "      <td>...</td>\n",
       "      <td>...</td>\n",
       "    </tr>\n",
       "    <tr>\n",
       "      <th>1/8/2019</th>\n",
       "      <td>-0.005280</td>\n",
       "      <td>-0.005116</td>\n",
       "      <td>-0.006425</td>\n",
       "      <td>-0.004621</td>\n",
       "      <td>-0.004081</td>\n",
       "    </tr>\n",
       "    <tr>\n",
       "      <th>1/7/2019</th>\n",
       "      <td>-0.009412</td>\n",
       "      <td>-0.003839</td>\n",
       "      <td>-0.006690</td>\n",
       "      <td>-0.010079</td>\n",
       "      <td>-0.009602</td>\n",
       "    </tr>\n",
       "    <tr>\n",
       "      <th>1/4/2019</th>\n",
       "      <td>-0.006257</td>\n",
       "      <td>-0.010766</td>\n",
       "      <td>-0.032030</td>\n",
       "      <td>-0.007819</td>\n",
       "      <td>-0.006962</td>\n",
       "    </tr>\n",
       "    <tr>\n",
       "      <th>1/3/2019</th>\n",
       "      <td>-0.029731</td>\n",
       "      <td>-0.004173</td>\n",
       "      <td>-0.048491</td>\n",
       "      <td>-0.033232</td>\n",
       "      <td>-0.033196</td>\n",
       "    </tr>\n",
       "    <tr>\n",
       "      <th>1/2/2019</th>\n",
       "      <td>0.017255</td>\n",
       "      <td>-0.031875</td>\n",
       "      <td>-0.003392</td>\n",
       "      <td>0.024677</td>\n",
       "      <td>0.025385</td>\n",
       "    </tr>\n",
       "  </tbody>\n",
       "</table>\n",
       "<p>266 rows × 5 columns</p>\n",
       "</div>"
      ],
      "text/plain": [
       "                NYC      DJIA  NSDQBTCH      RUSS    SPFIVE\n",
       "Date                                                       \n",
       "1/22/2020  0.000581  0.005877  0.007399 -0.001126 -0.001140\n",
       "1/21/2020 -0.000018  0.000898  0.001512 -0.000452 -0.000289\n",
       "1/17/2020  0.005189  0.000335  0.009904  0.002484  0.002659\n",
       "1/16/2020 -0.002920  0.005208  0.003480 -0.003315 -0.003847\n",
       "1/15/2020 -0.006262 -0.001719 -0.004044 -0.008370 -0.008297\n",
       "...             ...       ...       ...       ...       ...\n",
       "1/8/2019  -0.005280 -0.005116 -0.006425 -0.004621 -0.004081\n",
       "1/7/2019  -0.009412 -0.003839 -0.006690 -0.010079 -0.009602\n",
       "1/4/2019  -0.006257 -0.010766 -0.032030 -0.007819 -0.006962\n",
       "1/3/2019  -0.029731 -0.004173 -0.048491 -0.033232 -0.033196\n",
       "1/2/2019   0.017255 -0.031875 -0.003392  0.024677  0.025385\n",
       "\n",
       "[266 rows x 5 columns]"
      ]
     },
     "execution_count": 31,
     "metadata": {},
     "output_type": "execute_result"
    }
   ],
   "source": [
    "dfb4covid=df4r.iloc[417:688]\n",
    "dfb4covid"
   ]
  },
  {
   "cell_type": "code",
   "execution_count": 32,
   "metadata": {},
   "outputs": [
    {
     "data": {
      "text/html": [
       "<div>\n",
       "<style scoped>\n",
       "    .dataframe tbody tr th:only-of-type {\n",
       "        vertical-align: middle;\n",
       "    }\n",
       "\n",
       "    .dataframe tbody tr th {\n",
       "        vertical-align: top;\n",
       "    }\n",
       "\n",
       "    .dataframe thead th {\n",
       "        text-align: right;\n",
       "    }\n",
       "</style>\n",
       "<table border=\"1\" class=\"dataframe\">\n",
       "  <thead>\n",
       "    <tr style=\"text-align: right;\">\n",
       "      <th></th>\n",
       "      <th>NYC</th>\n",
       "      <th>DJIA</th>\n",
       "      <th>NSDQBTCH</th>\n",
       "      <th>RUSS</th>\n",
       "      <th>SPFIVE</th>\n",
       "    </tr>\n",
       "  </thead>\n",
       "  <tbody>\n",
       "    <tr>\n",
       "      <th>count</th>\n",
       "      <td>266.000000</td>\n",
       "      <td>266.000000</td>\n",
       "      <td>266.000000</td>\n",
       "      <td>266.000000</td>\n",
       "      <td>266.000000</td>\n",
       "    </tr>\n",
       "    <tr>\n",
       "      <th>mean</th>\n",
       "      <td>-0.000781</td>\n",
       "      <td>-0.000893</td>\n",
       "      <td>-0.000691</td>\n",
       "      <td>-0.001033</td>\n",
       "      <td>-0.001027</td>\n",
       "    </tr>\n",
       "    <tr>\n",
       "      <th>std</th>\n",
       "      <td>0.006912</td>\n",
       "      <td>0.007543</td>\n",
       "      <td>0.012470</td>\n",
       "      <td>0.007787</td>\n",
       "      <td>0.007743</td>\n",
       "    </tr>\n",
       "    <tr>\n",
       "      <th>min</th>\n",
       "      <td>-0.029731</td>\n",
       "      <td>-0.031875</td>\n",
       "      <td>-0.048491</td>\n",
       "      <td>-0.033232</td>\n",
       "      <td>-0.033196</td>\n",
       "    </tr>\n",
       "    <tr>\n",
       "      <th>25%</th>\n",
       "      <td>-0.004955</td>\n",
       "      <td>-0.005360</td>\n",
       "      <td>-0.008329</td>\n",
       "      <td>-0.005950</td>\n",
       "      <td>-0.006025</td>\n",
       "    </tr>\n",
       "    <tr>\n",
       "      <th>50%</th>\n",
       "      <td>-0.001140</td>\n",
       "      <td>-0.001061</td>\n",
       "      <td>-0.001264</td>\n",
       "      <td>-0.001145</td>\n",
       "      <td>-0.001058</td>\n",
       "    </tr>\n",
       "    <tr>\n",
       "      <th>75%</th>\n",
       "      <td>0.002492</td>\n",
       "      <td>0.002769</td>\n",
       "      <td>0.006962</td>\n",
       "      <td>0.002475</td>\n",
       "      <td>0.002548</td>\n",
       "    </tr>\n",
       "    <tr>\n",
       "      <th>max</th>\n",
       "      <td>0.028809</td>\n",
       "      <td>0.031417</td>\n",
       "      <td>0.041850</td>\n",
       "      <td>0.030813</td>\n",
       "      <td>0.030692</td>\n",
       "    </tr>\n",
       "  </tbody>\n",
       "</table>\n",
       "</div>"
      ],
      "text/plain": [
       "              NYC        DJIA    NSDQBTCH        RUSS      SPFIVE\n",
       "count  266.000000  266.000000  266.000000  266.000000  266.000000\n",
       "mean    -0.000781   -0.000893   -0.000691   -0.001033   -0.001027\n",
       "std      0.006912    0.007543    0.012470    0.007787    0.007743\n",
       "min     -0.029731   -0.031875   -0.048491   -0.033232   -0.033196\n",
       "25%     -0.004955   -0.005360   -0.008329   -0.005950   -0.006025\n",
       "50%     -0.001140   -0.001061   -0.001264   -0.001145   -0.001058\n",
       "75%      0.002492    0.002769    0.006962    0.002475    0.002548\n",
       "max      0.028809    0.031417    0.041850    0.030813    0.030692"
      ]
     },
     "execution_count": 32,
     "metadata": {},
     "output_type": "execute_result"
    }
   ],
   "source": [
    "dfb4covid.describe()"
   ]
  },
  {
   "cell_type": "code",
   "execution_count": 33,
   "metadata": {},
   "outputs": [
    {
     "data": {
      "text/html": [
       "<div>\n",
       "<style scoped>\n",
       "    .dataframe tbody tr th:only-of-type {\n",
       "        vertical-align: middle;\n",
       "    }\n",
       "\n",
       "    .dataframe tbody tr th {\n",
       "        vertical-align: top;\n",
       "    }\n",
       "\n",
       "    .dataframe thead th {\n",
       "        text-align: right;\n",
       "    }\n",
       "</style>\n",
       "<table border=\"1\" class=\"dataframe\">\n",
       "  <thead>\n",
       "    <tr style=\"text-align: right;\">\n",
       "      <th></th>\n",
       "      <th>NYC</th>\n",
       "      <th>DJIA</th>\n",
       "      <th>NSDQBTCH</th>\n",
       "      <th>RUSS</th>\n",
       "      <th>SPFIVE</th>\n",
       "    </tr>\n",
       "    <tr>\n",
       "      <th>Date</th>\n",
       "      <th></th>\n",
       "      <th></th>\n",
       "      <th></th>\n",
       "      <th></th>\n",
       "      <th></th>\n",
       "    </tr>\n",
       "  </thead>\n",
       "  <tbody>\n",
       "    <tr>\n",
       "      <th>9/15/2021</th>\n",
       "      <td>0.003023</td>\n",
       "      <td>0.001815</td>\n",
       "      <td>-0.005032</td>\n",
       "      <td>0.000777</td>\n",
       "      <td>0.009195</td>\n",
       "    </tr>\n",
       "    <tr>\n",
       "      <th>9/14/2021</th>\n",
       "      <td>-0.007798</td>\n",
       "      <td>-0.006802</td>\n",
       "      <td>-0.009430</td>\n",
       "      <td>-0.008308</td>\n",
       "      <td>0.001554</td>\n",
       "    </tr>\n",
       "    <tr>\n",
       "      <th>9/13/2021</th>\n",
       "      <td>0.008375</td>\n",
       "      <td>0.008447</td>\n",
       "      <td>0.003466</td>\n",
       "      <td>0.005934</td>\n",
       "      <td>-0.004044</td>\n",
       "    </tr>\n",
       "    <tr>\n",
       "      <th>9/10/2021</th>\n",
       "      <td>-0.004323</td>\n",
       "      <td>-0.007511</td>\n",
       "      <td>0.012292</td>\n",
       "      <td>-0.001934</td>\n",
       "      <td>-0.000896</td>\n",
       "    </tr>\n",
       "    <tr>\n",
       "      <th>9/9/2021</th>\n",
       "      <td>0.006016</td>\n",
       "      <td>0.007850</td>\n",
       "      <td>0.005188</td>\n",
       "      <td>0.007825</td>\n",
       "      <td>0.007783</td>\n",
       "    </tr>\n",
       "    <tr>\n",
       "      <th>...</th>\n",
       "      <td>...</td>\n",
       "      <td>...</td>\n",
       "      <td>...</td>\n",
       "      <td>...</td>\n",
       "      <td>...</td>\n",
       "    </tr>\n",
       "    <tr>\n",
       "      <th>1/29/2020</th>\n",
       "      <td>-0.001306</td>\n",
       "      <td>0.021355</td>\n",
       "      <td>0.014777</td>\n",
       "      <td>-0.003221</td>\n",
       "      <td>-0.003125</td>\n",
       "    </tr>\n",
       "    <tr>\n",
       "      <th>1/28/2020</th>\n",
       "      <td>0.002441</td>\n",
       "      <td>-0.004331</td>\n",
       "      <td>0.001080</td>\n",
       "      <td>0.000812</td>\n",
       "      <td>0.000868</td>\n",
       "    </tr>\n",
       "    <tr>\n",
       "      <th>1/27/2020</th>\n",
       "      <td>-0.007782</td>\n",
       "      <td>-0.000404</td>\n",
       "      <td>-0.011949</td>\n",
       "      <td>-0.010019</td>\n",
       "      <td>-0.009953</td>\n",
       "    </tr>\n",
       "    <tr>\n",
       "      <th>1/24/2020</th>\n",
       "      <td>0.015169</td>\n",
       "      <td>-0.006512</td>\n",
       "      <td>0.006617</td>\n",
       "      <td>0.015841</td>\n",
       "      <td>0.015982</td>\n",
       "    </tr>\n",
       "    <tr>\n",
       "      <th>1/23/2020</th>\n",
       "      <td>0.008840</td>\n",
       "      <td>0.015907</td>\n",
       "      <td>0.023698</td>\n",
       "      <td>0.009040</td>\n",
       "      <td>0.009125</td>\n",
       "    </tr>\n",
       "  </tbody>\n",
       "</table>\n",
       "<p>416 rows × 5 columns</p>\n",
       "</div>"
      ],
      "text/plain": [
       "                NYC      DJIA  NSDQBTCH      RUSS    SPFIVE\n",
       "Date                                                       \n",
       "9/15/2021  0.003023  0.001815 -0.005032  0.000777  0.009195\n",
       "9/14/2021 -0.007798 -0.006802 -0.009430 -0.008308  0.001554\n",
       "9/13/2021  0.008375  0.008447  0.003466  0.005934 -0.004044\n",
       "9/10/2021 -0.004323 -0.007511  0.012292 -0.001934 -0.000896\n",
       "9/9/2021   0.006016  0.007850  0.005188  0.007825  0.007783\n",
       "...             ...       ...       ...       ...       ...\n",
       "1/29/2020 -0.001306  0.021355  0.014777 -0.003221 -0.003125\n",
       "1/28/2020  0.002441 -0.004331  0.001080  0.000812  0.000868\n",
       "1/27/2020 -0.007782 -0.000404 -0.011949 -0.010019 -0.009953\n",
       "1/24/2020  0.015169 -0.006512  0.006617  0.015841  0.015982\n",
       "1/23/2020  0.008840  0.015907  0.023698  0.009040  0.009125\n",
       "\n",
       "[416 rows x 5 columns]"
      ]
     },
     "execution_count": 33,
     "metadata": {},
     "output_type": "execute_result"
    }
   ],
   "source": [
    "dfaftcovid=df4r.iloc[1:417]\n",
    "dfaftcovid\n"
   ]
  },
  {
   "cell_type": "code",
   "execution_count": 34,
   "metadata": {},
   "outputs": [
    {
     "data": {
      "text/html": [
       "<div>\n",
       "<style scoped>\n",
       "    .dataframe tbody tr th:only-of-type {\n",
       "        vertical-align: middle;\n",
       "    }\n",
       "\n",
       "    .dataframe tbody tr th {\n",
       "        vertical-align: top;\n",
       "    }\n",
       "\n",
       "    .dataframe thead th {\n",
       "        text-align: right;\n",
       "    }\n",
       "</style>\n",
       "<table border=\"1\" class=\"dataframe\">\n",
       "  <thead>\n",
       "    <tr style=\"text-align: right;\">\n",
       "      <th></th>\n",
       "      <th>NYC</th>\n",
       "      <th>DJIA</th>\n",
       "      <th>NSDQBTCH</th>\n",
       "      <th>RUSS</th>\n",
       "      <th>SPFIVE</th>\n",
       "    </tr>\n",
       "  </thead>\n",
       "  <tbody>\n",
       "    <tr>\n",
       "      <th>count</th>\n",
       "      <td>416.000000</td>\n",
       "      <td>416.000000</td>\n",
       "      <td>416.000000</td>\n",
       "      <td>416.000000</td>\n",
       "      <td>416.000000</td>\n",
       "    </tr>\n",
       "    <tr>\n",
       "      <th>mean</th>\n",
       "      <td>-0.000228</td>\n",
       "      <td>-0.000259</td>\n",
       "      <td>-0.000675</td>\n",
       "      <td>-0.000589</td>\n",
       "      <td>-0.000532</td>\n",
       "    </tr>\n",
       "    <tr>\n",
       "      <th>std</th>\n",
       "      <td>0.018107</td>\n",
       "      <td>0.018984</td>\n",
       "      <td>0.019030</td>\n",
       "      <td>0.018080</td>\n",
       "      <td>0.017938</td>\n",
       "    </tr>\n",
       "    <tr>\n",
       "      <th>min</th>\n",
       "      <td>-0.091210</td>\n",
       "      <td>-0.102052</td>\n",
       "      <td>-0.065927</td>\n",
       "      <td>-0.086450</td>\n",
       "      <td>-0.085779</td>\n",
       "    </tr>\n",
       "    <tr>\n",
       "      <th>25%</th>\n",
       "      <td>-0.007429</td>\n",
       "      <td>-0.006822</td>\n",
       "      <td>-0.010704</td>\n",
       "      <td>-0.008302</td>\n",
       "      <td>-0.008082</td>\n",
       "    </tr>\n",
       "    <tr>\n",
       "      <th>50%</th>\n",
       "      <td>-0.001489</td>\n",
       "      <td>-0.001103</td>\n",
       "      <td>-0.001531</td>\n",
       "      <td>-0.001476</td>\n",
       "      <td>-0.001632</td>\n",
       "    </tr>\n",
       "    <tr>\n",
       "      <th>75%</th>\n",
       "      <td>0.005151</td>\n",
       "      <td>0.004859</td>\n",
       "      <td>0.009352</td>\n",
       "      <td>0.004822</td>\n",
       "      <td>0.004783</td>\n",
       "    </tr>\n",
       "    <tr>\n",
       "      <th>max</th>\n",
       "      <td>0.134251</td>\n",
       "      <td>0.148456</td>\n",
       "      <td>0.106927</td>\n",
       "      <td>0.138943</td>\n",
       "      <td>0.136158</td>\n",
       "    </tr>\n",
       "  </tbody>\n",
       "</table>\n",
       "</div>"
      ],
      "text/plain": [
       "              NYC        DJIA    NSDQBTCH        RUSS      SPFIVE\n",
       "count  416.000000  416.000000  416.000000  416.000000  416.000000\n",
       "mean    -0.000228   -0.000259   -0.000675   -0.000589   -0.000532\n",
       "std      0.018107    0.018984    0.019030    0.018080    0.017938\n",
       "min     -0.091210   -0.102052   -0.065927   -0.086450   -0.085779\n",
       "25%     -0.007429   -0.006822   -0.010704   -0.008302   -0.008082\n",
       "50%     -0.001489   -0.001103   -0.001531   -0.001476   -0.001632\n",
       "75%      0.005151    0.004859    0.009352    0.004822    0.004783\n",
       "max      0.134251    0.148456    0.106927    0.138943    0.136158"
      ]
     },
     "execution_count": 34,
     "metadata": {},
     "output_type": "execute_result"
    }
   ],
   "source": [
    "dfaftcovid.describe()"
   ]
  },
  {
   "cell_type": "code",
   "execution_count": 35,
   "metadata": {},
   "outputs": [
    {
     "data": {
      "text/plain": [
       "Ttest_indResult(statistic=0.47649551307409027, pvalue=0.6338744737956311)"
      ]
     },
     "execution_count": 35,
     "metadata": {},
     "output_type": "execute_result"
    }
   ],
   "source": [
    "## testing for the difference between before and after covid parameters\n",
    "from scipy import stats\n",
    "\n",
    "##defining returns for the foreign currency pairs\n",
    "nycRETURNSaft=dfaftcovid['NYC']\n",
    "nycRETURNSb4=dfb4covid['NYC']\n",
    "stats.ttest_ind(nycRETURNSaft,nycRETURNSb4)"
   ]
  },
  {
   "cell_type": "code",
   "execution_count": 36,
   "metadata": {},
   "outputs": [
    {
     "data": {
      "text/plain": [
       "Ttest_indResult(statistic=0.5194027630287549, pvalue=0.6036489183265943)"
      ]
     },
     "execution_count": 36,
     "metadata": {},
     "output_type": "execute_result"
    }
   ],
   "source": [
    "djiaRETURNSaft=dfaftcovid['DJIA']\n",
    "djiaRETURNSb4=dfb4covid['DJIA']\n",
    "stats.ttest_ind(djiaRETURNSaft,djiaRETURNSb4)"
   ]
  },
  {
   "cell_type": "code",
   "execution_count": 37,
   "metadata": {},
   "outputs": [
    {
     "data": {
      "text/plain": [
       "Ttest_indResult(statistic=0.012553333637402814, pvalue=0.9899878339703001)"
      ]
     },
     "execution_count": 37,
     "metadata": {},
     "output_type": "execute_result"
    }
   ],
   "source": [
    "nsdqbtchRETURNSaft=dfaftcovid['NSDQBTCH']\n",
    "nsdqbtchRETURNSb4=dfb4covid['NSDQBTCH']\n",
    "stats.ttest_ind(nsdqbtchRETURNSaft,nsdqbtchRETURNSb4)"
   ]
  },
  {
   "cell_type": "code",
   "execution_count": 38,
   "metadata": {},
   "outputs": [
    {
     "data": {
      "text/plain": [
       "Ttest_indResult(statistic=0.37891851125975784, pvalue=0.7048666586283507)"
      ]
     },
     "execution_count": 38,
     "metadata": {},
     "output_type": "execute_result"
    }
   ],
   "source": [
    "russRETURNSaft=dfaftcovid['RUSS']\n",
    "russRETURNSb4=dfb4covid['RUSS']\n",
    "stats.ttest_ind(russRETURNSaft,russRETURNSb4)"
   ]
  },
  {
   "cell_type": "code",
   "execution_count": 39,
   "metadata": {},
   "outputs": [
    {
     "data": {
      "text/plain": [
       "Ttest_indResult(statistic=0.4252947596490634, pvalue=0.6707563669658315)"
      ]
     },
     "execution_count": 39,
     "metadata": {},
     "output_type": "execute_result"
    }
   ],
   "source": [
    "spfiveRETURNSaft=dfaftcovid['SPFIVE']\n",
    "spfiveRETURNSb4=dfb4covid['SPFIVE']\n",
    "stats.ttest_ind(spfiveRETURNSaft,spfiveRETURNSb4)"
   ]
  },
  {
   "cell_type": "code",
   "execution_count": 40,
   "metadata": {},
   "outputs": [],
   "source": [
    "##define dataframe for price"
   ]
  },
  {
   "cell_type": "code",
   "execution_count": 41,
   "metadata": {},
   "outputs": [],
   "source": [
    "paftcovid=df.iloc[1:399]\n",
    "pb4covid=df.iloc[399:668]"
   ]
  },
  {
   "cell_type": "code",
   "execution_count": 42,
   "metadata": {},
   "outputs": [
    {
     "data": {
      "text/html": [
       "<div>\n",
       "<style scoped>\n",
       "    .dataframe tbody tr th:only-of-type {\n",
       "        vertical-align: middle;\n",
       "    }\n",
       "\n",
       "    .dataframe tbody tr th {\n",
       "        vertical-align: top;\n",
       "    }\n",
       "\n",
       "    .dataframe thead th {\n",
       "        text-align: right;\n",
       "    }\n",
       "</style>\n",
       "<table border=\"1\" class=\"dataframe\">\n",
       "  <thead>\n",
       "    <tr style=\"text-align: right;\">\n",
       "      <th></th>\n",
       "      <th>NYC</th>\n",
       "      <th>DJIA</th>\n",
       "      <th>NSDQBTCH</th>\n",
       "      <th>RUSS</th>\n",
       "      <th>SPFIVE</th>\n",
       "    </tr>\n",
       "  </thead>\n",
       "  <tbody>\n",
       "    <tr>\n",
       "      <th>count</th>\n",
       "      <td>398.000000</td>\n",
       "      <td>398.000000</td>\n",
       "      <td>398.000000</td>\n",
       "      <td>398.000000</td>\n",
       "      <td>398.000000</td>\n",
       "    </tr>\n",
       "    <tr>\n",
       "      <th>mean</th>\n",
       "      <td>14031.360126</td>\n",
       "      <td>29663.587839</td>\n",
       "      <td>4529.413844</td>\n",
       "      <td>2027.951281</td>\n",
       "      <td>3624.406055</td>\n",
       "    </tr>\n",
       "    <tr>\n",
       "      <th>std</th>\n",
       "      <td>2065.719105</td>\n",
       "      <td>4070.309567</td>\n",
       "      <td>545.553185</td>\n",
       "      <td>325.502392</td>\n",
       "      <td>554.810400</td>\n",
       "    </tr>\n",
       "    <tr>\n",
       "      <th>min</th>\n",
       "      <td>8777.380000</td>\n",
       "      <td>18591.930000</td>\n",
       "      <td>2961.940000</td>\n",
       "      <td>1224.450000</td>\n",
       "      <td>2237.400000</td>\n",
       "    </tr>\n",
       "    <tr>\n",
       "      <th>25%</th>\n",
       "      <td>12493.985000</td>\n",
       "      <td>26660.432500</td>\n",
       "      <td>4187.187500</td>\n",
       "      <td>1786.737500</td>\n",
       "      <td>3220.012500</td>\n",
       "    </tr>\n",
       "    <tr>\n",
       "      <th>50%</th>\n",
       "      <td>14195.040000</td>\n",
       "      <td>29897.080000</td>\n",
       "      <td>4564.995000</td>\n",
       "      <td>2052.940000</td>\n",
       "      <td>3642.920000</td>\n",
       "    </tr>\n",
       "    <tr>\n",
       "      <th>75%</th>\n",
       "      <td>16138.365000</td>\n",
       "      <td>33874.697500</td>\n",
       "      <td>4970.065000</td>\n",
       "      <td>2335.582500</td>\n",
       "      <td>4154.920000</td>\n",
       "    </tr>\n",
       "    <tr>\n",
       "      <th>max</th>\n",
       "      <td>16926.720000</td>\n",
       "      <td>35625.400000</td>\n",
       "      <td>5476.620000</td>\n",
       "      <td>2547.700000</td>\n",
       "      <td>4536.950000</td>\n",
       "    </tr>\n",
       "  </tbody>\n",
       "</table>\n",
       "</div>"
      ],
      "text/plain": [
       "                NYC          DJIA     NSDQBTCH         RUSS       SPFIVE\n",
       "count    398.000000    398.000000   398.000000   398.000000   398.000000\n",
       "mean   14031.360126  29663.587839  4529.413844  2027.951281  3624.406055\n",
       "std     2065.719105   4070.309567   545.553185   325.502392   554.810400\n",
       "min     8777.380000  18591.930000  2961.940000  1224.450000  2237.400000\n",
       "25%    12493.985000  26660.432500  4187.187500  1786.737500  3220.012500\n",
       "50%    14195.040000  29897.080000  4564.995000  2052.940000  3642.920000\n",
       "75%    16138.365000  33874.697500  4970.065000  2335.582500  4154.920000\n",
       "max    16926.720000  35625.400000  5476.620000  2547.700000  4536.950000"
      ]
     },
     "execution_count": 42,
     "metadata": {},
     "output_type": "execute_result"
    }
   ],
   "source": [
    "paftcovid.describe()"
   ]
  },
  {
   "cell_type": "code",
   "execution_count": 43,
   "metadata": {},
   "outputs": [
    {
     "data": {
      "text/html": [
       "<div>\n",
       "<style scoped>\n",
       "    .dataframe tbody tr th:only-of-type {\n",
       "        vertical-align: middle;\n",
       "    }\n",
       "\n",
       "    .dataframe tbody tr th {\n",
       "        vertical-align: top;\n",
       "    }\n",
       "\n",
       "    .dataframe thead th {\n",
       "        text-align: right;\n",
       "    }\n",
       "</style>\n",
       "<table border=\"1\" class=\"dataframe\">\n",
       "  <thead>\n",
       "    <tr style=\"text-align: right;\">\n",
       "      <th></th>\n",
       "      <th>NYC</th>\n",
       "      <th>DJIA</th>\n",
       "      <th>NSDQBTCH</th>\n",
       "      <th>RUSS</th>\n",
       "      <th>SPFIVE</th>\n",
       "    </tr>\n",
       "  </thead>\n",
       "  <tbody>\n",
       "    <tr>\n",
       "      <th>count</th>\n",
       "      <td>269.000000</td>\n",
       "      <td>269.000000</td>\n",
       "      <td>269.000000</td>\n",
       "      <td>269.000000</td>\n",
       "      <td>269.000000</td>\n",
       "    </tr>\n",
       "    <tr>\n",
       "      <th>mean</th>\n",
       "      <td>13057.777063</td>\n",
       "      <td>26844.679665</td>\n",
       "      <td>3442.160892</td>\n",
       "      <td>1647.837249</td>\n",
       "      <td>2977.689182</td>\n",
       "    </tr>\n",
       "    <tr>\n",
       "      <th>std</th>\n",
       "      <td>504.313440</td>\n",
       "      <td>1170.157612</td>\n",
       "      <td>208.305506</td>\n",
       "      <td>92.682935</td>\n",
       "      <td>170.411205</td>\n",
       "    </tr>\n",
       "    <tr>\n",
       "      <th>min</th>\n",
       "      <td>12029.450000</td>\n",
       "      <td>24528.220000</td>\n",
       "      <td>3052.820000</td>\n",
       "      <td>1462.980000</td>\n",
       "      <td>2640.000000</td>\n",
       "    </tr>\n",
       "    <tr>\n",
       "      <th>25%</th>\n",
       "      <td>12686.560000</td>\n",
       "      <td>25962.440000</td>\n",
       "      <td>3286.660000</td>\n",
       "      <td>1587.130000</td>\n",
       "      <td>2867.190000</td>\n",
       "    </tr>\n",
       "    <tr>\n",
       "      <th>50%</th>\n",
       "      <td>12965.320000</td>\n",
       "      <td>26597.050000</td>\n",
       "      <td>3400.630000</td>\n",
       "      <td>1630.400000</td>\n",
       "      <td>2945.350000</td>\n",
       "    </tr>\n",
       "    <tr>\n",
       "      <th>75%</th>\n",
       "      <td>13385.060000</td>\n",
       "      <td>27674.800000</td>\n",
       "      <td>3578.610000</td>\n",
       "      <td>1705.210000</td>\n",
       "      <td>3087.010000</td>\n",
       "    </tr>\n",
       "    <tr>\n",
       "      <th>max</th>\n",
       "      <td>14183.200000</td>\n",
       "      <td>29551.420000</td>\n",
       "      <td>3878.910000</td>\n",
       "      <td>1870.830000</td>\n",
       "      <td>3380.160000</td>\n",
       "    </tr>\n",
       "  </tbody>\n",
       "</table>\n",
       "</div>"
      ],
      "text/plain": [
       "                NYC          DJIA     NSDQBTCH         RUSS       SPFIVE\n",
       "count    269.000000    269.000000   269.000000   269.000000   269.000000\n",
       "mean   13057.777063  26844.679665  3442.160892  1647.837249  2977.689182\n",
       "std      504.313440   1170.157612   208.305506    92.682935   170.411205\n",
       "min    12029.450000  24528.220000  3052.820000  1462.980000  2640.000000\n",
       "25%    12686.560000  25962.440000  3286.660000  1587.130000  2867.190000\n",
       "50%    12965.320000  26597.050000  3400.630000  1630.400000  2945.350000\n",
       "75%    13385.060000  27674.800000  3578.610000  1705.210000  3087.010000\n",
       "max    14183.200000  29551.420000  3878.910000  1870.830000  3380.160000"
      ]
     },
     "execution_count": 43,
     "metadata": {},
     "output_type": "execute_result"
    }
   ],
   "source": [
    "pb4covid.describe()"
   ]
  },
  {
   "cell_type": "code",
   "execution_count": 44,
   "metadata": {},
   "outputs": [],
   "source": [
    "## testing for the difference between the prices befor and after"
   ]
  },
  {
   "cell_type": "code",
   "execution_count": 45,
   "metadata": {},
   "outputs": [
    {
     "data": {
      "text/plain": [
       "Ttest_indResult(statistic=7.577158352450624, pvalue=1.188358184119122e-13)"
      ]
     },
     "execution_count": 45,
     "metadata": {},
     "output_type": "execute_result"
    }
   ],
   "source": [
    "pnycRETURNSaft=paftcovid['NYC']\n",
    "pnycRETURNSb4=pb4covid['NYC']\n",
    "stats.ttest_ind(pnycRETURNSaft,pnycRETURNSb4)"
   ]
  },
  {
   "cell_type": "code",
   "execution_count": 46,
   "metadata": {},
   "outputs": [
    {
     "data": {
      "text/plain": [
       "Ttest_indResult(statistic=11.051836955410547, pvalue=3.481985208632158e-26)"
      ]
     },
     "execution_count": 46,
     "metadata": {},
     "output_type": "execute_result"
    }
   ],
   "source": [
    "pdjiaRETURNSaft=paftcovid['DJIA']\n",
    "pdjiaRETURNSb4=pb4covid['DJIA']\n",
    "stats.ttest_ind(pdjiaRETURNSaft,pdjiaRETURNSb4)"
   ]
  },
  {
   "cell_type": "code",
   "execution_count": 47,
   "metadata": {},
   "outputs": [
    {
     "data": {
      "text/plain": [
       "Ttest_indResult(statistic=31.180289228851326, pvalue=3.173534320670664e-132)"
      ]
     },
     "execution_count": 47,
     "metadata": {},
     "output_type": "execute_result"
    }
   ],
   "source": [
    "pnsdqbtchRETURNSaft=paftcovid['NSDQBTCH']\n",
    "pnsdqbtchRETURNSb4=pb4covid['NSDQBTCH']\n",
    "stats.ttest_ind(pnsdqbtchRETURNSaft,pnsdqbtchRETURNSb4)"
   ]
  },
  {
   "cell_type": "code",
   "execution_count": 48,
   "metadata": {},
   "outputs": [
    {
     "data": {
      "text/plain": [
       "Ttest_indResult(statistic=18.644860424090535, pvalue=9.930890457977132e-63)"
      ]
     },
     "execution_count": 48,
     "metadata": {},
     "output_type": "execute_result"
    }
   ],
   "source": [
    "prussRETURNSaft=paftcovid['RUSS']\n",
    "prussRETURNSb4=pb4covid['RUSS']\n",
    "stats.ttest_ind(prussRETURNSaft,prussRETURNSb4)"
   ]
  },
  {
   "cell_type": "code",
   "execution_count": 49,
   "metadata": {},
   "outputs": [
    {
     "data": {
      "text/plain": [
       "Ttest_indResult(statistic=18.532456234302213, pvalue=3.943218660145311e-62)"
      ]
     },
     "execution_count": 49,
     "metadata": {},
     "output_type": "execute_result"
    }
   ],
   "source": [
    "pspfiveRETURNSaft=paftcovid['SPFIVE']\n",
    "pspfiveRETURNSb4=pb4covid['SPFIVE']\n",
    "stats.ttest_ind(pspfiveRETURNSaft,pspfiveRETURNSb4)"
   ]
  }
 ],
 "metadata": {
  "kernelspec": {
   "display_name": "Python 3",
   "language": "python",
   "name": "python3"
  },
  "language_info": {
   "codemirror_mode": {
    "name": "ipython",
    "version": 3
   },
   "file_extension": ".py",
   "mimetype": "text/x-python",
   "name": "python",
   "nbconvert_exporter": "python",
   "pygments_lexer": "ipython3",
   "version": "3.7.6"
  }
 },
 "nbformat": 4,
 "nbformat_minor": 4
}
