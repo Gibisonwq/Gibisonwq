{
 "cells": [
  {
   "cell_type": "code",
   "execution_count": 54,
   "metadata": {},
   "outputs": [],
   "source": [
    "import numpy as np \n",
    "import pandas as pd \n",
    "import matplotlib.pyplot as plt \n",
    "import seaborn as sns\n",
    "np.random.seed(42)\n",
    "pd.core.common.is_list_like=pd.api.types.is_list_like\n",
    "import pandas_datareader.data as web\n"
   ]
  },
  {
   "cell_type": "code",
   "execution_count": 55,
   "metadata": {},
   "outputs": [],
   "source": [
    "import pandas_datareader\n",
    "import pandas_datareader.data as NET\n",
    "from datetime import datetime"
   ]
  },
  {
   "cell_type": "code",
   "execution_count": 56,
   "metadata": {},
   "outputs": [
    {
     "data": {
      "text/html": [
       "<div>\n",
       "<style scoped>\n",
       "    .dataframe tbody tr th:only-of-type {\n",
       "        vertical-align: middle;\n",
       "    }\n",
       "\n",
       "    .dataframe tbody tr th {\n",
       "        vertical-align: top;\n",
       "    }\n",
       "\n",
       "    .dataframe thead th {\n",
       "        text-align: right;\n",
       "    }\n",
       "</style>\n",
       "<table border=\"1\" class=\"dataframe\">\n",
       "  <thead>\n",
       "    <tr style=\"text-align: right;\">\n",
       "      <th></th>\n",
       "      <th>DATE</th>\n",
       "      <th>XRP_USDp</th>\n",
       "      <th>XRP_USDv</th>\n",
       "      <th>USDT_USDp</th>\n",
       "      <th>USDT_USDv</th>\n",
       "      <th>ETH_USDp</th>\n",
       "      <th>ETH_USDv</th>\n",
       "      <th>BTC_USDp</th>\n",
       "      <th>BTC_USDv</th>\n",
       "      <th>DOGE_USDp</th>\n",
       "      <th>DOGE_USDv</th>\n",
       "      <th>BNB_USDp</th>\n",
       "      <th>BNB_USDv</th>\n",
       "      <th>ADA_USDp</th>\n",
       "      <th>ADA_USDv</th>\n",
       "    </tr>\n",
       "  </thead>\n",
       "  <tbody>\n",
       "    <tr>\n",
       "      <th>0</th>\n",
       "      <td>8/22/2021</td>\n",
       "      <td>1.243458</td>\n",
       "      <td>4.513352e+09</td>\n",
       "      <td>1.000283</td>\n",
       "      <td>7.027238e+10</td>\n",
       "      <td>3254.117188</td>\n",
       "      <td>1.635194e+10</td>\n",
       "      <td>49210.132810</td>\n",
       "      <td>3.353331e+10</td>\n",
       "      <td>0.319108</td>\n",
       "      <td>2.534245e+09</td>\n",
       "      <td>455.832581</td>\n",
       "      <td>1.973444e+09</td>\n",
       "      <td>2.618708</td>\n",
       "      <td>5.606721e+09</td>\n",
       "    </tr>\n",
       "    <tr>\n",
       "      <th>1</th>\n",
       "      <td>8/21/2021</td>\n",
       "      <td>1.216473</td>\n",
       "      <td>4.955470e+09</td>\n",
       "      <td>1.000710</td>\n",
       "      <td>7.754619e+10</td>\n",
       "      <td>3226.083984</td>\n",
       "      <td>1.811398e+10</td>\n",
       "      <td>48905.492190</td>\n",
       "      <td>4.058521e+10</td>\n",
       "      <td>0.316797</td>\n",
       "      <td>2.600397e+09</td>\n",
       "      <td>448.920258</td>\n",
       "      <td>2.120661e+09</td>\n",
       "      <td>2.435435</td>\n",
       "      <td>4.710945e+09</td>\n",
       "    </tr>\n",
       "    <tr>\n",
       "      <th>2</th>\n",
       "      <td>8/20/2021</td>\n",
       "      <td>1.263222</td>\n",
       "      <td>6.600354e+09</td>\n",
       "      <td>1.000668</td>\n",
       "      <td>7.500765e+10</td>\n",
       "      <td>3286.935303</td>\n",
       "      <td>2.088562e+10</td>\n",
       "      <td>49339.175780</td>\n",
       "      <td>3.470687e+10</td>\n",
       "      <td>0.327491</td>\n",
       "      <td>3.512291e+09</td>\n",
       "      <td>454.936310</td>\n",
       "      <td>2.451579e+09</td>\n",
       "      <td>2.457702</td>\n",
       "      <td>8.323305e+09</td>\n",
       "    </tr>\n",
       "    <tr>\n",
       "      <th>3</th>\n",
       "      <td>8/19/2021</td>\n",
       "      <td>1.232842</td>\n",
       "      <td>6.781868e+09</td>\n",
       "      <td>0.999685</td>\n",
       "      <td>7.953519e+10</td>\n",
       "      <td>3182.702148</td>\n",
       "      <td>1.954629e+10</td>\n",
       "      <td>46717.578130</td>\n",
       "      <td>3.720431e+10</td>\n",
       "      <td>0.317144</td>\n",
       "      <td>3.760496e+09</td>\n",
       "      <td>430.988861</td>\n",
       "      <td>2.549215e+09</td>\n",
       "      <td>2.428140</td>\n",
       "      <td>8.287149e+09</td>\n",
       "    </tr>\n",
       "    <tr>\n",
       "      <th>4</th>\n",
       "      <td>8/18/2021</td>\n",
       "      <td>1.146097</td>\n",
       "      <td>7.559386e+09</td>\n",
       "      <td>1.000474</td>\n",
       "      <td>7.956238e+10</td>\n",
       "      <td>3020.089844</td>\n",
       "      <td>2.153925e+10</td>\n",
       "      <td>44801.187500</td>\n",
       "      <td>3.219412e+10</td>\n",
       "      <td>0.303739</td>\n",
       "      <td>6.347996e+09</td>\n",
       "      <td>398.251465</td>\n",
       "      <td>2.288117e+09</td>\n",
       "      <td>2.108560</td>\n",
       "      <td>4.919305e+09</td>\n",
       "    </tr>\n",
       "    <tr>\n",
       "      <th>...</th>\n",
       "      <td>...</td>\n",
       "      <td>...</td>\n",
       "      <td>...</td>\n",
       "      <td>...</td>\n",
       "      <td>...</td>\n",
       "      <td>...</td>\n",
       "      <td>...</td>\n",
       "      <td>...</td>\n",
       "      <td>...</td>\n",
       "      <td>...</td>\n",
       "      <td>...</td>\n",
       "      <td>...</td>\n",
       "      <td>...</td>\n",
       "      <td>...</td>\n",
       "      <td>...</td>\n",
       "    </tr>\n",
       "    <tr>\n",
       "      <th>960</th>\n",
       "      <td>1/5/2019</td>\n",
       "      <td>0.355275</td>\n",
       "      <td>4.520902e+08</td>\n",
       "      <td>1.018489</td>\n",
       "      <td>3.993807e+09</td>\n",
       "      <td>155.638596</td>\n",
       "      <td>3.338212e+09</td>\n",
       "      <td>3845.194580</td>\n",
       "      <td>5.137610e+09</td>\n",
       "      <td>0.002319</td>\n",
       "      <td>1.714859e+07</td>\n",
       "      <td>6.065543</td>\n",
       "      <td>3.034064e+07</td>\n",
       "      <td>0.044701</td>\n",
       "      <td>2.510096e+07</td>\n",
       "    </tr>\n",
       "    <tr>\n",
       "      <th>961</th>\n",
       "      <td>1/4/2019</td>\n",
       "      <td>0.356747</td>\n",
       "      <td>4.506339e+08</td>\n",
       "      <td>1.017200</td>\n",
       "      <td>3.895787e+09</td>\n",
       "      <td>154.581940</td>\n",
       "      <td>3.126193e+09</td>\n",
       "      <td>3857.717529</td>\n",
       "      <td>4.847965e+09</td>\n",
       "      <td>0.002315</td>\n",
       "      <td>1.953010e+07</td>\n",
       "      <td>6.065138</td>\n",
       "      <td>2.931114e+07</td>\n",
       "      <td>0.043812</td>\n",
       "      <td>1.602403e+07</td>\n",
       "    </tr>\n",
       "    <tr>\n",
       "      <th>962</th>\n",
       "      <td>1/3/2019</td>\n",
       "      <td>0.360224</td>\n",
       "      <td>4.388738e+08</td>\n",
       "      <td>1.019473</td>\n",
       "      <td>3.487203e+09</td>\n",
       "      <td>149.135010</td>\n",
       "      <td>2.676165e+09</td>\n",
       "      <td>3836.741211</td>\n",
       "      <td>4.530215e+09</td>\n",
       "      <td>0.002360</td>\n",
       "      <td>1.761923e+07</td>\n",
       "      <td>5.903535</td>\n",
       "      <td>2.282164e+07</td>\n",
       "      <td>0.042682</td>\n",
       "      <td>2.112696e+07</td>\n",
       "    </tr>\n",
       "    <tr>\n",
       "      <th>963</th>\n",
       "      <td>1/2/2019</td>\n",
       "      <td>0.375243</td>\n",
       "      <td>5.432167e+08</td>\n",
       "      <td>1.024012</td>\n",
       "      <td>4.442755e+09</td>\n",
       "      <td>155.047684</td>\n",
       "      <td>3.328240e+09</td>\n",
       "      <td>3943.409424</td>\n",
       "      <td>5.244857e+09</td>\n",
       "      <td>0.002407</td>\n",
       "      <td>1.801539e+07</td>\n",
       "      <td>6.188613</td>\n",
       "      <td>3.030861e+07</td>\n",
       "      <td>0.045258</td>\n",
       "      <td>2.415153e+07</td>\n",
       "    </tr>\n",
       "    <tr>\n",
       "      <th>964</th>\n",
       "      <td>1/1/2019</td>\n",
       "      <td>0.364771</td>\n",
       "      <td>4.493476e+08</td>\n",
       "      <td>1.018335</td>\n",
       "      <td>3.139235e+09</td>\n",
       "      <td>140.819412</td>\n",
       "      <td>2.258710e+09</td>\n",
       "      <td>3843.520020</td>\n",
       "      <td>4.324201e+09</td>\n",
       "      <td>0.002392</td>\n",
       "      <td>1.736474e+07</td>\n",
       "      <td>6.075273</td>\n",
       "      <td>2.389116e+07</td>\n",
       "      <td>0.042547</td>\n",
       "      <td>1.496290e+07</td>\n",
       "    </tr>\n",
       "  </tbody>\n",
       "</table>\n",
       "<p>965 rows × 15 columns</p>\n",
       "</div>"
      ],
      "text/plain": [
       "          DATE  XRP_USDp      XRP_USDv  USDT_USDp     USDT_USDv     ETH_USDp  \\\n",
       "0    8/22/2021  1.243458  4.513352e+09   1.000283  7.027238e+10  3254.117188   \n",
       "1    8/21/2021  1.216473  4.955470e+09   1.000710  7.754619e+10  3226.083984   \n",
       "2    8/20/2021  1.263222  6.600354e+09   1.000668  7.500765e+10  3286.935303   \n",
       "3    8/19/2021  1.232842  6.781868e+09   0.999685  7.953519e+10  3182.702148   \n",
       "4    8/18/2021  1.146097  7.559386e+09   1.000474  7.956238e+10  3020.089844   \n",
       "..         ...       ...           ...        ...           ...          ...   \n",
       "960   1/5/2019  0.355275  4.520902e+08   1.018489  3.993807e+09   155.638596   \n",
       "961   1/4/2019  0.356747  4.506339e+08   1.017200  3.895787e+09   154.581940   \n",
       "962   1/3/2019  0.360224  4.388738e+08   1.019473  3.487203e+09   149.135010   \n",
       "963   1/2/2019  0.375243  5.432167e+08   1.024012  4.442755e+09   155.047684   \n",
       "964   1/1/2019  0.364771  4.493476e+08   1.018335  3.139235e+09   140.819412   \n",
       "\n",
       "         ETH_USDv      BTC_USDp      BTC_USDv  DOGE_USDp     DOGE_USDv  \\\n",
       "0    1.635194e+10  49210.132810  3.353331e+10   0.319108  2.534245e+09   \n",
       "1    1.811398e+10  48905.492190  4.058521e+10   0.316797  2.600397e+09   \n",
       "2    2.088562e+10  49339.175780  3.470687e+10   0.327491  3.512291e+09   \n",
       "3    1.954629e+10  46717.578130  3.720431e+10   0.317144  3.760496e+09   \n",
       "4    2.153925e+10  44801.187500  3.219412e+10   0.303739  6.347996e+09   \n",
       "..            ...           ...           ...        ...           ...   \n",
       "960  3.338212e+09   3845.194580  5.137610e+09   0.002319  1.714859e+07   \n",
       "961  3.126193e+09   3857.717529  4.847965e+09   0.002315  1.953010e+07   \n",
       "962  2.676165e+09   3836.741211  4.530215e+09   0.002360  1.761923e+07   \n",
       "963  3.328240e+09   3943.409424  5.244857e+09   0.002407  1.801539e+07   \n",
       "964  2.258710e+09   3843.520020  4.324201e+09   0.002392  1.736474e+07   \n",
       "\n",
       "       BNB_USDp      BNB_USDv  ADA_USDp      ADA_USDv  \n",
       "0    455.832581  1.973444e+09  2.618708  5.606721e+09  \n",
       "1    448.920258  2.120661e+09  2.435435  4.710945e+09  \n",
       "2    454.936310  2.451579e+09  2.457702  8.323305e+09  \n",
       "3    430.988861  2.549215e+09  2.428140  8.287149e+09  \n",
       "4    398.251465  2.288117e+09  2.108560  4.919305e+09  \n",
       "..          ...           ...       ...           ...  \n",
       "960    6.065543  3.034064e+07  0.044701  2.510096e+07  \n",
       "961    6.065138  2.931114e+07  0.043812  1.602403e+07  \n",
       "962    5.903535  2.282164e+07  0.042682  2.112696e+07  \n",
       "963    6.188613  3.030861e+07  0.045258  2.415153e+07  \n",
       "964    6.075273  2.389116e+07  0.042547  1.496290e+07  \n",
       "\n",
       "[965 rows x 15 columns]"
      ]
     },
     "execution_count": 56,
     "metadata": {},
     "output_type": "execute_result"
    }
   ],
   "source": [
    "df=pd.read_csv('cryptodataUSA.csv')\n",
    "df"
   ]
  },
  {
   "cell_type": "code",
   "execution_count": 57,
   "metadata": {},
   "outputs": [
    {
     "data": {
      "text/html": [
       "<div>\n",
       "<style scoped>\n",
       "    .dataframe tbody tr th:only-of-type {\n",
       "        vertical-align: middle;\n",
       "    }\n",
       "\n",
       "    .dataframe tbody tr th {\n",
       "        vertical-align: top;\n",
       "    }\n",
       "\n",
       "    .dataframe thead th {\n",
       "        text-align: right;\n",
       "    }\n",
       "</style>\n",
       "<table border=\"1\" class=\"dataframe\">\n",
       "  <thead>\n",
       "    <tr style=\"text-align: right;\">\n",
       "      <th></th>\n",
       "      <th>XRP_USDp</th>\n",
       "      <th>XRP_USDv</th>\n",
       "      <th>USDT_USDp</th>\n",
       "      <th>USDT_USDv</th>\n",
       "      <th>ETH_USDp</th>\n",
       "      <th>ETH_USDv</th>\n",
       "      <th>BTC_USDp</th>\n",
       "      <th>BTC_USDv</th>\n",
       "      <th>DOGE_USDp</th>\n",
       "      <th>DOGE_USDv</th>\n",
       "      <th>BNB_USDp</th>\n",
       "      <th>BNB_USDv</th>\n",
       "      <th>ADA_USDp</th>\n",
       "      <th>ADA_USDv</th>\n",
       "    </tr>\n",
       "  </thead>\n",
       "  <tbody>\n",
       "    <tr>\n",
       "      <th>count</th>\n",
       "      <td>961.000000</td>\n",
       "      <td>9.610000e+02</td>\n",
       "      <td>961.000000</td>\n",
       "      <td>9.610000e+02</td>\n",
       "      <td>961.000000</td>\n",
       "      <td>9.610000e+02</td>\n",
       "      <td>961.000000</td>\n",
       "      <td>9.610000e+02</td>\n",
       "      <td>961.000000</td>\n",
       "      <td>9.610000e+02</td>\n",
       "      <td>961.000000</td>\n",
       "      <td>9.610000e+02</td>\n",
       "      <td>961.000000</td>\n",
       "      <td>9.610000e+02</td>\n",
       "    </tr>\n",
       "    <tr>\n",
       "      <th>mean</th>\n",
       "      <td>0.402515</td>\n",
       "      <td>3.549490e+09</td>\n",
       "      <td>1.002492</td>\n",
       "      <td>4.820922e+10</td>\n",
       "      <td>713.380123</td>\n",
       "      <td>1.564997e+10</td>\n",
       "      <td>17779.313237</td>\n",
       "      <td>3.157224e+10</td>\n",
       "      <td>0.048193</td>\n",
       "      <td>1.354059e+09</td>\n",
       "      <td>90.512535</td>\n",
       "      <td>9.951362e+08</td>\n",
       "      <td>0.348984</td>\n",
       "      <td>1.340126e+09</td>\n",
       "    </tr>\n",
       "    <tr>\n",
       "      <th>std</th>\n",
       "      <td>0.294633</td>\n",
       "      <td>4.671226e+09</td>\n",
       "      <td>0.004744</td>\n",
       "      <td>4.107823e+10</td>\n",
       "      <td>899.233383</td>\n",
       "      <td>1.184447e+10</td>\n",
       "      <td>16168.632129</td>\n",
       "      <td>2.167343e+10</td>\n",
       "      <td>0.110348</td>\n",
       "      <td>4.668324e+09</td>\n",
       "      <td>147.371955</td>\n",
       "      <td>1.744764e+09</td>\n",
       "      <td>0.546438</td>\n",
       "      <td>2.503624e+09</td>\n",
       "    </tr>\n",
       "    <tr>\n",
       "      <th>min</th>\n",
       "      <td>0.139635</td>\n",
       "      <td>3.449603e+08</td>\n",
       "      <td>0.974248</td>\n",
       "      <td>3.139235e+09</td>\n",
       "      <td>104.535301</td>\n",
       "      <td>2.212109e+09</td>\n",
       "      <td>3399.471680</td>\n",
       "      <td>4.324201e+09</td>\n",
       "      <td>0.001537</td>\n",
       "      <td>1.181302e+07</td>\n",
       "      <td>5.568757</td>\n",
       "      <td>2.282164e+07</td>\n",
       "      <td>0.023961</td>\n",
       "      <td>1.101152e+07</td>\n",
       "    </tr>\n",
       "    <tr>\n",
       "      <th>25%</th>\n",
       "      <td>0.239233</td>\n",
       "      <td>1.176448e+09</td>\n",
       "      <td>1.000190</td>\n",
       "      <td>1.980102e+10</td>\n",
       "      <td>173.059143</td>\n",
       "      <td>7.439385e+09</td>\n",
       "      <td>7911.430176</td>\n",
       "      <td>1.754679e+10</td>\n",
       "      <td>0.002413</td>\n",
       "      <td>4.287888e+07</td>\n",
       "      <td>16.639593</td>\n",
       "      <td>2.044404e+08</td>\n",
       "      <td>0.045698</td>\n",
       "      <td>6.731125e+07</td>\n",
       "    </tr>\n",
       "    <tr>\n",
       "      <th>50%</th>\n",
       "      <td>0.298165</td>\n",
       "      <td>1.878269e+09</td>\n",
       "      <td>1.001190</td>\n",
       "      <td>3.659672e+10</td>\n",
       "      <td>241.931320</td>\n",
       "      <td>1.175774e+10</td>\n",
       "      <td>9900.767578</td>\n",
       "      <td>2.592266e+10</td>\n",
       "      <td>0.002774</td>\n",
       "      <td>8.686588e+07</td>\n",
       "      <td>23.080753</td>\n",
       "      <td>3.290018e+08</td>\n",
       "      <td>0.082950</td>\n",
       "      <td>1.851613e+08</td>\n",
       "    </tr>\n",
       "    <tr>\n",
       "      <th>75%</th>\n",
       "      <td>0.437555</td>\n",
       "      <td>3.273785e+09</td>\n",
       "      <td>1.003764</td>\n",
       "      <td>6.061675e+10</td>\n",
       "      <td>654.811951</td>\n",
       "      <td>2.074210e+10</td>\n",
       "      <td>24664.791020</td>\n",
       "      <td>4.073030e+10</td>\n",
       "      <td>0.004582</td>\n",
       "      <td>2.651569e+08</td>\n",
       "      <td>37.134727</td>\n",
       "      <td>5.900397e+08</td>\n",
       "      <td>0.166639</td>\n",
       "      <td>1.354296e+09</td>\n",
       "    </tr>\n",
       "    <tr>\n",
       "      <th>max</th>\n",
       "      <td>1.839236</td>\n",
       "      <td>3.695518e+10</td>\n",
       "      <td>1.053585</td>\n",
       "      <td>2.790000e+11</td>\n",
       "      <td>4168.701172</td>\n",
       "      <td>8.448291e+10</td>\n",
       "      <td>63503.457030</td>\n",
       "      <td>3.510000e+11</td>\n",
       "      <td>0.684777</td>\n",
       "      <td>6.941068e+10</td>\n",
       "      <td>675.684082</td>\n",
       "      <td>1.798295e+10</td>\n",
       "      <td>2.618708</td>\n",
       "      <td>1.914198e+10</td>\n",
       "    </tr>\n",
       "  </tbody>\n",
       "</table>\n",
       "</div>"
      ],
      "text/plain": [
       "         XRP_USDp      XRP_USDv   USDT_USDp     USDT_USDv     ETH_USDp  \\\n",
       "count  961.000000  9.610000e+02  961.000000  9.610000e+02   961.000000   \n",
       "mean     0.402515  3.549490e+09    1.002492  4.820922e+10   713.380123   \n",
       "std      0.294633  4.671226e+09    0.004744  4.107823e+10   899.233383   \n",
       "min      0.139635  3.449603e+08    0.974248  3.139235e+09   104.535301   \n",
       "25%      0.239233  1.176448e+09    1.000190  1.980102e+10   173.059143   \n",
       "50%      0.298165  1.878269e+09    1.001190  3.659672e+10   241.931320   \n",
       "75%      0.437555  3.273785e+09    1.003764  6.061675e+10   654.811951   \n",
       "max      1.839236  3.695518e+10    1.053585  2.790000e+11  4168.701172   \n",
       "\n",
       "           ETH_USDv      BTC_USDp      BTC_USDv   DOGE_USDp     DOGE_USDv  \\\n",
       "count  9.610000e+02    961.000000  9.610000e+02  961.000000  9.610000e+02   \n",
       "mean   1.564997e+10  17779.313237  3.157224e+10    0.048193  1.354059e+09   \n",
       "std    1.184447e+10  16168.632129  2.167343e+10    0.110348  4.668324e+09   \n",
       "min    2.212109e+09   3399.471680  4.324201e+09    0.001537  1.181302e+07   \n",
       "25%    7.439385e+09   7911.430176  1.754679e+10    0.002413  4.287888e+07   \n",
       "50%    1.175774e+10   9900.767578  2.592266e+10    0.002774  8.686588e+07   \n",
       "75%    2.074210e+10  24664.791020  4.073030e+10    0.004582  2.651569e+08   \n",
       "max    8.448291e+10  63503.457030  3.510000e+11    0.684777  6.941068e+10   \n",
       "\n",
       "         BNB_USDp      BNB_USDv    ADA_USDp      ADA_USDv  \n",
       "count  961.000000  9.610000e+02  961.000000  9.610000e+02  \n",
       "mean    90.512535  9.951362e+08    0.348984  1.340126e+09  \n",
       "std    147.371955  1.744764e+09    0.546438  2.503624e+09  \n",
       "min      5.568757  2.282164e+07    0.023961  1.101152e+07  \n",
       "25%     16.639593  2.044404e+08    0.045698  6.731125e+07  \n",
       "50%     23.080753  3.290018e+08    0.082950  1.851613e+08  \n",
       "75%     37.134727  5.900397e+08    0.166639  1.354296e+09  \n",
       "max    675.684082  1.798295e+10    2.618708  1.914198e+10  "
      ]
     },
     "execution_count": 57,
     "metadata": {},
     "output_type": "execute_result"
    }
   ],
   "source": [
    "df.describe()"
   ]
  },
  {
   "cell_type": "code",
   "execution_count": 58,
   "metadata": {},
   "outputs": [],
   "source": [
    "#returns calculation\n",
    "XRP_USDp_RETURNS= df['XRP_USDp'].pct_change(1)\n",
    "USDT_USDp_RETURNS = df['USDT_USDp'].pct_change(1)\n",
    "ETH_USDp_RETURNS = df['ETH_USDp'].pct_change(1)\n",
    "BTC_USDp_RETURNS = df['BTC_USDp'].pct_change(1)\n",
    "DOGE_USDp_RETURNS = df['DOGE_USDp'].pct_change(1)\n",
    "BNB_USDp_RETURNS = df['BNB_USDp'].pct_change(1)\n"
   ]
  },
  {
   "cell_type": "code",
   "execution_count": 59,
   "metadata": {},
   "outputs": [],
   "source": [
    "XRP_USDv_RETURNS= df['XRP_USDv'].pct_change(1)\n",
    "USDT_USDv_RETURNS = df['USDT_USDv'].pct_change(1)\n",
    "ETH_USDv_RETURNS = df['ETH_USDv'].pct_change(1)\n",
    "BTC_USDv_RETURNS = df['BTC_USDv'].pct_change(1)\n",
    "DOGE_USDv_RETURNS = df['DOGE_USDv'].pct_change(1)\n",
    "BNB_USDv_RETURNS = df['BNB_USDv'].pct_change(1)"
   ]
  },
  {
   "cell_type": "code",
   "execution_count": 60,
   "metadata": {},
   "outputs": [],
   "source": [
    "## QQ PLOTS \n",
    "import statsmodels.api as sm\n",
    "import pylab as py"
   ]
  },
  {
   "cell_type": "code",
   "execution_count": 61,
   "metadata": {},
   "outputs": [
    {
     "data": {
      "image/png": "[encoded data removed]",
      "text/plain": [
       "<Figure size 432x288 with 1 Axes>"
      ]
     },
     "metadata": {
      "needs_background": "light"
     },
     "output_type": "display_data"
    },
    {
     "data": {
      "image/png": "[encoded data removed]",
      "text/plain": [
       "<Figure size 432x288 with 1 Axes>"
      ]
     },
     "metadata": {
      "needs_background": "light"
     },
     "output_type": "display_data"
    },
    {
     "data": {
      "image/png": "[encoded data removed]",
      "text/plain": [
       "<Figure size 432x288 with 1 Axes>"
      ]
     },
     "metadata": {
      "needs_background": "light"
     },
     "output_type": "display_data"
    },
    {
     "data": {
      "image/png": "[encoded data removed]",
      "text/plain": [
       "<Figure size 432x288 with 1 Axes>"
      ]
     },
     "metadata": {
      "needs_background": "light"
     },
     "output_type": "display_data"
    },
    {
     "data": {
      "image/png": "[encoded data removed]",
      "text/plain": [
       "<Figure size 432x288 with 1 Axes>"
      ]
     },
     "metadata": {
      "needs_background": "light"
     },
     "output_type": "display_data"
    },
    {
     "data": {
      "image/png": "[encoded data removed]",
      "text/plain": [
       "<Figure size 432x288 with 1 Axes>"
      ]
     },
     "metadata": {
      "needs_background": "light"
     },
     "output_type": "display_data"
    }
   ],
   "source": [
    "sm.qqplot(XRP_USDp_RETURNS, line ='45')\n",
    "py.show()\n",
    "sm.qqplot(USDT_USDp_RETURNS, line ='45')\n",
    "py.show()\n",
    "sm.qqplot(ETH_USDp_RETURNS, line ='45')\n",
    "py.show()\n",
    "sm.qqplot(BTC_USDp_RETURNS, line ='45')\n",
    "py.show()\n",
    "sm.qqplot(DOGE_USDp_RETURNS, line ='45')\n",
    "py.show()\n",
    "sm.qqplot(BNB_USDp_RETURNS, line ='45')\n",
    "py.show()"
   ]
  },
  {
   "cell_type": "code",
   "execution_count": 62,
   "metadata": {},
   "outputs": [
    {
     "data": {
      "image/png": "[encoded data removed]",
      "text/plain": [
       "<Figure size 432x288 with 1 Axes>"
      ]
     },
     "metadata": {
      "needs_background": "light"
     },
     "output_type": "display_data"
    },
    {
     "data": {
      "image/png": "[encoded data removed]",
      "text/plain": [
       "<Figure size 432x288 with 1 Axes>"
      ]
     },
     "metadata": {
      "needs_background": "light"
     },
     "output_type": "display_data"
    },
    {
     "data": {
      "image/png": "[encoded data removed]",
      "text/plain": [
       "<Figure size 432x288 with 1 Axes>"
      ]
     },
     "metadata": {
      "needs_background": "light"
     },
     "output_type": "display_data"
    },
    {
     "data": {
      "image/png": "[encoded data removed]",
      "text/plain": [
       "<Figure size 432x288 with 1 Axes>"
      ]
     },
     "metadata": {
      "needs_background": "light"
     },
     "output_type": "display_data"
    },
    {
     "data": {
      "image/png": "[encoded data removed]",
      "text/plain": [
       "<Figure size 432x288 with 1 Axes>"
      ]
     },
     "metadata": {
      "needs_background": "light"
     },
     "output_type": "display_data"
    },
    {
     "data": {
      "image/png": "[encoded data removed]",
      "text/plain": [
       "<Figure size 432x288 with 1 Axes>"
      ]
     },
     "metadata": {
      "needs_background": "light"
     },
     "output_type": "display_data"
    }
   ],
   "source": [
    "# DENSITY PLOTS \n",
    "#returns calculation\n",
    "XRP_USDp_RETURNS= df['XRP_USDp'].pct_change(1)\n",
    "USDT_USDp_RETURNS = df['USDT_USDp'].pct_change(1)\n",
    "ETH_USDp_RETURNS = df['ETH_USDp'].pct_change(1)\n",
    "BTC_USDp_RETURNS = df['BTC_USDp'].pct_change(1)\n",
    "DOGE_USDp_RETURNS = df['DOGE_USDp'].pct_change(1)\n",
    "BNB_USDp_RETURNS = df['BNB_USDp'].pct_change(1)\n",
    "\n",
    "df.XRP_USDp.plot.density(color='green')\n",
    "plt.title('Density Plot for ripple')\n",
    "plt.show()\n",
    "\n",
    "df.USDT_USDp.plot.density(color='green')\n",
    "plt.title('Density Plot for usd coin')\n",
    "plt.show()\n",
    " \n",
    "df.ETH_USDp.plot.density(color='green')\n",
    "plt.title('Density Plot for ethereum')\n",
    "plt.show()\n",
    "\n",
    "df.BTC_USDp.plot.density(color='green')\n",
    "plt.title('Density Plot for bitcoin')\n",
    "plt.show()\n",
    "\n",
    "df.DOGE_USDp.plot.density(color='green')\n",
    "plt.title('Density Plot for dodgecoin')\n",
    "plt.show()\n",
    "\n",
    "df.BNB_USDp.plot.density(color='green')\n",
    "plt.title('Density Plot for binance')\n",
    "plt.show()"
   ]
  },
  {
   "cell_type": "code",
   "execution_count": 63,
   "metadata": {},
   "outputs": [
    {
     "name": "stdout",
     "output_type": "stream",
     "text": [
      "stat=nan,p=1.000\n",
      "\n",
      "XRP_USDp_RETURNS data is normally distributed\n",
      "stat=nan,p=1.000\n",
      "\n",
      "USDT_USDp_RETURNS data is normally distributed\n",
      "stat=nan,p=1.000\n",
      "\n",
      "ETH_USDp_RETURNS data is normally distributed\n",
      "stat=nan,p=1.000\n",
      "\n",
      "BTC_USDp_RETURNS data is normally distributed\n",
      "stat=nan,p=1.000\n",
      "\n",
      "DOGE_USDp_RETURNS data is normally distributed\n",
      "stat=nan,p=1.000\n",
      "\n",
      "BNB_USDp_RETURNS data is normally distributed\n"
     ]
    }
   ],
   "source": [
    "##test whether the distribution fits a normal  for both the chosen series\n",
    "#test for normality :The Shapiro-Wilk  first series\n",
    "from scipy.stats import shapiro\n",
    "from scipy.stats import shapiro\n",
    "XRP_USDp_RETURNS= df['XRP_USDp'].pct_change(1)\n",
    "USDT_USDp_RETURNS = df['USDT_USDp'].pct_change(1)\n",
    "ETH_USDp_RETURNS = df['ETH_USDp'].pct_change(1)\n",
    "BTC_USDp_RETURNS = df['BTC_USDp'].pct_change(1)\n",
    "DOGE_USDp_RETURNS = df['DOGE_USDp'].pct_change(1)\n",
    "BNB_USDp_RETURNS = df['BNB_USDp'].pct_change(1)\n",
    "\n",
    "N1=XRP_USDp_RETURNS\n",
    "stat,p=shapiro(N1)\n",
    "print('stat=%.3f,p=%.3f\\n'%(stat,p))\n",
    "if p>0.05:\n",
    "    print('XRP_USDp_RETURNS data is normally distributed')\n",
    "    \n",
    "else:\n",
    "    print('XRP_USDp_RETURNS data is not  normally distributed')\n",
    " \n",
    " \n",
    "from scipy.stats import shapiro\n",
    "from scipy.stats import shapiro\n",
    "\n",
    "N1=USDT_USDp_RETURNS\n",
    "stat,p=shapiro(N1)\n",
    "print('stat=%.3f,p=%.3f\\n'%(stat,p))\n",
    "if p>0.05:\n",
    "    print('USDT_USDp_RETURNS data is normally distributed')\n",
    "    \n",
    "else:\n",
    "    print('USDT_USDp_RETURNS data is not  normally distributed')\n",
    "    \n",
    "    \n",
    "from scipy.stats import shapiro\n",
    "from scipy.stats import shapiro\n",
    "\n",
    "N1=ETH_USDp_RETURNS\n",
    "stat,p=shapiro(N1)\n",
    "print('stat=%.3f,p=%.3f\\n'%(stat,p))\n",
    "if p>0.05:\n",
    "    print('ETH_USDp_RETURNS data is normally distributed')\n",
    "    \n",
    "else:\n",
    "    print('ETH_USDp_RETURNS data is not  normally distributed')\n",
    " \n",
    "\n",
    "from scipy.stats import shapiro\n",
    "from scipy.stats import shapiro\n",
    "\n",
    "N1=BTC_USDp_RETURNS\n",
    "stat,p=shapiro(N1)\n",
    "print('stat=%.3f,p=%.3f\\n'%(stat,p))\n",
    "if p>0.05:\n",
    "    print('BTC_USDp_RETURNS data is normally distributed')\n",
    "    \n",
    "else:\n",
    "    print('BTC_USDp_RETURNS data is not  normally distributed')\n",
    "    \n",
    "    from scipy.stats import shapiro\n",
    "from scipy.stats import shapiro\n",
    "\n",
    "N1=DOGE_USDp_RETURNS\n",
    "stat,p=shapiro(N1)\n",
    "print('stat=%.3f,p=%.3f\\n'%(stat,p))\n",
    "if p>0.05:\n",
    "    print('DOGE_USDp_RETURNS data is normally distributed')\n",
    "    \n",
    "else:\n",
    "    print('DOGE_USDp_RETURNS data is not  normally distributed')\n",
    " \n",
    "\n",
    "from scipy.stats import shapiro\n",
    "from scipy.stats import shapiro\n",
    "\n",
    "N1=BNB_USDp_RETURNS\n",
    "stat,p=shapiro(N1)\n",
    "print('stat=%.3f,p=%.3f\\n'%(stat,p))\n",
    "if p>0.05:\n",
    "    print('BNB_USDp_RETURNS data is normally distributed')\n",
    "    \n",
    "else:\n",
    "    print('BNB_USDp_RETURNS data is not  normally distributed')\n",
    " \n",
    " \n",
    " \n",
    "\n"
   ]
  },
  {
   "cell_type": "code",
   "execution_count": 64,
   "metadata": {},
   "outputs": [
    {
     "name": "stdout",
     "output_type": "stream",
     "text": [
      "ETH_USDp_RETURNS kurtosis is 38.741148276103154\n",
      "DOGE_USDp_RETURNS kurtosis is 26.288656271138734\n",
      "USDT_USDp_RETURNS kurtosis is 54.31093573712383\n",
      "BNB_USDp_RETURNS kurtosis is 30.255211175894726\n",
      "XRP_USDp_RETURNS kurtosis is 28.04269492328657\n",
      "BTC_USDp_RETURNS kurtosis is 44.936560949267516\n"
     ]
    }
   ],
   "source": [
    "##kurtosis\n",
    "from scipy.stats import kurtosis\n",
    "print(\"ETH_USDp_RETURNS kurtosis is % s\" \n",
    "                              %(ETH_USDp_RETURNS.kurtosis()))\n",
    "print(\"DOGE_USDp_RETURNS kurtosis is % s\" \n",
    "                              %(DOGE_USDp_RETURNS.kurtosis()))\n",
    "\n",
    "print(\"USDT_USDp_RETURNS kurtosis is % s\" \n",
    "                              %(USDT_USDp_RETURNS.kurtosis()))\n",
    "print(\"BNB_USDp_RETURNS kurtosis is % s\" \n",
    "                              %(BNB_USDp_RETURNS.kurtosis()))\n",
    "\n",
    "print(\"XRP_USDp_RETURNS kurtosis is % s\" \n",
    "                              %(XRP_USDp_RETURNS.kurtosis()))\n",
    "print(\"BTC_USDp_RETURNS kurtosis is % s\" \n",
    "                              %(BTC_USDp_RETURNS.kurtosis()))"
   ]
  },
  {
   "cell_type": "code",
   "execution_count": 65,
   "metadata": {},
   "outputs": [
    {
     "name": "stderr",
     "output_type": "stream",
     "text": [
      "C:\\Users\\Gibson\\anaconda3\\lib\\site-packages\\pandas\\plotting\\_matplotlib\\tools.py:331: MatplotlibDeprecationWarning: \n",
      "The is_first_col function was deprecated in Matplotlib 3.4 and will be removed two minor releases later. Use ax.get_subplotspec().is_first_col() instead.\n",
      "  if ax.is_first_col():\n"
     ]
    },
    {
     "data": {
      "image/png": "[encoded data removed]",
      "text/plain": [
       "<Figure size 432x288 with 36 Axes>"
      ]
     },
     "metadata": {
      "needs_background": "light"
     },
     "output_type": "display_data"
    }
   ],
   "source": [
    "import matplotlib.pyplot as plt\n",
    "from pandas.plotting import scatter_matrix   \n",
    "  \n",
    "# selecting numerical features\n",
    "features = ['ETH_USDp', 'DOGE_USDp',\n",
    "            'USDT_USDp','BNB_USDp','XRP_USDp','BTC_USDp']\n",
    "   \n",
    "# plotting the scatter matrix\n",
    "# with the features\n",
    "scatter_matrix(df[features])\n",
    "plt.show()"
   ]
  },
  {
   "cell_type": "code",
   "execution_count": 66,
   "metadata": {},
   "outputs": [],
   "source": [
    "import os\n",
    "import pickle\n",
    "from functools import reduce\n",
    "from operator import mul\n",
    "\n",
    "import pandas as pd\n",
    "import numpy as np\n",
    "\n",
    "from statsmodels.regression.linear_model import OLS\n",
    "from sklearn import linear_model\n",
    "from sklearn.decomposition import PCA\n",
    "\n",
    "import holoviews as hv\n",
    "import hvplot\n",
    "import hvplot.pandas\n",
    "\n",
    "import matplotlib.pyplot as plt\n",
    "import seaborn as sns"
   ]
  },
  {
   "cell_type": "code",
   "execution_count": 67,
   "metadata": {},
   "outputs": [],
   "source": [
    "#Construct the Correlation Matrix\n",
    "corr_matrix = df.corr(method='pearson')\n",
    "corr_matrix = np.abs(corr_matrix) * 100\n",
    "\n"
   ]
  },
  {
   "cell_type": "code",
   "execution_count": 68,
   "metadata": {},
   "outputs": [
    {
     "data": {
      "image/png": "[encoded data removed]",
      "text/plain": [
       "<Figure size 576x576 with 2 Axes>"
      ]
     },
     "metadata": {
      "needs_background": "light"
     },
     "output_type": "display_data"
    }
   ],
   "source": [
    "#Plot a Correlation Matrix Heat Map\n",
    "f, ax = plt.subplots(figsize=(8,8))\n",
    "sns.heatmap(corr_matrix , cbar=True, annot=True, square=True,\n",
    "            fmt='.0f', annot_kws={'size':8}, alpha=0.6)\n",
    "plt.title('Correlation of Cryptocurrencies', fontsize=16)\n",
    "plt.show()"
   ]
  },
  {
   "cell_type": "code",
   "execution_count": 69,
   "metadata": {},
   "outputs": [],
   "source": [
    "ETH_USDp_RETURNS_JB = sm.stats.stattools.jarque_bera(ETH_USDp_RETURNS.fillna(ETH_USDp_RETURNS.mean()).dropna())\n",
    "DOGE_USDp_RETURNS_JB = sm.stats.stattools.jarque_bera(DOGE_USDp_RETURNS.fillna(DOGE_USDp_RETURNS.mean()).dropna())\n",
    "USDT_USDp_RETURNS_JB = sm.stats.stattools.jarque_bera(USDT_USDp_RETURNS.fillna(USDT_USDp_RETURNS.mean()).dropna())\n",
    "BNB_USDp_RETURNS_JB = sm.stats.stattools.jarque_bera(BNB_USDp_RETURNS.fillna(BNB_USDp_RETURNS.mean()).dropna())\n",
    "XRP_USDp_RETURNS_JB = sm.stats.stattools.jarque_bera(XRP_USDp_RETURNS.fillna(XRP_USDp_RETURNS.mean()).dropna())\n",
    "BTC_USDp_RETURNS_JB = sm.stats.stattools.jarque_bera(BTC_USDp_RETURNS.fillna(BTC_USDp_RETURNS.mean()).dropna())\n",
    "\n"
   ]
  },
  {
   "cell_type": "code",
   "execution_count": 70,
   "metadata": {},
   "outputs": [
    {
     "name": "stdout",
     "output_type": "stream",
     "text": [
      "Jarque Bera results for Cryptocurrencies: \n",
      "ETH_USDp_RETURNS  - 61464.52541820315\n",
      "DOGE_USDp_RETURNS   - 27579.722212068988\n",
      "USDT_USDp_RETURNS    - 117606.90730535868\n",
      "BNB_USDp_RETURNS    - 37239.54404953173\n",
      "XRP_USDp_RETURNS    - 32019.652083817684\\BTC_USDp_RETURNS    - 82079.11914033223\n"
     ]
    }
   ],
   "source": [
    "print('Jarque Bera results for Cryptocurrencies: \\nETH_USDp_RETURNS  - ' + str(ETH_USDp_RETURNS_JB[0]) + '\\nDOGE_USDp_RETURNS   - '+ str(DOGE_USDp_RETURNS_JB[0])+ '\\nUSDT_USDp_RETURNS    - '+ str(USDT_USDp_RETURNS_JB[0])+ '\\nBNB_USDp_RETURNS    - '+ str(BNB_USDp_RETURNS_JB[0])+ '\\nXRP_USDp_RETURNS    - '+ str(XRP_USDp_RETURNS_JB[0])+ '\\BTC_USDp_RETURNS    - '+ str(BTC_USDp_RETURNS_JB[0]) )"
   ]
  },
  {
   "cell_type": "code",
   "execution_count": 71,
   "metadata": {},
   "outputs": [],
   "source": [
    "## Testing for Stationarity of Return Series"
   ]
  },
  {
   "cell_type": "code",
   "execution_count": 72,
   "metadata": {},
   "outputs": [],
   "source": [
    "from statsmodels.tsa.stattools import adfuller\n",
    "from statsmodels.graphics.tsaplots import plot_acf,plot_pacf"
   ]
  },
  {
   "cell_type": "code",
   "execution_count": 73,
   "metadata": {},
   "outputs": [
    {
     "data": {
      "image/png": "[encoded data removed]",
      "text/plain": [
       "<Figure size 1152x288 with 2 Axes>"
      ]
     },
     "metadata": {
      "needs_background": "light"
     },
     "output_type": "display_data"
    }
   ],
   "source": [
    "fig, ax = plt.subplots(1,2,figsize=(16,4))\n",
    "plot_acf(ETH_USDp_RETURNS.dropna(), ax=ax[0])\n",
    "plot_pacf(ETH_USDp_RETURNS.dropna(), ax=ax[1])\n",
    "plt.show()"
   ]
  },
  {
   "cell_type": "code",
   "execution_count": 74,
   "metadata": {},
   "outputs": [
    {
     "data": {
      "image/png": "[encoded data removed]",
      "text/plain": [
       "<Figure size 1152x288 with 2 Axes>"
      ]
     },
     "metadata": {
      "needs_background": "light"
     },
     "output_type": "display_data"
    }
   ],
   "source": [
    "fig, ax = plt.subplots(1,2,figsize=(16,4))\n",
    "plot_acf(DOGE_USDp_RETURNS.dropna(), ax=ax[0])\n",
    "plot_pacf(DOGE_USDp_RETURNS.dropna(), ax=ax[1])\n",
    "plt.show()"
   ]
  },
  {
   "cell_type": "code",
   "execution_count": 75,
   "metadata": {},
   "outputs": [
    {
     "data": {
      "image/png": "[encoded data removed]",
      "text/plain": [
       "<Figure size 1152x288 with 2 Axes>"
      ]
     },
     "metadata": {
      "needs_background": "light"
     },
     "output_type": "display_data"
    }
   ],
   "source": [
    "fig, ax = plt.subplots(1,2,figsize=(16,4))\n",
    "plot_acf(USDT_USDp_RETURNS.dropna(), ax=ax[0])\n",
    "plot_pacf(USDT_USDp_RETURNS.dropna(), ax=ax[1])\n",
    "plt.show()"
   ]
  },
  {
   "cell_type": "code",
   "execution_count": 76,
   "metadata": {},
   "outputs": [
    {
     "data": {
      "image/png": "[encoded data removed]",
      "text/plain": [
       "<Figure size 1152x288 with 2 Axes>"
      ]
     },
     "metadata": {
      "needs_background": "light"
     },
     "output_type": "display_data"
    }
   ],
   "source": [
    "fig, ax = plt.subplots(1,2,figsize=(16,4))\n",
    "plot_acf(BNB_USDp_RETURNS.dropna(), ax=ax[0])\n",
    "plot_pacf(BNB_USDp_RETURNS.dropna(), ax=ax[1])\n",
    "plt.show()"
   ]
  },
  {
   "cell_type": "code",
   "execution_count": 77,
   "metadata": {},
   "outputs": [
    {
     "data": {
      "image/png": "[encoded data removed]",
      "text/plain": [
       "<Figure size 1152x288 with 2 Axes>"
      ]
     },
     "metadata": {
      "needs_background": "light"
     },
     "output_type": "display_data"
    }
   ],
   "source": [
    "fig, ax = plt.subplots(1,2,figsize=(16,4))\n",
    "plot_acf(XRP_USDp_RETURNS.dropna(), ax=ax[0])\n",
    "plot_pacf(XRP_USDp_RETURNS.dropna(), ax=ax[1])\n",
    "plt.show()"
   ]
  },
  {
   "cell_type": "code",
   "execution_count": 78,
   "metadata": {},
   "outputs": [
    {
     "data": {
      "image/png": "[encoded data removed]",
      "text/plain": [
       "<Figure size 1152x288 with 2 Axes>"
      ]
     },
     "metadata": {
      "needs_background": "light"
     },
     "output_type": "display_data"
    }
   ],
   "source": [
    "fig, ax = plt.subplots(1,2,figsize=(16,4))\n",
    "plot_acf(BTC_USDp_RETURNS.dropna(), ax=ax[0])\n",
    "plot_pacf(BTC_USDp_RETURNS.dropna(), ax=ax[1])\n",
    "plt.show()"
   ]
  },
  {
   "cell_type": "code",
   "execution_count": 79,
   "metadata": {},
   "outputs": [],
   "source": [
    "## defining dataframe for financial market returns before and after covid\n",
    "XRP_USDp_RETURNS= df['XRP_USDp'].pct_change(1)\n",
    "USDT_USDp_RETURNS = df['USDT_USDp'].pct_change(1)\n",
    "ETH_USDp_RETURNS = df['ETH_USDp'].pct_change(1)\n",
    "BTC_USDp_RETURNS = df['BTC_USDp'].pct_change(1)\n",
    "DOGE_USDp_RETURNS = df['DOGE_USDp'].pct_change(1)\n",
    "BNB_USDp_RETURNS = df['BNB_USDp'].pct_change(1)\n",
    "DATE=df['DATE']\n",
    "\n"
   ]
  },
  {
   "cell_type": "code",
   "execution_count": 80,
   "metadata": {},
   "outputs": [
    {
     "data": {
      "text/html": [
       "<div>\n",
       "<style scoped>\n",
       "    .dataframe tbody tr th:only-of-type {\n",
       "        vertical-align: middle;\n",
       "    }\n",
       "\n",
       "    .dataframe tbody tr th {\n",
       "        vertical-align: top;\n",
       "    }\n",
       "\n",
       "    .dataframe thead th {\n",
       "        text-align: right;\n",
       "    }\n",
       "</style>\n",
       "<table border=\"1\" class=\"dataframe\">\n",
       "  <thead>\n",
       "    <tr style=\"text-align: right;\">\n",
       "      <th></th>\n",
       "      <th>XRP_USDp</th>\n",
       "      <th>USDT_USDp</th>\n",
       "      <th>ETH_USDp</th>\n",
       "      <th>BTC_USDp</th>\n",
       "      <th>DOGE_USDp</th>\n",
       "      <th>BNB_USDp</th>\n",
       "    </tr>\n",
       "    <tr>\n",
       "      <th>DATE</th>\n",
       "      <th></th>\n",
       "      <th></th>\n",
       "      <th></th>\n",
       "      <th></th>\n",
       "      <th></th>\n",
       "      <th></th>\n",
       "    </tr>\n",
       "  </thead>\n",
       "  <tbody>\n",
       "    <tr>\n",
       "      <th>8/22/2021</th>\n",
       "      <td>NaN</td>\n",
       "      <td>NaN</td>\n",
       "      <td>NaN</td>\n",
       "      <td>NaN</td>\n",
       "      <td>NaN</td>\n",
       "      <td>NaN</td>\n",
       "    </tr>\n",
       "    <tr>\n",
       "      <th>8/21/2021</th>\n",
       "      <td>-0.021702</td>\n",
       "      <td>0.000427</td>\n",
       "      <td>-0.008615</td>\n",
       "      <td>-0.006191</td>\n",
       "      <td>-0.007242</td>\n",
       "      <td>-0.015164</td>\n",
       "    </tr>\n",
       "    <tr>\n",
       "      <th>8/20/2021</th>\n",
       "      <td>0.038430</td>\n",
       "      <td>-0.000042</td>\n",
       "      <td>0.018862</td>\n",
       "      <td>0.008868</td>\n",
       "      <td>0.033757</td>\n",
       "      <td>0.013401</td>\n",
       "    </tr>\n",
       "    <tr>\n",
       "      <th>8/19/2021</th>\n",
       "      <td>-0.024050</td>\n",
       "      <td>-0.000982</td>\n",
       "      <td>-0.031711</td>\n",
       "      <td>-0.053134</td>\n",
       "      <td>-0.031595</td>\n",
       "      <td>-0.052639</td>\n",
       "    </tr>\n",
       "    <tr>\n",
       "      <th>8/18/2021</th>\n",
       "      <td>-0.070362</td>\n",
       "      <td>0.000789</td>\n",
       "      <td>-0.051093</td>\n",
       "      <td>-0.041021</td>\n",
       "      <td>-0.042268</td>\n",
       "      <td>-0.075959</td>\n",
       "    </tr>\n",
       "    <tr>\n",
       "      <th>...</th>\n",
       "      <td>...</td>\n",
       "      <td>...</td>\n",
       "      <td>...</td>\n",
       "      <td>...</td>\n",
       "      <td>...</td>\n",
       "      <td>...</td>\n",
       "    </tr>\n",
       "    <tr>\n",
       "      <th>1/5/2019</th>\n",
       "      <td>-0.035614</td>\n",
       "      <td>-0.004972</td>\n",
       "      <td>-0.013361</td>\n",
       "      <td>-0.056772</td>\n",
       "      <td>-0.003866</td>\n",
       "      <td>-0.051663</td>\n",
       "    </tr>\n",
       "    <tr>\n",
       "      <th>1/4/2019</th>\n",
       "      <td>0.004143</td>\n",
       "      <td>-0.001266</td>\n",
       "      <td>-0.006789</td>\n",
       "      <td>0.003257</td>\n",
       "      <td>-0.001725</td>\n",
       "      <td>-0.000067</td>\n",
       "    </tr>\n",
       "    <tr>\n",
       "      <th>1/3/2019</th>\n",
       "      <td>0.009746</td>\n",
       "      <td>0.002235</td>\n",
       "      <td>-0.035237</td>\n",
       "      <td>-0.005437</td>\n",
       "      <td>0.019438</td>\n",
       "      <td>-0.026645</td>\n",
       "    </tr>\n",
       "    <tr>\n",
       "      <th>1/2/2019</th>\n",
       "      <td>0.041694</td>\n",
       "      <td>0.004452</td>\n",
       "      <td>0.039646</td>\n",
       "      <td>0.027802</td>\n",
       "      <td>0.019915</td>\n",
       "      <td>0.048289</td>\n",
       "    </tr>\n",
       "    <tr>\n",
       "      <th>1/1/2019</th>\n",
       "      <td>-0.027907</td>\n",
       "      <td>-0.005544</td>\n",
       "      <td>-0.091767</td>\n",
       "      <td>-0.025331</td>\n",
       "      <td>-0.006232</td>\n",
       "      <td>-0.018314</td>\n",
       "    </tr>\n",
       "  </tbody>\n",
       "</table>\n",
       "<p>965 rows × 6 columns</p>\n",
       "</div>"
      ],
      "text/plain": [
       "           XRP_USDp  USDT_USDp  ETH_USDp  BTC_USDp  DOGE_USDp  BNB_USDp\n",
       "DATE                                                                   \n",
       "8/22/2021       NaN        NaN       NaN       NaN        NaN       NaN\n",
       "8/21/2021 -0.021702   0.000427 -0.008615 -0.006191  -0.007242 -0.015164\n",
       "8/20/2021  0.038430  -0.000042  0.018862  0.008868   0.033757  0.013401\n",
       "8/19/2021 -0.024050  -0.000982 -0.031711 -0.053134  -0.031595 -0.052639\n",
       "8/18/2021 -0.070362   0.000789 -0.051093 -0.041021  -0.042268 -0.075959\n",
       "...             ...        ...       ...       ...        ...       ...\n",
       "1/5/2019  -0.035614  -0.004972 -0.013361 -0.056772  -0.003866 -0.051663\n",
       "1/4/2019   0.004143  -0.001266 -0.006789  0.003257  -0.001725 -0.000067\n",
       "1/3/2019   0.009746   0.002235 -0.035237 -0.005437   0.019438 -0.026645\n",
       "1/2/2019   0.041694   0.004452  0.039646  0.027802   0.019915  0.048289\n",
       "1/1/2019  -0.027907  -0.005544 -0.091767 -0.025331  -0.006232 -0.018314\n",
       "\n",
       "[965 rows x 6 columns]"
      ]
     },
     "execution_count": 80,
     "metadata": {},
     "output_type": "execute_result"
    }
   ],
   "source": [
    "df4r=pd.concat([XRP_USDp_RETURNS,USDT_USDp_RETURNS,ETH_USDp_RETURNS,BTC_USDp_RETURNS,DOGE_USDp_RETURNS,BNB_USDp_RETURNS,DATE], axis=1)\n",
    "df4r = df4r.set_index('DATE')\n",
    "df4r\n"
   ]
  },
  {
   "cell_type": "code",
   "execution_count": 81,
   "metadata": {},
   "outputs": [
    {
     "data": {
      "text/html": [
       "<div>\n",
       "<style scoped>\n",
       "    .dataframe tbody tr th:only-of-type {\n",
       "        vertical-align: middle;\n",
       "    }\n",
       "\n",
       "    .dataframe tbody tr th {\n",
       "        vertical-align: top;\n",
       "    }\n",
       "\n",
       "    .dataframe thead th {\n",
       "        text-align: right;\n",
       "    }\n",
       "</style>\n",
       "<table border=\"1\" class=\"dataframe\">\n",
       "  <thead>\n",
       "    <tr style=\"text-align: right;\">\n",
       "      <th></th>\n",
       "      <th>XRP_USDp</th>\n",
       "      <th>USDT_USDp</th>\n",
       "      <th>ETH_USDp</th>\n",
       "      <th>BTC_USDp</th>\n",
       "      <th>DOGE_USDp</th>\n",
       "      <th>BNB_USDp</th>\n",
       "    </tr>\n",
       "  </thead>\n",
       "  <tbody>\n",
       "    <tr>\n",
       "      <th>count</th>\n",
       "      <td>387.000000</td>\n",
       "      <td>387.000000</td>\n",
       "      <td>387.000000</td>\n",
       "      <td>387.000000</td>\n",
       "      <td>387.000000</td>\n",
       "      <td>387.000000</td>\n",
       "    </tr>\n",
       "    <tr>\n",
       "      <th>mean</th>\n",
       "      <td>0.001910</td>\n",
       "      <td>0.000059</td>\n",
       "      <td>0.000475</td>\n",
       "      <td>-0.001411</td>\n",
       "      <td>0.000702</td>\n",
       "      <td>-0.001755</td>\n",
       "    </tr>\n",
       "    <tr>\n",
       "      <th>std</th>\n",
       "      <td>0.036605</td>\n",
       "      <td>0.003882</td>\n",
       "      <td>0.041627</td>\n",
       "      <td>0.034879</td>\n",
       "      <td>0.033289</td>\n",
       "      <td>0.042527</td>\n",
       "    </tr>\n",
       "    <tr>\n",
       "      <th>min</th>\n",
       "      <td>-0.204338</td>\n",
       "      <td>-0.014915</td>\n",
       "      <td>-0.134979</td>\n",
       "      <td>-0.147892</td>\n",
       "      <td>-0.164986</td>\n",
       "      <td>-0.164062</td>\n",
       "    </tr>\n",
       "    <tr>\n",
       "      <th>25%</th>\n",
       "      <td>-0.012638</td>\n",
       "      <td>-0.002059</td>\n",
       "      <td>-0.018491</td>\n",
       "      <td>-0.015321</td>\n",
       "      <td>-0.011451</td>\n",
       "      <td>-0.025946</td>\n",
       "    </tr>\n",
       "    <tr>\n",
       "      <th>50%</th>\n",
       "      <td>0.002591</td>\n",
       "      <td>0.000240</td>\n",
       "      <td>0.000739</td>\n",
       "      <td>-0.001085</td>\n",
       "      <td>0.001337</td>\n",
       "      <td>0.000280</td>\n",
       "    </tr>\n",
       "    <tr>\n",
       "      <th>75%</th>\n",
       "      <td>0.016582</td>\n",
       "      <td>0.002201</td>\n",
       "      <td>0.017992</td>\n",
       "      <td>0.012667</td>\n",
       "      <td>0.016383</td>\n",
       "      <td>0.021710</td>\n",
       "    </tr>\n",
       "    <tr>\n",
       "      <th>max</th>\n",
       "      <td>0.143600</td>\n",
       "      <td>0.014360</td>\n",
       "      <td>0.201121</td>\n",
       "      <td>0.163950</td>\n",
       "      <td>0.122496</td>\n",
       "      <td>0.212712</td>\n",
       "    </tr>\n",
       "  </tbody>\n",
       "</table>\n",
       "</div>"
      ],
      "text/plain": [
       "         XRP_USDp   USDT_USDp    ETH_USDp    BTC_USDp   DOGE_USDp    BNB_USDp\n",
       "count  387.000000  387.000000  387.000000  387.000000  387.000000  387.000000\n",
       "mean     0.001910    0.000059    0.000475   -0.001411    0.000702   -0.001755\n",
       "std      0.036605    0.003882    0.041627    0.034879    0.033289    0.042527\n",
       "min     -0.204338   -0.014915   -0.134979   -0.147892   -0.164986   -0.164062\n",
       "25%     -0.012638   -0.002059   -0.018491   -0.015321   -0.011451   -0.025946\n",
       "50%      0.002591    0.000240    0.000739   -0.001085    0.001337    0.000280\n",
       "75%      0.016582    0.002201    0.017992    0.012667    0.016383    0.021710\n",
       "max      0.143600    0.014360    0.201121    0.163950    0.122496    0.212712"
      ]
     },
     "execution_count": 81,
     "metadata": {},
     "output_type": "execute_result"
    }
   ],
   "source": [
    "dfb4covid=df4r.iloc[578:965]\n",
    "dfb4covid.describe()"
   ]
  },
  {
   "cell_type": "code",
   "execution_count": 82,
   "metadata": {},
   "outputs": [
    {
     "data": {
      "text/html": [
       "<div>\n",
       "<style scoped>\n",
       "    .dataframe tbody tr th:only-of-type {\n",
       "        vertical-align: middle;\n",
       "    }\n",
       "\n",
       "    .dataframe tbody tr th {\n",
       "        vertical-align: top;\n",
       "    }\n",
       "\n",
       "    .dataframe thead th {\n",
       "        text-align: right;\n",
       "    }\n",
       "</style>\n",
       "<table border=\"1\" class=\"dataframe\">\n",
       "  <thead>\n",
       "    <tr style=\"text-align: right;\">\n",
       "      <th></th>\n",
       "      <th>XRP_USDp</th>\n",
       "      <th>USDT_USDp</th>\n",
       "      <th>ETH_USDp</th>\n",
       "      <th>BTC_USDp</th>\n",
       "      <th>DOGE_USDp</th>\n",
       "      <th>BNB_USDp</th>\n",
       "    </tr>\n",
       "    <tr>\n",
       "      <th>DATE</th>\n",
       "      <th></th>\n",
       "      <th></th>\n",
       "      <th></th>\n",
       "      <th></th>\n",
       "      <th></th>\n",
       "      <th></th>\n",
       "    </tr>\n",
       "  </thead>\n",
       "  <tbody>\n",
       "    <tr>\n",
       "      <th>8/21/2021</th>\n",
       "      <td>-0.021702</td>\n",
       "      <td>0.000427</td>\n",
       "      <td>-0.008615</td>\n",
       "      <td>-0.006191</td>\n",
       "      <td>-0.007242</td>\n",
       "      <td>-0.015164</td>\n",
       "    </tr>\n",
       "    <tr>\n",
       "      <th>8/20/2021</th>\n",
       "      <td>0.038430</td>\n",
       "      <td>-0.000042</td>\n",
       "      <td>0.018862</td>\n",
       "      <td>0.008868</td>\n",
       "      <td>0.033757</td>\n",
       "      <td>0.013401</td>\n",
       "    </tr>\n",
       "    <tr>\n",
       "      <th>8/19/2021</th>\n",
       "      <td>-0.024050</td>\n",
       "      <td>-0.000982</td>\n",
       "      <td>-0.031711</td>\n",
       "      <td>-0.053134</td>\n",
       "      <td>-0.031595</td>\n",
       "      <td>-0.052639</td>\n",
       "    </tr>\n",
       "    <tr>\n",
       "      <th>8/18/2021</th>\n",
       "      <td>-0.070362</td>\n",
       "      <td>0.000789</td>\n",
       "      <td>-0.051093</td>\n",
       "      <td>-0.041021</td>\n",
       "      <td>-0.042268</td>\n",
       "      <td>-0.075959</td>\n",
       "    </tr>\n",
       "    <tr>\n",
       "      <th>8/17/2021</th>\n",
       "      <td>-0.041792</td>\n",
       "      <td>-0.000255</td>\n",
       "      <td>-0.001736</td>\n",
       "      <td>-0.002362</td>\n",
       "      <td>-0.014147</td>\n",
       "      <td>0.009184</td>\n",
       "    </tr>\n",
       "    <tr>\n",
       "      <th>...</th>\n",
       "      <td>...</td>\n",
       "      <td>...</td>\n",
       "      <td>...</td>\n",
       "      <td>...</td>\n",
       "      <td>...</td>\n",
       "      <td>...</td>\n",
       "    </tr>\n",
       "    <tr>\n",
       "      <th>1/27/2020</th>\n",
       "      <td>-0.030467</td>\n",
       "      <td>0.001139</td>\n",
       "      <td>-0.030841</td>\n",
       "      <td>-0.047953</td>\n",
       "      <td>-0.033469</td>\n",
       "      <td>-0.023394</td>\n",
       "    </tr>\n",
       "    <tr>\n",
       "      <th>1/26/2020</th>\n",
       "      <td>-0.002318</td>\n",
       "      <td>-0.001393</td>\n",
       "      <td>-0.016696</td>\n",
       "      <td>-0.035129</td>\n",
       "      <td>-0.026605</td>\n",
       "      <td>-0.014284</td>\n",
       "    </tr>\n",
       "    <tr>\n",
       "      <th>1/25/2020</th>\n",
       "      <td>-0.044472</td>\n",
       "      <td>0.001608</td>\n",
       "      <td>-0.040417</td>\n",
       "      <td>-0.026636</td>\n",
       "      <td>-0.020824</td>\n",
       "      <td>-0.026523</td>\n",
       "    </tr>\n",
       "    <tr>\n",
       "      <th>1/24/2020</th>\n",
       "      <td>0.011859</td>\n",
       "      <td>0.000855</td>\n",
       "      <td>0.010957</td>\n",
       "      <td>0.009272</td>\n",
       "      <td>0.008418</td>\n",
       "      <td>0.004200</td>\n",
       "    </tr>\n",
       "    <tr>\n",
       "      <th>1/23/2020</th>\n",
       "      <td>0.013733</td>\n",
       "      <td>-0.004547</td>\n",
       "      <td>-0.000752</td>\n",
       "      <td>-0.004608</td>\n",
       "      <td>-0.003515</td>\n",
       "      <td>-0.001525</td>\n",
       "    </tr>\n",
       "  </tbody>\n",
       "</table>\n",
       "<p>577 rows × 6 columns</p>\n",
       "</div>"
      ],
      "text/plain": [
       "           XRP_USDp  USDT_USDp  ETH_USDp  BTC_USDp  DOGE_USDp  BNB_USDp\n",
       "DATE                                                                   \n",
       "8/21/2021 -0.021702   0.000427 -0.008615 -0.006191  -0.007242 -0.015164\n",
       "8/20/2021  0.038430  -0.000042  0.018862  0.008868   0.033757  0.013401\n",
       "8/19/2021 -0.024050  -0.000982 -0.031711 -0.053134  -0.031595 -0.052639\n",
       "8/18/2021 -0.070362   0.000789 -0.051093 -0.041021  -0.042268 -0.075959\n",
       "8/17/2021 -0.041792  -0.000255 -0.001736 -0.002362  -0.014147  0.009184\n",
       "...             ...        ...       ...       ...        ...       ...\n",
       "1/27/2020 -0.030467   0.001139 -0.030841 -0.047953  -0.033469 -0.023394\n",
       "1/26/2020 -0.002318  -0.001393 -0.016696 -0.035129  -0.026605 -0.014284\n",
       "1/25/2020 -0.044472   0.001608 -0.040417 -0.026636  -0.020824 -0.026523\n",
       "1/24/2020  0.011859   0.000855  0.010957  0.009272   0.008418  0.004200\n",
       "1/23/2020  0.013733  -0.004547 -0.000752 -0.004608  -0.003515 -0.001525\n",
       "\n",
       "[577 rows x 6 columns]"
      ]
     },
     "execution_count": 82,
     "metadata": {},
     "output_type": "execute_result"
    }
   ],
   "source": [
    "dfaftcovid=df4r.iloc[1:578]\n",
    "dfaftcovid\n",
    "\n"
   ]
  },
  {
   "cell_type": "code",
   "execution_count": 83,
   "metadata": {},
   "outputs": [
    {
     "data": {
      "text/html": [
       "<div>\n",
       "<style scoped>\n",
       "    .dataframe tbody tr th:only-of-type {\n",
       "        vertical-align: middle;\n",
       "    }\n",
       "\n",
       "    .dataframe tbody tr th {\n",
       "        vertical-align: top;\n",
       "    }\n",
       "\n",
       "    .dataframe thead th {\n",
       "        text-align: right;\n",
       "    }\n",
       "</style>\n",
       "<table border=\"1\" class=\"dataframe\">\n",
       "  <thead>\n",
       "    <tr style=\"text-align: right;\">\n",
       "      <th></th>\n",
       "      <th>XRP_USDp</th>\n",
       "      <th>USDT_USDp</th>\n",
       "      <th>ETH_USDp</th>\n",
       "      <th>BTC_USDp</th>\n",
       "      <th>DOGE_USDp</th>\n",
       "      <th>BNB_USDp</th>\n",
       "    </tr>\n",
       "  </thead>\n",
       "  <tbody>\n",
       "    <tr>\n",
       "      <th>count</th>\n",
       "      <td>577.000000</td>\n",
       "      <td>577.000000</td>\n",
       "      <td>577.000000</td>\n",
       "      <td>577.000000</td>\n",
       "      <td>577.000000</td>\n",
       "      <td>577.000000</td>\n",
       "    </tr>\n",
       "    <tr>\n",
       "      <th>mean</th>\n",
       "      <td>-0.000126</td>\n",
       "      <td>0.000007</td>\n",
       "      <td>-0.003486</td>\n",
       "      <td>-0.002116</td>\n",
       "      <td>-0.003458</td>\n",
       "      <td>-0.003396</td>\n",
       "    </tr>\n",
       "    <tr>\n",
       "      <th>std</th>\n",
       "      <td>0.077146</td>\n",
       "      <td>0.004467</td>\n",
       "      <td>0.061063</td>\n",
       "      <td>0.045286</td>\n",
       "      <td>0.093948</td>\n",
       "      <td>0.069459</td>\n",
       "    </tr>\n",
       "    <tr>\n",
       "      <th>min</th>\n",
       "      <td>-0.359019</td>\n",
       "      <td>-0.051993</td>\n",
       "      <td>-0.206019</td>\n",
       "      <td>-0.157870</td>\n",
       "      <td>-0.733790</td>\n",
       "      <td>-0.410934</td>\n",
       "    </tr>\n",
       "    <tr>\n",
       "      <th>25%</th>\n",
       "      <td>-0.025497</td>\n",
       "      <td>-0.000756</td>\n",
       "      <td>-0.033329</td>\n",
       "      <td>-0.021147</td>\n",
       "      <td>-0.020591</td>\n",
       "      <td>-0.031604</td>\n",
       "    </tr>\n",
       "    <tr>\n",
       "      <th>50%</th>\n",
       "      <td>-0.002336</td>\n",
       "      <td>0.000000</td>\n",
       "      <td>-0.006524</td>\n",
       "      <td>-0.002515</td>\n",
       "      <td>0.000000</td>\n",
       "      <td>-0.004782</td>\n",
       "    </tr>\n",
       "    <tr>\n",
       "      <th>75%</th>\n",
       "      <td>0.021304</td>\n",
       "      <td>0.000673</td>\n",
       "      <td>0.019030</td>\n",
       "      <td>0.014638</td>\n",
       "      <td>0.023311</td>\n",
       "      <td>0.018066</td>\n",
       "    </tr>\n",
       "    <tr>\n",
       "      <th>max</th>\n",
       "      <td>0.734124</td>\n",
       "      <td>0.053976</td>\n",
       "      <td>0.734522</td>\n",
       "      <td>0.591585</td>\n",
       "      <td>0.673836</td>\n",
       "      <td>0.721307</td>\n",
       "    </tr>\n",
       "  </tbody>\n",
       "</table>\n",
       "</div>"
      ],
      "text/plain": [
       "         XRP_USDp   USDT_USDp    ETH_USDp    BTC_USDp   DOGE_USDp    BNB_USDp\n",
       "count  577.000000  577.000000  577.000000  577.000000  577.000000  577.000000\n",
       "mean    -0.000126    0.000007   -0.003486   -0.002116   -0.003458   -0.003396\n",
       "std      0.077146    0.004467    0.061063    0.045286    0.093948    0.069459\n",
       "min     -0.359019   -0.051993   -0.206019   -0.157870   -0.733790   -0.410934\n",
       "25%     -0.025497   -0.000756   -0.033329   -0.021147   -0.020591   -0.031604\n",
       "50%     -0.002336    0.000000   -0.006524   -0.002515    0.000000   -0.004782\n",
       "75%      0.021304    0.000673    0.019030    0.014638    0.023311    0.018066\n",
       "max      0.734124    0.053976    0.734522    0.591585    0.673836    0.721307"
      ]
     },
     "execution_count": 83,
     "metadata": {},
     "output_type": "execute_result"
    }
   ],
   "source": [
    "dfaftcovid.describe()"
   ]
  },
  {
   "cell_type": "code",
   "execution_count": 84,
   "metadata": {},
   "outputs": [],
   "source": [
    "## testing for the difference between before and after covid parameters\n",
    "from scipy import stats\n",
    "\n",
    "\n",
    "XRP_USDp_RETURNS= df['XRP_USDp'].pct_change(1)\n",
    "USDT_USDp_RETURNS = df['USDT_USDp'].pct_change(1)\n",
    "ETH_USDp_RETURNS = df['ETH_USDp'].pct_change(1)\n",
    "BTC_USDp_RETURNS = df['BTC_USDp'].pct_change(1)\n",
    "DOGE_USDp_RETURNS = df['DOGE_USDp'].pct_change(1)\n",
    "BNB_USDp_RETURNS = df['BNB_USDp'].pct_change(1)\n",
    "DATE=df['DATE']\n",
    "\n"
   ]
  },
  {
   "cell_type": "code",
   "execution_count": 85,
   "metadata": {},
   "outputs": [
    {
     "data": {
      "text/plain": [
       "Ttest_indResult(statistic=-0.4839332930591775, pvalue=0.6285433527735143)"
      ]
     },
     "execution_count": 85,
     "metadata": {},
     "output_type": "execute_result"
    }
   ],
   "source": [
    "\n",
    "##defining returns for the  CRYPTO currency pairs\n",
    "XRP_USDp_RETURNSaft=dfaftcovid['XRP_USDp']\n",
    "XRP_USDp_RETURNSb4=dfb4covid['XRP_USDp']\n",
    "stats.ttest_ind(XRP_USDp_RETURNSaft, XRP_USDp_RETURNSb4)"
   ]
  },
  {
   "cell_type": "code",
   "execution_count": 86,
   "metadata": {},
   "outputs": [
    {
     "data": {
      "text/plain": [
       "Ttest_indResult(statistic=-0.1861080283317951, pvalue=0.8523992816623998)"
      ]
     },
     "execution_count": 86,
     "metadata": {},
     "output_type": "execute_result"
    }
   ],
   "source": [
    "USDT_USDp_RETURNSaft=dfaftcovid['USDT_USDp']\n",
    "USDT_USDp_RETURNSb4=dfb4covid['USDT_USDp']\n",
    "stats.ttest_ind(USDT_USDp_RETURNSaft, USDT_USDp_RETURNSb4)"
   ]
  },
  {
   "cell_type": "code",
   "execution_count": 87,
   "metadata": {},
   "outputs": [
    {
     "data": {
      "text/plain": [
       "Ttest_indResult(statistic=-1.1141346538416828, pvalue=0.2654997015566247)"
      ]
     },
     "execution_count": 87,
     "metadata": {},
     "output_type": "execute_result"
    }
   ],
   "source": [
    "ETH_USDp_RETURNSaft=dfaftcovid['ETH_USDp']\n",
    "ETH_USDp_RETURNSb4=dfb4covid['ETH_USDp']\n",
    "stats.ttest_ind(ETH_USDp_RETURNSaft, ETH_USDp_RETURNSb4)"
   ]
  },
  {
   "cell_type": "code",
   "execution_count": 88,
   "metadata": {},
   "outputs": [
    {
     "data": {
      "text/plain": [
       "Ttest_indResult(statistic=-0.2588445035400043, pvalue=0.7958105921068229)"
      ]
     },
     "execution_count": 88,
     "metadata": {},
     "output_type": "execute_result"
    }
   ],
   "source": [
    "BTC_USDp_RETURNSaft=dfaftcovid['BTC_USDp']\n",
    "BTC_USDp_RETURNSb4=dfb4covid['BTC_USDp']\n",
    "stats.ttest_ind(BTC_USDp_RETURNSaft, BTC_USDp_RETURNSb4)"
   ]
  },
  {
   "cell_type": "code",
   "execution_count": 89,
   "metadata": {},
   "outputs": [
    {
     "data": {
      "text/plain": [
       "Ttest_indResult(statistic=-0.8364447566452213, pvalue=0.4031124615315683)"
      ]
     },
     "execution_count": 89,
     "metadata": {},
     "output_type": "execute_result"
    }
   ],
   "source": [
    "DOGE_USDp_RETURNSaft=dfaftcovid['DOGE_USDp']\n",
    "DOGE_USDp_RETURNSb4=dfb4covid['DOGE_USDp']\n",
    "stats.ttest_ind(DOGE_USDp_RETURNSaft, DOGE_USDp_RETURNSb4)"
   ]
  },
  {
   "cell_type": "code",
   "execution_count": 90,
   "metadata": {},
   "outputs": [
    {
     "data": {
      "text/plain": [
       "Ttest_indResult(statistic=-0.8364447566452213, pvalue=0.4031124615315683)"
      ]
     },
     "execution_count": 90,
     "metadata": {},
     "output_type": "execute_result"
    }
   ],
   "source": [
    "BNB_USDp_RETURNSaft=dfaftcovid['BNB_USDp']\n",
    "BNB_USDp_RETURNSb4=dfb4covid['BNB_USDp']\n",
    "stats.ttest_ind(DOGE_USDp_RETURNSaft, DOGE_USDp_RETURNSb4)"
   ]
  },
  {
   "cell_type": "code",
   "execution_count": 91,
   "metadata": {},
   "outputs": [],
   "source": [
    "## TESTING FOR THE DIFFERENCE IN CRYPTO PRICES BEFORE AND AFTER COVID\n"
   ]
  },
  {
   "cell_type": "code",
   "execution_count": 92,
   "metadata": {},
   "outputs": [
    {
     "data": {
      "text/html": [
       "<div>\n",
       "<style scoped>\n",
       "    .dataframe tbody tr th:only-of-type {\n",
       "        vertical-align: middle;\n",
       "    }\n",
       "\n",
       "    .dataframe tbody tr th {\n",
       "        vertical-align: top;\n",
       "    }\n",
       "\n",
       "    .dataframe thead th {\n",
       "        text-align: right;\n",
       "    }\n",
       "</style>\n",
       "<table border=\"1\" class=\"dataframe\">\n",
       "  <thead>\n",
       "    <tr style=\"text-align: right;\">\n",
       "      <th></th>\n",
       "      <th>XRP_USDp</th>\n",
       "      <th>XRP_USDv</th>\n",
       "      <th>USDT_USDp</th>\n",
       "      <th>USDT_USDv</th>\n",
       "      <th>ETH_USDp</th>\n",
       "      <th>ETH_USDv</th>\n",
       "      <th>BTC_USDp</th>\n",
       "      <th>BTC_USDv</th>\n",
       "      <th>DOGE_USDp</th>\n",
       "      <th>DOGE_USDv</th>\n",
       "      <th>BNB_USDp</th>\n",
       "      <th>BNB_USDv</th>\n",
       "      <th>ADA_USDp</th>\n",
       "      <th>ADA_USDv</th>\n",
       "    </tr>\n",
       "  </thead>\n",
       "  <tbody>\n",
       "    <tr>\n",
       "      <th>count</th>\n",
       "      <td>387.000000</td>\n",
       "      <td>3.870000e+02</td>\n",
       "      <td>387.000000</td>\n",
       "      <td>3.870000e+02</td>\n",
       "      <td>387.000000</td>\n",
       "      <td>3.870000e+02</td>\n",
       "      <td>387.000000</td>\n",
       "      <td>3.870000e+02</td>\n",
       "      <td>387.000000</td>\n",
       "      <td>3.870000e+02</td>\n",
       "      <td>387.000000</td>\n",
       "      <td>3.870000e+02</td>\n",
       "      <td>387.000000</td>\n",
       "      <td>3.870000e+02</td>\n",
       "    </tr>\n",
       "    <tr>\n",
       "      <th>mean</th>\n",
       "      <td>0.304463</td>\n",
       "      <td>1.322503e+09</td>\n",
       "      <td>1.004706</td>\n",
       "      <td>1.835319e+10</td>\n",
       "      <td>180.025094</td>\n",
       "      <td>7.169334e+09</td>\n",
       "      <td>7439.460176</td>\n",
       "      <td>1.734358e+10</td>\n",
       "      <td>0.002550</td>\n",
       "      <td>4.694708e+07</td>\n",
       "      <td>19.844557</td>\n",
       "      <td>2.271456e+08</td>\n",
       "      <td>0.054561</td>\n",
       "      <td>7.279412e+07</td>\n",
       "    </tr>\n",
       "    <tr>\n",
       "      <th>std</th>\n",
       "      <td>0.062379</td>\n",
       "      <td>8.114511e+08</td>\n",
       "      <td>0.005413</td>\n",
       "      <td>9.382605e+09</td>\n",
       "      <td>49.572333</td>\n",
       "      <td>2.796594e+09</td>\n",
       "      <td>2572.648323</td>\n",
       "      <td>7.843399e+09</td>\n",
       "      <td>0.000437</td>\n",
       "      <td>2.867387e+07</td>\n",
       "      <td>8.155391</td>\n",
       "      <td>1.291383e+08</td>\n",
       "      <td>0.018393</td>\n",
       "      <td>5.436272e+07</td>\n",
       "    </tr>\n",
       "    <tr>\n",
       "      <th>min</th>\n",
       "      <td>0.183699</td>\n",
       "      <td>3.449603e+08</td>\n",
       "      <td>0.985739</td>\n",
       "      <td>3.139235e+09</td>\n",
       "      <td>104.535301</td>\n",
       "      <td>2.212109e+09</td>\n",
       "      <td>3399.471680</td>\n",
       "      <td>4.324201e+09</td>\n",
       "      <td>0.001845</td>\n",
       "      <td>1.181302e+07</td>\n",
       "      <td>5.568757</td>\n",
       "      <td>2.282164e+07</td>\n",
       "      <td>0.031800</td>\n",
       "      <td>1.101152e+07</td>\n",
       "    </tr>\n",
       "    <tr>\n",
       "      <th>25%</th>\n",
       "      <td>0.261641</td>\n",
       "      <td>8.499153e+08</td>\n",
       "      <td>1.001648</td>\n",
       "      <td>1.137955e+10</td>\n",
       "      <td>141.961502</td>\n",
       "      <td>5.497403e+09</td>\n",
       "      <td>5065.798096</td>\n",
       "      <td>1.212197e+10</td>\n",
       "      <td>0.002151</td>\n",
       "      <td>2.060637e+07</td>\n",
       "      <td>14.851648</td>\n",
       "      <td>1.527490e+08</td>\n",
       "      <td>0.041088</td>\n",
       "      <td>3.609635e+07</td>\n",
       "    </tr>\n",
       "    <tr>\n",
       "      <th>50%</th>\n",
       "      <td>0.304284</td>\n",
       "      <td>1.177535e+09</td>\n",
       "      <td>1.004109</td>\n",
       "      <td>1.874741e+10</td>\n",
       "      <td>172.300858</td>\n",
       "      <td>7.167016e+09</td>\n",
       "      <td>7954.127930</td>\n",
       "      <td>1.688113e+10</td>\n",
       "      <td>0.002511</td>\n",
       "      <td>4.096978e+07</td>\n",
       "      <td>18.719797</td>\n",
       "      <td>2.029773e+08</td>\n",
       "      <td>0.046158</td>\n",
       "      <td>5.512257e+07</td>\n",
       "    </tr>\n",
       "    <tr>\n",
       "      <th>75%</th>\n",
       "      <td>0.327847</td>\n",
       "      <td>1.609119e+09</td>\n",
       "      <td>1.006923</td>\n",
       "      <td>2.384616e+10</td>\n",
       "      <td>204.912735</td>\n",
       "      <td>8.756516e+09</td>\n",
       "      <td>9452.664551</td>\n",
       "      <td>2.222590e+10</td>\n",
       "      <td>0.002876</td>\n",
       "      <td>6.709682e+07</td>\n",
       "      <td>26.918622</td>\n",
       "      <td>2.638185e+08</td>\n",
       "      <td>0.068087</td>\n",
       "      <td>9.769852e+07</td>\n",
       "    </tr>\n",
       "    <tr>\n",
       "      <th>max</th>\n",
       "      <td>0.474764</td>\n",
       "      <td>9.415068e+09</td>\n",
       "      <td>1.024012</td>\n",
       "      <td>5.768716e+10</td>\n",
       "      <td>336.753174</td>\n",
       "      <td>1.866147e+10</td>\n",
       "      <td>13016.231450</td>\n",
       "      <td>4.510573e+10</td>\n",
       "      <td>0.003867</td>\n",
       "      <td>1.879242e+08</td>\n",
       "      <td>38.815918</td>\n",
       "      <td>7.423829e+08</td>\n",
       "      <td>0.097719</td>\n",
       "      <td>3.405129e+08</td>\n",
       "    </tr>\n",
       "  </tbody>\n",
       "</table>\n",
       "</div>"
      ],
      "text/plain": [
       "         XRP_USDp      XRP_USDv   USDT_USDp     USDT_USDv    ETH_USDp  \\\n",
       "count  387.000000  3.870000e+02  387.000000  3.870000e+02  387.000000   \n",
       "mean     0.304463  1.322503e+09    1.004706  1.835319e+10  180.025094   \n",
       "std      0.062379  8.114511e+08    0.005413  9.382605e+09   49.572333   \n",
       "min      0.183699  3.449603e+08    0.985739  3.139235e+09  104.535301   \n",
       "25%      0.261641  8.499153e+08    1.001648  1.137955e+10  141.961502   \n",
       "50%      0.304284  1.177535e+09    1.004109  1.874741e+10  172.300858   \n",
       "75%      0.327847  1.609119e+09    1.006923  2.384616e+10  204.912735   \n",
       "max      0.474764  9.415068e+09    1.024012  5.768716e+10  336.753174   \n",
       "\n",
       "           ETH_USDv      BTC_USDp      BTC_USDv   DOGE_USDp     DOGE_USDv  \\\n",
       "count  3.870000e+02    387.000000  3.870000e+02  387.000000  3.870000e+02   \n",
       "mean   7.169334e+09   7439.460176  1.734358e+10    0.002550  4.694708e+07   \n",
       "std    2.796594e+09   2572.648323  7.843399e+09    0.000437  2.867387e+07   \n",
       "min    2.212109e+09   3399.471680  4.324201e+09    0.001845  1.181302e+07   \n",
       "25%    5.497403e+09   5065.798096  1.212197e+10    0.002151  2.060637e+07   \n",
       "50%    7.167016e+09   7954.127930  1.688113e+10    0.002511  4.096978e+07   \n",
       "75%    8.756516e+09   9452.664551  2.222590e+10    0.002876  6.709682e+07   \n",
       "max    1.866147e+10  13016.231450  4.510573e+10    0.003867  1.879242e+08   \n",
       "\n",
       "         BNB_USDp      BNB_USDv    ADA_USDp      ADA_USDv  \n",
       "count  387.000000  3.870000e+02  387.000000  3.870000e+02  \n",
       "mean    19.844557  2.271456e+08    0.054561  7.279412e+07  \n",
       "std      8.155391  1.291383e+08    0.018393  5.436272e+07  \n",
       "min      5.568757  2.282164e+07    0.031800  1.101152e+07  \n",
       "25%     14.851648  1.527490e+08    0.041088  3.609635e+07  \n",
       "50%     18.719797  2.029773e+08    0.046158  5.512257e+07  \n",
       "75%     26.918622  2.638185e+08    0.068087  9.769852e+07  \n",
       "max     38.815918  7.423829e+08    0.097719  3.405129e+08  "
      ]
     },
     "execution_count": 92,
     "metadata": {},
     "output_type": "execute_result"
    }
   ],
   "source": [
    "## defining crypto currency data frame \n",
    "pb4covid=df.iloc[578:965]\n",
    "pb4covid.describe()\n"
   ]
  },
  {
   "cell_type": "code",
   "execution_count": 93,
   "metadata": {},
   "outputs": [
    {
     "data": {
      "text/html": [
       "<div>\n",
       "<style scoped>\n",
       "    .dataframe tbody tr th:only-of-type {\n",
       "        vertical-align: middle;\n",
       "    }\n",
       "\n",
       "    .dataframe tbody tr th {\n",
       "        vertical-align: top;\n",
       "    }\n",
       "\n",
       "    .dataframe thead th {\n",
       "        text-align: right;\n",
       "    }\n",
       "</style>\n",
       "<table border=\"1\" class=\"dataframe\">\n",
       "  <thead>\n",
       "    <tr style=\"text-align: right;\">\n",
       "      <th></th>\n",
       "      <th>XRP_USDp</th>\n",
       "      <th>XRP_USDv</th>\n",
       "      <th>USDT_USDp</th>\n",
       "      <th>USDT_USDv</th>\n",
       "      <th>ETH_USDp</th>\n",
       "      <th>ETH_USDv</th>\n",
       "      <th>BTC_USDp</th>\n",
       "      <th>BTC_USDv</th>\n",
       "      <th>DOGE_USDp</th>\n",
       "      <th>DOGE_USDv</th>\n",
       "      <th>BNB_USDp</th>\n",
       "      <th>BNB_USDv</th>\n",
       "      <th>ADA_USDp</th>\n",
       "      <th>ADA_USDv</th>\n",
       "    </tr>\n",
       "  </thead>\n",
       "  <tbody>\n",
       "    <tr>\n",
       "      <th>count</th>\n",
       "      <td>573.000000</td>\n",
       "      <td>5.730000e+02</td>\n",
       "      <td>573.000000</td>\n",
       "      <td>5.730000e+02</td>\n",
       "      <td>573.000000</td>\n",
       "      <td>5.730000e+02</td>\n",
       "      <td>573.000000</td>\n",
       "      <td>5.730000e+02</td>\n",
       "      <td>573.000000</td>\n",
       "      <td>5.730000e+02</td>\n",
       "      <td>573.000000</td>\n",
       "      <td>5.730000e+02</td>\n",
       "      <td>573.000000</td>\n",
       "      <td>5.730000e+02</td>\n",
       "    </tr>\n",
       "    <tr>\n",
       "      <th>mean</th>\n",
       "      <td>0.467271</td>\n",
       "      <td>5.051899e+09</td>\n",
       "      <td>1.001001</td>\n",
       "      <td>6.833526e+10</td>\n",
       "      <td>1069.170104</td>\n",
       "      <td>2.137650e+10</td>\n",
       "      <td>24707.921117</td>\n",
       "      <td>4.117874e+10</td>\n",
       "      <td>0.078548</td>\n",
       "      <td>2.234813e+09</td>\n",
       "      <td>137.603613</td>\n",
       "      <td>1.512124e+09</td>\n",
       "      <td>0.543874</td>\n",
       "      <td>2.188626e+09</td>\n",
       "    </tr>\n",
       "    <tr>\n",
       "      <th>std</th>\n",
       "      <td>0.362112</td>\n",
       "      <td>5.528018e+09</td>\n",
       "      <td>0.003528</td>\n",
       "      <td>4.198721e+10</td>\n",
       "      <td>1012.378729</td>\n",
       "      <td>1.219283e+10</td>\n",
       "      <td>17667.413966</td>\n",
       "      <td>2.274704e+10</td>\n",
       "      <td>0.134073</td>\n",
       "      <td>5.885580e+09</td>\n",
       "      <td>174.849038</td>\n",
       "      <td>2.104621e+09</td>\n",
       "      <td>0.628653</td>\n",
       "      <td>2.945887e+09</td>\n",
       "    </tr>\n",
       "    <tr>\n",
       "      <th>min</th>\n",
       "      <td>0.139635</td>\n",
       "      <td>8.283929e+08</td>\n",
       "      <td>0.974248</td>\n",
       "      <td>1.543096e+10</td>\n",
       "      <td>110.605873</td>\n",
       "      <td>5.109033e+09</td>\n",
       "      <td>4970.788086</td>\n",
       "      <td>1.225260e+10</td>\n",
       "      <td>0.001537</td>\n",
       "      <td>2.275453e+07</td>\n",
       "      <td>9.386050</td>\n",
       "      <td>1.365992e+08</td>\n",
       "      <td>0.023961</td>\n",
       "      <td>5.738998e+07</td>\n",
       "    </tr>\n",
       "    <tr>\n",
       "      <th>25%</th>\n",
       "      <td>0.221657</td>\n",
       "      <td>1.847483e+09</td>\n",
       "      <td>1.000074</td>\n",
       "      <td>4.032171e+10</td>\n",
       "      <td>239.075531</td>\n",
       "      <td>1.247393e+10</td>\n",
       "      <td>9581.072266</td>\n",
       "      <td>2.611411e+10</td>\n",
       "      <td>0.002584</td>\n",
       "      <td>9.663243e+07</td>\n",
       "      <td>18.218321</td>\n",
       "      <td>3.086701e+08</td>\n",
       "      <td>0.080561</td>\n",
       "      <td>2.273359e+08</td>\n",
       "    </tr>\n",
       "    <tr>\n",
       "      <th>50%</th>\n",
       "      <td>0.283039</td>\n",
       "      <td>2.626152e+09</td>\n",
       "      <td>1.000583</td>\n",
       "      <td>5.454697e+10</td>\n",
       "      <td>449.679626</td>\n",
       "      <td>1.826088e+10</td>\n",
       "      <td>15479.567380</td>\n",
       "      <td>3.698506e+10</td>\n",
       "      <td>0.003389</td>\n",
       "      <td>1.881847e+08</td>\n",
       "      <td>29.018000</td>\n",
       "      <td>4.614352e+08</td>\n",
       "      <td>0.138798</td>\n",
       "      <td>7.985505e+08</td>\n",
       "    </tr>\n",
       "    <tr>\n",
       "      <th>75%</th>\n",
       "      <td>0.606357</td>\n",
       "      <td>6.283634e+09</td>\n",
       "      <td>1.001528</td>\n",
       "      <td>8.748347e+10</td>\n",
       "      <td>1880.382935</td>\n",
       "      <td>2.651148e+10</td>\n",
       "      <td>38144.308590</td>\n",
       "      <td>5.100073e+10</td>\n",
       "      <td>0.062432</td>\n",
       "      <td>1.613812e+09</td>\n",
       "      <td>280.018616</td>\n",
       "      <td>2.010488e+09</td>\n",
       "      <td>1.191124</td>\n",
       "      <td>3.106871e+09</td>\n",
       "    </tr>\n",
       "    <tr>\n",
       "      <th>max</th>\n",
       "      <td>1.839236</td>\n",
       "      <td>3.695518e+10</td>\n",
       "      <td>1.053585</td>\n",
       "      <td>2.790000e+11</td>\n",
       "      <td>4168.701172</td>\n",
       "      <td>8.448291e+10</td>\n",
       "      <td>63503.457030</td>\n",
       "      <td>3.510000e+11</td>\n",
       "      <td>0.684777</td>\n",
       "      <td>6.941068e+10</td>\n",
       "      <td>675.684082</td>\n",
       "      <td>1.798295e+10</td>\n",
       "      <td>2.457702</td>\n",
       "      <td>1.914198e+10</td>\n",
       "    </tr>\n",
       "  </tbody>\n",
       "</table>\n",
       "</div>"
      ],
      "text/plain": [
       "         XRP_USDp      XRP_USDv   USDT_USDp     USDT_USDv     ETH_USDp  \\\n",
       "count  573.000000  5.730000e+02  573.000000  5.730000e+02   573.000000   \n",
       "mean     0.467271  5.051899e+09    1.001001  6.833526e+10  1069.170104   \n",
       "std      0.362112  5.528018e+09    0.003528  4.198721e+10  1012.378729   \n",
       "min      0.139635  8.283929e+08    0.974248  1.543096e+10   110.605873   \n",
       "25%      0.221657  1.847483e+09    1.000074  4.032171e+10   239.075531   \n",
       "50%      0.283039  2.626152e+09    1.000583  5.454697e+10   449.679626   \n",
       "75%      0.606357  6.283634e+09    1.001528  8.748347e+10  1880.382935   \n",
       "max      1.839236  3.695518e+10    1.053585  2.790000e+11  4168.701172   \n",
       "\n",
       "           ETH_USDv      BTC_USDp      BTC_USDv   DOGE_USDp     DOGE_USDv  \\\n",
       "count  5.730000e+02    573.000000  5.730000e+02  573.000000  5.730000e+02   \n",
       "mean   2.137650e+10  24707.921117  4.117874e+10    0.078548  2.234813e+09   \n",
       "std    1.219283e+10  17667.413966  2.274704e+10    0.134073  5.885580e+09   \n",
       "min    5.109033e+09   4970.788086  1.225260e+10    0.001537  2.275453e+07   \n",
       "25%    1.247393e+10   9581.072266  2.611411e+10    0.002584  9.663243e+07   \n",
       "50%    1.826088e+10  15479.567380  3.698506e+10    0.003389  1.881847e+08   \n",
       "75%    2.651148e+10  38144.308590  5.100073e+10    0.062432  1.613812e+09   \n",
       "max    8.448291e+10  63503.457030  3.510000e+11    0.684777  6.941068e+10   \n",
       "\n",
       "         BNB_USDp      BNB_USDv    ADA_USDp      ADA_USDv  \n",
       "count  573.000000  5.730000e+02  573.000000  5.730000e+02  \n",
       "mean   137.603613  1.512124e+09    0.543874  2.188626e+09  \n",
       "std    174.849038  2.104621e+09    0.628653  2.945887e+09  \n",
       "min      9.386050  1.365992e+08    0.023961  5.738998e+07  \n",
       "25%     18.218321  3.086701e+08    0.080561  2.273359e+08  \n",
       "50%     29.018000  4.614352e+08    0.138798  7.985505e+08  \n",
       "75%    280.018616  2.010488e+09    1.191124  3.106871e+09  \n",
       "max    675.684082  1.798295e+10    2.457702  1.914198e+10  "
      ]
     },
     "execution_count": 93,
     "metadata": {},
     "output_type": "execute_result"
    }
   ],
   "source": [
    "paftcovid=df.iloc[1:578]\n",
    "paftcovid.describe()"
   ]
  },
  {
   "cell_type": "code",
   "execution_count": 94,
   "metadata": {},
   "outputs": [
    {
     "name": "stderr",
     "output_type": "stream",
     "text": [
      "C:\\Users\\Gibson\\anaconda3\\lib\\site-packages\\scipy\\stats\\_distn_infrastructure.py:903: RuntimeWarning: invalid value encountered in greater\n",
      "  return (a < x) & (x < b)\n",
      "C:\\Users\\Gibson\\anaconda3\\lib\\site-packages\\scipy\\stats\\_distn_infrastructure.py:903: RuntimeWarning: invalid value encountered in less\n",
      "  return (a < x) & (x < b)\n",
      "C:\\Users\\Gibson\\anaconda3\\lib\\site-packages\\scipy\\stats\\_distn_infrastructure.py:1912: RuntimeWarning: invalid value encountered in less_equal\n",
      "  cond2 = cond0 & (x <= _a)\n"
     ]
    },
    {
     "data": {
      "text/plain": [
       "Ttest_indResult(statistic=nan, pvalue=nan)"
      ]
     },
     "execution_count": 94,
     "metadata": {},
     "output_type": "execute_result"
    }
   ],
   "source": [
    "##TEST FOR TH EPRICE DIFFERENCES BEFORE AND AFTER \n",
    "\n",
    "pXRP_USDpaft=paftcovid['XRP_USDp']\n",
    "pXRP_USDpb4=pb4covid['XRP_USDp']\n",
    "stats.ttest_ind(pXRP_USDpaft, pXRP_USDpb4)"
   ]
  },
  {
   "cell_type": "code",
   "execution_count": 95,
   "metadata": {},
   "outputs": [
    {
     "data": {
      "text/plain": [
       "Ttest_indResult(statistic=nan, pvalue=nan)"
      ]
     },
     "execution_count": 95,
     "metadata": {},
     "output_type": "execute_result"
    }
   ],
   "source": [
    "pUSDT_USDpaft=paftcovid['USDT_USDp']\n",
    "pUSDT_USDpb4=pb4covid['USDT_USDp']\n",
    "stats.ttest_ind(pUSDT_USDpaft, pUSDT_USDpb4)"
   ]
  },
  {
   "cell_type": "code",
   "execution_count": 96,
   "metadata": {},
   "outputs": [
    {
     "data": {
      "text/plain": [
       "Ttest_indResult(statistic=nan, pvalue=nan)"
      ]
     },
     "execution_count": 96,
     "metadata": {},
     "output_type": "execute_result"
    }
   ],
   "source": [
    "pETH_USDp_RETURNSaft=paftcovid['ETH_USDp']\n",
    "pETH_USDp_RETURNSb4=pb4covid['ETH_USDp']\n",
    "stats.ttest_ind(pETH_USDp_RETURNSaft, pETH_USDp_RETURNSb4)"
   ]
  },
  {
   "cell_type": "code",
   "execution_count": 97,
   "metadata": {},
   "outputs": [
    {
     "data": {
      "text/plain": [
       "Ttest_indResult(statistic=nan, pvalue=nan)"
      ]
     },
     "execution_count": 97,
     "metadata": {},
     "output_type": "execute_result"
    }
   ],
   "source": [
    "pBTC_USDpaft=paftcovid['BTC_USDp']\n",
    "pBTC_USDpb4=pb4covid['BTC_USDp']\n",
    "stats.ttest_ind(pBTC_USDpaft, pBTC_USDpb4)"
   ]
  },
  {
   "cell_type": "code",
   "execution_count": 98,
   "metadata": {},
   "outputs": [
    {
     "data": {
      "text/plain": [
       "Ttest_indResult(statistic=nan, pvalue=nan)"
      ]
     },
     "execution_count": 98,
     "metadata": {},
     "output_type": "execute_result"
    }
   ],
   "source": [
    "pDOGE_USDpaft=paftcovid['DOGE_USDp']\n",
    "pDOGE_USDpb4=pb4covid['DOGE_USDp']\n",
    "stats.ttest_ind(pDOGE_USDpaft, pDOGE_USDpb4)"
   ]
  },
  {
   "cell_type": "code",
   "execution_count": 99,
   "metadata": {},
   "outputs": [
    {
     "data": {
      "text/plain": [
       "Ttest_indResult(statistic=nan, pvalue=nan)"
      ]
     },
     "execution_count": 99,
     "metadata": {},
     "output_type": "execute_result"
    }
   ],
   "source": [
    "pBNB_USDpaft=paftcovid['BNB_USDp']\n",
    "pBNB_USDPb4=pb4covid['BNB_USDp']\n",
    "stats.ttest_ind(pBNB_USDpaft, pBNB_USDPb4)"
   ]
  },
  {
   "cell_type": "code",
   "execution_count": 100,
   "metadata": {},
   "outputs": [
    {
     "data": {
      "text/html": [
       "<div>\n",
       "<style scoped>\n",
       "    .dataframe tbody tr th:only-of-type {\n",
       "        vertical-align: middle;\n",
       "    }\n",
       "\n",
       "    .dataframe tbody tr th {\n",
       "        vertical-align: top;\n",
       "    }\n",
       "\n",
       "    .dataframe thead th {\n",
       "        text-align: right;\n",
       "    }\n",
       "</style>\n",
       "<table border=\"1\" class=\"dataframe\">\n",
       "  <thead>\n",
       "    <tr style=\"text-align: right;\">\n",
       "      <th></th>\n",
       "      <th>XRP_USDp</th>\n",
       "      <th>XRP_USDv</th>\n",
       "      <th>USDT_USDp</th>\n",
       "      <th>USDT_USDv</th>\n",
       "      <th>ETH_USDp</th>\n",
       "      <th>ETH_USDv</th>\n",
       "      <th>BTC_USDp</th>\n",
       "      <th>BTC_USDv</th>\n",
       "      <th>DOGE_USDp</th>\n",
       "      <th>DOGE_USDv</th>\n",
       "      <th>BNB_USDp</th>\n",
       "      <th>BNB_USDv</th>\n",
       "      <th>ADA_USDp</th>\n",
       "      <th>ADA_USDv</th>\n",
       "    </tr>\n",
       "  </thead>\n",
       "  <tbody>\n",
       "    <tr>\n",
       "      <th>count</th>\n",
       "      <td>387.000000</td>\n",
       "      <td>3.870000e+02</td>\n",
       "      <td>387.000000</td>\n",
       "      <td>3.870000e+02</td>\n",
       "      <td>387.000000</td>\n",
       "      <td>3.870000e+02</td>\n",
       "      <td>387.000000</td>\n",
       "      <td>3.870000e+02</td>\n",
       "      <td>387.000000</td>\n",
       "      <td>3.870000e+02</td>\n",
       "      <td>387.000000</td>\n",
       "      <td>3.870000e+02</td>\n",
       "      <td>387.000000</td>\n",
       "      <td>3.870000e+02</td>\n",
       "    </tr>\n",
       "    <tr>\n",
       "      <th>mean</th>\n",
       "      <td>0.304463</td>\n",
       "      <td>1.322503e+09</td>\n",
       "      <td>1.004706</td>\n",
       "      <td>1.835319e+10</td>\n",
       "      <td>180.025094</td>\n",
       "      <td>7.169334e+09</td>\n",
       "      <td>7439.460176</td>\n",
       "      <td>1.734358e+10</td>\n",
       "      <td>0.002550</td>\n",
       "      <td>4.694708e+07</td>\n",
       "      <td>19.844557</td>\n",
       "      <td>2.271456e+08</td>\n",
       "      <td>0.054561</td>\n",
       "      <td>7.279412e+07</td>\n",
       "    </tr>\n",
       "    <tr>\n",
       "      <th>std</th>\n",
       "      <td>0.062379</td>\n",
       "      <td>8.114511e+08</td>\n",
       "      <td>0.005413</td>\n",
       "      <td>9.382605e+09</td>\n",
       "      <td>49.572333</td>\n",
       "      <td>2.796594e+09</td>\n",
       "      <td>2572.648323</td>\n",
       "      <td>7.843399e+09</td>\n",
       "      <td>0.000437</td>\n",
       "      <td>2.867387e+07</td>\n",
       "      <td>8.155391</td>\n",
       "      <td>1.291383e+08</td>\n",
       "      <td>0.018393</td>\n",
       "      <td>5.436272e+07</td>\n",
       "    </tr>\n",
       "    <tr>\n",
       "      <th>min</th>\n",
       "      <td>0.183699</td>\n",
       "      <td>3.449603e+08</td>\n",
       "      <td>0.985739</td>\n",
       "      <td>3.139235e+09</td>\n",
       "      <td>104.535301</td>\n",
       "      <td>2.212109e+09</td>\n",
       "      <td>3399.471680</td>\n",
       "      <td>4.324201e+09</td>\n",
       "      <td>0.001845</td>\n",
       "      <td>1.181302e+07</td>\n",
       "      <td>5.568757</td>\n",
       "      <td>2.282164e+07</td>\n",
       "      <td>0.031800</td>\n",
       "      <td>1.101152e+07</td>\n",
       "    </tr>\n",
       "    <tr>\n",
       "      <th>25%</th>\n",
       "      <td>0.261641</td>\n",
       "      <td>8.499153e+08</td>\n",
       "      <td>1.001648</td>\n",
       "      <td>1.137955e+10</td>\n",
       "      <td>141.961502</td>\n",
       "      <td>5.497403e+09</td>\n",
       "      <td>5065.798096</td>\n",
       "      <td>1.212197e+10</td>\n",
       "      <td>0.002151</td>\n",
       "      <td>2.060637e+07</td>\n",
       "      <td>14.851648</td>\n",
       "      <td>1.527490e+08</td>\n",
       "      <td>0.041088</td>\n",
       "      <td>3.609635e+07</td>\n",
       "    </tr>\n",
       "    <tr>\n",
       "      <th>50%</th>\n",
       "      <td>0.304284</td>\n",
       "      <td>1.177535e+09</td>\n",
       "      <td>1.004109</td>\n",
       "      <td>1.874741e+10</td>\n",
       "      <td>172.300858</td>\n",
       "      <td>7.167016e+09</td>\n",
       "      <td>7954.127930</td>\n",
       "      <td>1.688113e+10</td>\n",
       "      <td>0.002511</td>\n",
       "      <td>4.096978e+07</td>\n",
       "      <td>18.719797</td>\n",
       "      <td>2.029773e+08</td>\n",
       "      <td>0.046158</td>\n",
       "      <td>5.512257e+07</td>\n",
       "    </tr>\n",
       "    <tr>\n",
       "      <th>75%</th>\n",
       "      <td>0.327847</td>\n",
       "      <td>1.609119e+09</td>\n",
       "      <td>1.006923</td>\n",
       "      <td>2.384616e+10</td>\n",
       "      <td>204.912735</td>\n",
       "      <td>8.756516e+09</td>\n",
       "      <td>9452.664551</td>\n",
       "      <td>2.222590e+10</td>\n",
       "      <td>0.002876</td>\n",
       "      <td>6.709682e+07</td>\n",
       "      <td>26.918622</td>\n",
       "      <td>2.638185e+08</td>\n",
       "      <td>0.068087</td>\n",
       "      <td>9.769852e+07</td>\n",
       "    </tr>\n",
       "    <tr>\n",
       "      <th>max</th>\n",
       "      <td>0.474764</td>\n",
       "      <td>9.415068e+09</td>\n",
       "      <td>1.024012</td>\n",
       "      <td>5.768716e+10</td>\n",
       "      <td>336.753174</td>\n",
       "      <td>1.866147e+10</td>\n",
       "      <td>13016.231450</td>\n",
       "      <td>4.510573e+10</td>\n",
       "      <td>0.003867</td>\n",
       "      <td>1.879242e+08</td>\n",
       "      <td>38.815918</td>\n",
       "      <td>7.423829e+08</td>\n",
       "      <td>0.097719</td>\n",
       "      <td>3.405129e+08</td>\n",
       "    </tr>\n",
       "  </tbody>\n",
       "</table>\n",
       "</div>"
      ],
      "text/plain": [
       "         XRP_USDp      XRP_USDv   USDT_USDp     USDT_USDv    ETH_USDp  \\\n",
       "count  387.000000  3.870000e+02  387.000000  3.870000e+02  387.000000   \n",
       "mean     0.304463  1.322503e+09    1.004706  1.835319e+10  180.025094   \n",
       "std      0.062379  8.114511e+08    0.005413  9.382605e+09   49.572333   \n",
       "min      0.183699  3.449603e+08    0.985739  3.139235e+09  104.535301   \n",
       "25%      0.261641  8.499153e+08    1.001648  1.137955e+10  141.961502   \n",
       "50%      0.304284  1.177535e+09    1.004109  1.874741e+10  172.300858   \n",
       "75%      0.327847  1.609119e+09    1.006923  2.384616e+10  204.912735   \n",
       "max      0.474764  9.415068e+09    1.024012  5.768716e+10  336.753174   \n",
       "\n",
       "           ETH_USDv      BTC_USDp      BTC_USDv   DOGE_USDp     DOGE_USDv  \\\n",
       "count  3.870000e+02    387.000000  3.870000e+02  387.000000  3.870000e+02   \n",
       "mean   7.169334e+09   7439.460176  1.734358e+10    0.002550  4.694708e+07   \n",
       "std    2.796594e+09   2572.648323  7.843399e+09    0.000437  2.867387e+07   \n",
       "min    2.212109e+09   3399.471680  4.324201e+09    0.001845  1.181302e+07   \n",
       "25%    5.497403e+09   5065.798096  1.212197e+10    0.002151  2.060637e+07   \n",
       "50%    7.167016e+09   7954.127930  1.688113e+10    0.002511  4.096978e+07   \n",
       "75%    8.756516e+09   9452.664551  2.222590e+10    0.002876  6.709682e+07   \n",
       "max    1.866147e+10  13016.231450  4.510573e+10    0.003867  1.879242e+08   \n",
       "\n",
       "         BNB_USDp      BNB_USDv    ADA_USDp      ADA_USDv  \n",
       "count  387.000000  3.870000e+02  387.000000  3.870000e+02  \n",
       "mean    19.844557  2.271456e+08    0.054561  7.279412e+07  \n",
       "std      8.155391  1.291383e+08    0.018393  5.436272e+07  \n",
       "min      5.568757  2.282164e+07    0.031800  1.101152e+07  \n",
       "25%     14.851648  1.527490e+08    0.041088  3.609635e+07  \n",
       "50%     18.719797  2.029773e+08    0.046158  5.512257e+07  \n",
       "75%     26.918622  2.638185e+08    0.068087  9.769852e+07  \n",
       "max     38.815918  7.423829e+08    0.097719  3.405129e+08  "
      ]
     },
     "execution_count": 100,
     "metadata": {},
     "output_type": "execute_result"
    }
   ],
   "source": [
    "pb4covid.describe()"
   ]
  },
  {
   "cell_type": "code",
   "execution_count": null,
   "metadata": {},
   "outputs": [],
   "source": []
  },
  {
   "cell_type": "code",
   "execution_count": null,
   "metadata": {},
   "outputs": [],
   "source": []
  },
  {
   "cell_type": "code",
   "execution_count": null,
   "metadata": {},
   "outputs": [],
   "source": []
  },
  {
   "cell_type": "code",
   "execution_count": null,
   "metadata": {},
   "outputs": [],
   "source": []
  }
 ],
 "metadata": {
  "kernelspec": {
   "display_name": "Python 3",
   "language": "python",
   "name": "python3"
  },
  "language_info": {
   "codemirror_mode": {
    "name": "ipython",
    "version": 3
   },
   "file_extension": ".py",
   "mimetype": "text/x-python",
   "name": "python",
   "nbconvert_exporter": "python",
   "pygments_lexer": "ipython3",
   "version": "3.7.6"
  }
 },
 "nbformat": 4,
 "nbformat_minor": 4
}
